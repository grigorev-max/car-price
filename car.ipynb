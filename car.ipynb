{
  "nbformat": 4,
  "nbformat_minor": 0,
  "metadata": {
    "colab": {
      "name": "car",
      "provenance": [],
      "collapsed_sections": [
        "Fyfsi-TotVoX"
      ]
    },
    "kernelspec": {
      "name": "python3",
      "display_name": "Python 3"
    }
  },
  "cells": [
    {
      "cell_type": "markdown",
      "metadata": {
        "id": "R7GuMcXdV_-q",
        "colab_type": "text"
      },
      "source": [
        "# Постановка задачи"
      ]
    },
    {
      "cell_type": "markdown",
      "metadata": {
        "id": "vtWiX4VRYcS0",
        "colab_type": "text"
      },
      "source": [
        "Китайская автомобильная компания Geely Auto стремится выйти на рынок США, создав там свое производственное подразделение и производя автомобили на местном уровне, чтобы конкурировать с американскими и европейскими коллегами.\n",
        "\n",
        "Они заключили договор с автомобильной консалтинговой компанией, чтобы понять факторы, от которых зависит цена автомобилей. В частности, они хотят понять факторы, влияющие на цены автомобилей на американском рынке, поскольку они могут сильно отличаться от китайского рынка. Компания хочет знать:\n",
        "\n",
        "- Какие переменные являются значимыми в прогнозировании цены автомобиля\n",
        "- Насколько хорошо эти переменные описывают цену автомобиля\n",
        "\n",
        "Основываясь на различных обзорах рынка, консалтинговая фирма собрала большой набор данных о различных типах автомобилей на американском рынке."
      ]
    },
    {
      "cell_type": "markdown",
      "metadata": {
        "id": "EFBCiF1yt0HB",
        "colab_type": "text"
      },
      "source": [
        "# Импорт данных\n"
      ]
    },
    {
      "cell_type": "code",
      "metadata": {
        "id": "pWPlav94K4NW",
        "colab_type": "code",
        "colab": {}
      },
      "source": [
        "import pandas as pd\n",
        "import numpy as np\n",
        "import os\n",
        "import time\n",
        "from sklearn.model_selection import train_test_split\n",
        "import matplotlib.pyplot as plt\n",
        "from sklearn.linear_model import LogisticRegression\n",
        "from sklearn.model_selection import GridSearchCV\n",
        "from sklearn.svm import SVC\n",
        "import seaborn as sns"
      ],
      "execution_count": 0,
      "outputs": []
    },
    {
      "cell_type": "code",
      "metadata": {
        "id": "BwVECTjWLAB9",
        "colab_type": "code",
        "outputId": "670a5deb-fc3a-43f2-febf-4d824c7549de",
        "colab": {
          "base_uri": "https://localhost:8080/",
          "height": 505
        }
      },
      "source": [
        "dataset = pd.read_csv('https://raw.githubusercontent.com/grigorev-max/car-price/master/car%20price%20dataset')\n",
        "dataset"
      ],
      "execution_count": 505,
      "outputs": [
        {
          "output_type": "execute_result",
          "data": {
            "text/html": [
              "<div>\n",
              "<style scoped>\n",
              "    .dataframe tbody tr th:only-of-type {\n",
              "        vertical-align: middle;\n",
              "    }\n",
              "\n",
              "    .dataframe tbody tr th {\n",
              "        vertical-align: top;\n",
              "    }\n",
              "\n",
              "    .dataframe thead th {\n",
              "        text-align: right;\n",
              "    }\n",
              "</style>\n",
              "<table border=\"1\" class=\"dataframe\">\n",
              "  <thead>\n",
              "    <tr style=\"text-align: right;\">\n",
              "      <th></th>\n",
              "      <th>car_ID</th>\n",
              "      <th>symboling</th>\n",
              "      <th>CarName</th>\n",
              "      <th>fueltype</th>\n",
              "      <th>aspiration</th>\n",
              "      <th>doornumber</th>\n",
              "      <th>carbody</th>\n",
              "      <th>drivewheel</th>\n",
              "      <th>enginelocation</th>\n",
              "      <th>wheelbase</th>\n",
              "      <th>carlength</th>\n",
              "      <th>carwidth</th>\n",
              "      <th>carheight</th>\n",
              "      <th>curbweight</th>\n",
              "      <th>enginetype</th>\n",
              "      <th>cylindernumber</th>\n",
              "      <th>enginesize</th>\n",
              "      <th>fuelsystem</th>\n",
              "      <th>boreratio</th>\n",
              "      <th>stroke</th>\n",
              "      <th>compressionratio</th>\n",
              "      <th>horsepower</th>\n",
              "      <th>peakrpm</th>\n",
              "      <th>citympg</th>\n",
              "      <th>highwaympg</th>\n",
              "      <th>price</th>\n",
              "    </tr>\n",
              "  </thead>\n",
              "  <tbody>\n",
              "    <tr>\n",
              "      <th>0</th>\n",
              "      <td>1</td>\n",
              "      <td>3</td>\n",
              "      <td>alfa-romero giulia</td>\n",
              "      <td>gas</td>\n",
              "      <td>std</td>\n",
              "      <td>two</td>\n",
              "      <td>convertible</td>\n",
              "      <td>rwd</td>\n",
              "      <td>front</td>\n",
              "      <td>88.6</td>\n",
              "      <td>168.8</td>\n",
              "      <td>64.1</td>\n",
              "      <td>48.8</td>\n",
              "      <td>2548</td>\n",
              "      <td>dohc</td>\n",
              "      <td>four</td>\n",
              "      <td>130</td>\n",
              "      <td>mpfi</td>\n",
              "      <td>3.47</td>\n",
              "      <td>2.68</td>\n",
              "      <td>9.0</td>\n",
              "      <td>111</td>\n",
              "      <td>5000</td>\n",
              "      <td>21</td>\n",
              "      <td>27</td>\n",
              "      <td>13495.0</td>\n",
              "    </tr>\n",
              "    <tr>\n",
              "      <th>1</th>\n",
              "      <td>2</td>\n",
              "      <td>3</td>\n",
              "      <td>alfa-romero stelvio</td>\n",
              "      <td>gas</td>\n",
              "      <td>std</td>\n",
              "      <td>two</td>\n",
              "      <td>convertible</td>\n",
              "      <td>rwd</td>\n",
              "      <td>front</td>\n",
              "      <td>88.6</td>\n",
              "      <td>168.8</td>\n",
              "      <td>64.1</td>\n",
              "      <td>48.8</td>\n",
              "      <td>2548</td>\n",
              "      <td>dohc</td>\n",
              "      <td>four</td>\n",
              "      <td>130</td>\n",
              "      <td>mpfi</td>\n",
              "      <td>3.47</td>\n",
              "      <td>2.68</td>\n",
              "      <td>9.0</td>\n",
              "      <td>111</td>\n",
              "      <td>5000</td>\n",
              "      <td>21</td>\n",
              "      <td>27</td>\n",
              "      <td>16500.0</td>\n",
              "    </tr>\n",
              "    <tr>\n",
              "      <th>2</th>\n",
              "      <td>3</td>\n",
              "      <td>1</td>\n",
              "      <td>alfa-romero Quadrifoglio</td>\n",
              "      <td>gas</td>\n",
              "      <td>std</td>\n",
              "      <td>two</td>\n",
              "      <td>hatchback</td>\n",
              "      <td>rwd</td>\n",
              "      <td>front</td>\n",
              "      <td>94.5</td>\n",
              "      <td>171.2</td>\n",
              "      <td>65.5</td>\n",
              "      <td>52.4</td>\n",
              "      <td>2823</td>\n",
              "      <td>ohcv</td>\n",
              "      <td>six</td>\n",
              "      <td>152</td>\n",
              "      <td>mpfi</td>\n",
              "      <td>2.68</td>\n",
              "      <td>3.47</td>\n",
              "      <td>9.0</td>\n",
              "      <td>154</td>\n",
              "      <td>5000</td>\n",
              "      <td>19</td>\n",
              "      <td>26</td>\n",
              "      <td>16500.0</td>\n",
              "    </tr>\n",
              "    <tr>\n",
              "      <th>3</th>\n",
              "      <td>4</td>\n",
              "      <td>2</td>\n",
              "      <td>audi 100 ls</td>\n",
              "      <td>gas</td>\n",
              "      <td>std</td>\n",
              "      <td>four</td>\n",
              "      <td>sedan</td>\n",
              "      <td>fwd</td>\n",
              "      <td>front</td>\n",
              "      <td>99.8</td>\n",
              "      <td>176.6</td>\n",
              "      <td>66.2</td>\n",
              "      <td>54.3</td>\n",
              "      <td>2337</td>\n",
              "      <td>ohc</td>\n",
              "      <td>four</td>\n",
              "      <td>109</td>\n",
              "      <td>mpfi</td>\n",
              "      <td>3.19</td>\n",
              "      <td>3.40</td>\n",
              "      <td>10.0</td>\n",
              "      <td>102</td>\n",
              "      <td>5500</td>\n",
              "      <td>24</td>\n",
              "      <td>30</td>\n",
              "      <td>13950.0</td>\n",
              "    </tr>\n",
              "    <tr>\n",
              "      <th>4</th>\n",
              "      <td>5</td>\n",
              "      <td>2</td>\n",
              "      <td>audi 100ls</td>\n",
              "      <td>gas</td>\n",
              "      <td>std</td>\n",
              "      <td>four</td>\n",
              "      <td>sedan</td>\n",
              "      <td>4wd</td>\n",
              "      <td>front</td>\n",
              "      <td>99.4</td>\n",
              "      <td>176.6</td>\n",
              "      <td>66.4</td>\n",
              "      <td>54.3</td>\n",
              "      <td>2824</td>\n",
              "      <td>ohc</td>\n",
              "      <td>five</td>\n",
              "      <td>136</td>\n",
              "      <td>mpfi</td>\n",
              "      <td>3.19</td>\n",
              "      <td>3.40</td>\n",
              "      <td>8.0</td>\n",
              "      <td>115</td>\n",
              "      <td>5500</td>\n",
              "      <td>18</td>\n",
              "      <td>22</td>\n",
              "      <td>17450.0</td>\n",
              "    </tr>\n",
              "    <tr>\n",
              "      <th>...</th>\n",
              "      <td>...</td>\n",
              "      <td>...</td>\n",
              "      <td>...</td>\n",
              "      <td>...</td>\n",
              "      <td>...</td>\n",
              "      <td>...</td>\n",
              "      <td>...</td>\n",
              "      <td>...</td>\n",
              "      <td>...</td>\n",
              "      <td>...</td>\n",
              "      <td>...</td>\n",
              "      <td>...</td>\n",
              "      <td>...</td>\n",
              "      <td>...</td>\n",
              "      <td>...</td>\n",
              "      <td>...</td>\n",
              "      <td>...</td>\n",
              "      <td>...</td>\n",
              "      <td>...</td>\n",
              "      <td>...</td>\n",
              "      <td>...</td>\n",
              "      <td>...</td>\n",
              "      <td>...</td>\n",
              "      <td>...</td>\n",
              "      <td>...</td>\n",
              "      <td>...</td>\n",
              "    </tr>\n",
              "    <tr>\n",
              "      <th>204</th>\n",
              "      <td>201</td>\n",
              "      <td>-1</td>\n",
              "      <td>volvo 145e (sw)</td>\n",
              "      <td>gas</td>\n",
              "      <td>std</td>\n",
              "      <td>four</td>\n",
              "      <td>sedan</td>\n",
              "      <td>rwd</td>\n",
              "      <td>front</td>\n",
              "      <td>109.1</td>\n",
              "      <td>188.8</td>\n",
              "      <td>68.9</td>\n",
              "      <td>55.5</td>\n",
              "      <td>2952</td>\n",
              "      <td>ohc</td>\n",
              "      <td>four</td>\n",
              "      <td>141</td>\n",
              "      <td>mpfi</td>\n",
              "      <td>3.78</td>\n",
              "      <td>3.15</td>\n",
              "      <td>9.5</td>\n",
              "      <td>114</td>\n",
              "      <td>5400</td>\n",
              "      <td>23</td>\n",
              "      <td>28</td>\n",
              "      <td>16845.0</td>\n",
              "    </tr>\n",
              "    <tr>\n",
              "      <th>205</th>\n",
              "      <td>202</td>\n",
              "      <td>-1</td>\n",
              "      <td>volvo 144ea</td>\n",
              "      <td>gas</td>\n",
              "      <td>turbo</td>\n",
              "      <td>four</td>\n",
              "      <td>sedan</td>\n",
              "      <td>rwd</td>\n",
              "      <td>front</td>\n",
              "      <td>109.1</td>\n",
              "      <td>188.8</td>\n",
              "      <td>68.8</td>\n",
              "      <td>55.5</td>\n",
              "      <td>3049</td>\n",
              "      <td>ohc</td>\n",
              "      <td>four</td>\n",
              "      <td>141</td>\n",
              "      <td>mpfi</td>\n",
              "      <td>3.78</td>\n",
              "      <td>3.15</td>\n",
              "      <td>8.7</td>\n",
              "      <td>160</td>\n",
              "      <td>5300</td>\n",
              "      <td>19</td>\n",
              "      <td>25</td>\n",
              "      <td>19045.0</td>\n",
              "    </tr>\n",
              "    <tr>\n",
              "      <th>206</th>\n",
              "      <td>203</td>\n",
              "      <td>-1</td>\n",
              "      <td>volvo 244dl</td>\n",
              "      <td>gas</td>\n",
              "      <td>std</td>\n",
              "      <td>four</td>\n",
              "      <td>sedan</td>\n",
              "      <td>rwd</td>\n",
              "      <td>front</td>\n",
              "      <td>109.1</td>\n",
              "      <td>188.8</td>\n",
              "      <td>68.9</td>\n",
              "      <td>55.5</td>\n",
              "      <td>3012</td>\n",
              "      <td>ohcv</td>\n",
              "      <td>six</td>\n",
              "      <td>173</td>\n",
              "      <td>mpfi</td>\n",
              "      <td>3.58</td>\n",
              "      <td>2.87</td>\n",
              "      <td>8.8</td>\n",
              "      <td>134</td>\n",
              "      <td>5500</td>\n",
              "      <td>18</td>\n",
              "      <td>23</td>\n",
              "      <td>21485.0</td>\n",
              "    </tr>\n",
              "    <tr>\n",
              "      <th>207</th>\n",
              "      <td>204</td>\n",
              "      <td>-1</td>\n",
              "      <td>volvo 246</td>\n",
              "      <td>diesel</td>\n",
              "      <td>turbo</td>\n",
              "      <td>four</td>\n",
              "      <td>sedan</td>\n",
              "      <td>rwd</td>\n",
              "      <td>front</td>\n",
              "      <td>109.1</td>\n",
              "      <td>188.8</td>\n",
              "      <td>68.9</td>\n",
              "      <td>55.5</td>\n",
              "      <td>3217</td>\n",
              "      <td>ohc</td>\n",
              "      <td>six</td>\n",
              "      <td>145</td>\n",
              "      <td>idi</td>\n",
              "      <td>3.01</td>\n",
              "      <td>3.40</td>\n",
              "      <td>23.0</td>\n",
              "      <td>106</td>\n",
              "      <td>4800</td>\n",
              "      <td>26</td>\n",
              "      <td>27</td>\n",
              "      <td>22470.0</td>\n",
              "    </tr>\n",
              "    <tr>\n",
              "      <th>208</th>\n",
              "      <td>205</td>\n",
              "      <td>-1</td>\n",
              "      <td>volvo 264gl</td>\n",
              "      <td>gas</td>\n",
              "      <td>turbo</td>\n",
              "      <td>four</td>\n",
              "      <td>sedan</td>\n",
              "      <td>rwd</td>\n",
              "      <td>front</td>\n",
              "      <td>109.1</td>\n",
              "      <td>188.8</td>\n",
              "      <td>68.9</td>\n",
              "      <td>55.5</td>\n",
              "      <td>3062</td>\n",
              "      <td>ohc</td>\n",
              "      <td>four</td>\n",
              "      <td>141</td>\n",
              "      <td>mpfi</td>\n",
              "      <td>3.78</td>\n",
              "      <td>3.15</td>\n",
              "      <td>9.5</td>\n",
              "      <td>114</td>\n",
              "      <td>5400</td>\n",
              "      <td>19</td>\n",
              "      <td>25</td>\n",
              "      <td>22625.0</td>\n",
              "    </tr>\n",
              "  </tbody>\n",
              "</table>\n",
              "<p>209 rows × 26 columns</p>\n",
              "</div>"
            ],
            "text/plain": [
              "     car_ID  symboling                   CarName  ... citympg highwaympg    price\n",
              "0         1          3        alfa-romero giulia  ...      21         27  13495.0\n",
              "1         2          3       alfa-romero stelvio  ...      21         27  16500.0\n",
              "2         3          1  alfa-romero Quadrifoglio  ...      19         26  16500.0\n",
              "3         4          2               audi 100 ls  ...      24         30  13950.0\n",
              "4         5          2                audi 100ls  ...      18         22  17450.0\n",
              "..      ...        ...                       ...  ...     ...        ...      ...\n",
              "204     201         -1           volvo 145e (sw)  ...      23         28  16845.0\n",
              "205     202         -1               volvo 144ea  ...      19         25  19045.0\n",
              "206     203         -1               volvo 244dl  ...      18         23  21485.0\n",
              "207     204         -1                 volvo 246  ...      26         27  22470.0\n",
              "208     205         -1               volvo 264gl  ...      19         25  22625.0\n",
              "\n",
              "[209 rows x 26 columns]"
            ]
          },
          "metadata": {
            "tags": []
          },
          "execution_count": 505
        }
      ]
    },
    {
      "cell_type": "code",
      "metadata": {
        "id": "pToKc_q7OWqA",
        "colab_type": "code",
        "outputId": "bb767da7-a347-4ec4-db07-04628cde3c0b",
        "colab": {
          "base_uri": "https://localhost:8080/",
          "height": 35
        }
      },
      "source": [
        "dataset.shape"
      ],
      "execution_count": 506,
      "outputs": [
        {
          "output_type": "execute_result",
          "data": {
            "text/plain": [
              "(209, 26)"
            ]
          },
          "metadata": {
            "tags": []
          },
          "execution_count": 506
        }
      ]
    },
    {
      "cell_type": "code",
      "metadata": {
        "id": "KMadOBY4OIbp",
        "colab_type": "code",
        "outputId": "f8da0554-dd85-4bd4-c7c2-b0f24949df12",
        "colab": {
          "base_uri": "https://localhost:8080/",
          "height": 314
        }
      },
      "source": [
        "dataset.describe()"
      ],
      "execution_count": 507,
      "outputs": [
        {
          "output_type": "execute_result",
          "data": {
            "text/html": [
              "<div>\n",
              "<style scoped>\n",
              "    .dataframe tbody tr th:only-of-type {\n",
              "        vertical-align: middle;\n",
              "    }\n",
              "\n",
              "    .dataframe tbody tr th {\n",
              "        vertical-align: top;\n",
              "    }\n",
              "\n",
              "    .dataframe thead th {\n",
              "        text-align: right;\n",
              "    }\n",
              "</style>\n",
              "<table border=\"1\" class=\"dataframe\">\n",
              "  <thead>\n",
              "    <tr style=\"text-align: right;\">\n",
              "      <th></th>\n",
              "      <th>car_ID</th>\n",
              "      <th>symboling</th>\n",
              "      <th>wheelbase</th>\n",
              "      <th>carlength</th>\n",
              "      <th>carwidth</th>\n",
              "      <th>carheight</th>\n",
              "      <th>curbweight</th>\n",
              "      <th>enginesize</th>\n",
              "      <th>boreratio</th>\n",
              "      <th>stroke</th>\n",
              "      <th>compressionratio</th>\n",
              "      <th>horsepower</th>\n",
              "      <th>peakrpm</th>\n",
              "      <th>citympg</th>\n",
              "      <th>highwaympg</th>\n",
              "      <th>price</th>\n",
              "    </tr>\n",
              "  </thead>\n",
              "  <tbody>\n",
              "    <tr>\n",
              "      <th>count</th>\n",
              "      <td>209.000000</td>\n",
              "      <td>209.000000</td>\n",
              "      <td>209.000000</td>\n",
              "      <td>209.000000</td>\n",
              "      <td>209.000000</td>\n",
              "      <td>209.000000</td>\n",
              "      <td>209.000000</td>\n",
              "      <td>209.000000</td>\n",
              "      <td>209.000000</td>\n",
              "      <td>209.000000</td>\n",
              "      <td>209.000000</td>\n",
              "      <td>209.000000</td>\n",
              "      <td>209.000000</td>\n",
              "      <td>209.000000</td>\n",
              "      <td>209.000000</td>\n",
              "      <td>209.000000</td>\n",
              "    </tr>\n",
              "    <tr>\n",
              "      <th>mean</th>\n",
              "      <td>102.980861</td>\n",
              "      <td>0.861244</td>\n",
              "      <td>98.732057</td>\n",
              "      <td>174.033493</td>\n",
              "      <td>65.903349</td>\n",
              "      <td>53.728708</td>\n",
              "      <td>2552.287081</td>\n",
              "      <td>126.612440</td>\n",
              "      <td>3.322057</td>\n",
              "      <td>3.251005</td>\n",
              "      <td>10.188612</td>\n",
              "      <td>103.827751</td>\n",
              "      <td>5126.315789</td>\n",
              "      <td>25.253589</td>\n",
              "      <td>30.799043</td>\n",
              "      <td>13244.878789</td>\n",
              "    </tr>\n",
              "    <tr>\n",
              "      <th>std</th>\n",
              "      <td>59.490785</td>\n",
              "      <td>1.249954</td>\n",
              "      <td>5.975179</td>\n",
              "      <td>12.307101</td>\n",
              "      <td>2.127801</td>\n",
              "      <td>2.438205</td>\n",
              "      <td>517.432822</td>\n",
              "      <td>41.369094</td>\n",
              "      <td>0.275848</td>\n",
              "      <td>0.321547</td>\n",
              "      <td>4.035515</td>\n",
              "      <td>39.325063</td>\n",
              "      <td>475.860876</td>\n",
              "      <td>6.563140</td>\n",
              "      <td>6.896752</td>\n",
              "      <td>7931.313860</td>\n",
              "    </tr>\n",
              "    <tr>\n",
              "      <th>min</th>\n",
              "      <td>1.000000</td>\n",
              "      <td>-2.000000</td>\n",
              "      <td>86.600000</td>\n",
              "      <td>141.100000</td>\n",
              "      <td>60.300000</td>\n",
              "      <td>47.800000</td>\n",
              "      <td>1488.000000</td>\n",
              "      <td>61.000000</td>\n",
              "      <td>2.540000</td>\n",
              "      <td>2.070000</td>\n",
              "      <td>7.000000</td>\n",
              "      <td>48.000000</td>\n",
              "      <td>4150.000000</td>\n",
              "      <td>13.000000</td>\n",
              "      <td>16.000000</td>\n",
              "      <td>5118.000000</td>\n",
              "    </tr>\n",
              "    <tr>\n",
              "      <th>25%</th>\n",
              "      <td>52.000000</td>\n",
              "      <td>0.000000</td>\n",
              "      <td>94.500000</td>\n",
              "      <td>166.300000</td>\n",
              "      <td>64.100000</td>\n",
              "      <td>52.000000</td>\n",
              "      <td>2145.000000</td>\n",
              "      <td>97.000000</td>\n",
              "      <td>3.150000</td>\n",
              "      <td>3.110000</td>\n",
              "      <td>8.600000</td>\n",
              "      <td>70.000000</td>\n",
              "      <td>4800.000000</td>\n",
              "      <td>19.000000</td>\n",
              "      <td>25.000000</td>\n",
              "      <td>7788.000000</td>\n",
              "    </tr>\n",
              "    <tr>\n",
              "      <th>50%</th>\n",
              "      <td>103.000000</td>\n",
              "      <td>1.000000</td>\n",
              "      <td>97.000000</td>\n",
              "      <td>173.200000</td>\n",
              "      <td>65.500000</td>\n",
              "      <td>54.100000</td>\n",
              "      <td>2414.000000</td>\n",
              "      <td>120.000000</td>\n",
              "      <td>3.310000</td>\n",
              "      <td>3.290000</td>\n",
              "      <td>9.000000</td>\n",
              "      <td>95.000000</td>\n",
              "      <td>5200.000000</td>\n",
              "      <td>24.000000</td>\n",
              "      <td>30.000000</td>\n",
              "      <td>10295.000000</td>\n",
              "    </tr>\n",
              "    <tr>\n",
              "      <th>75%</th>\n",
              "      <td>154.000000</td>\n",
              "      <td>2.000000</td>\n",
              "      <td>102.000000</td>\n",
              "      <td>183.100000</td>\n",
              "      <td>66.600000</td>\n",
              "      <td>55.500000</td>\n",
              "      <td>2926.000000</td>\n",
              "      <td>141.000000</td>\n",
              "      <td>3.580000</td>\n",
              "      <td>3.410000</td>\n",
              "      <td>9.400000</td>\n",
              "      <td>116.000000</td>\n",
              "      <td>5500.000000</td>\n",
              "      <td>30.000000</td>\n",
              "      <td>36.000000</td>\n",
              "      <td>16500.000000</td>\n",
              "    </tr>\n",
              "    <tr>\n",
              "      <th>max</th>\n",
              "      <td>205.000000</td>\n",
              "      <td>3.000000</td>\n",
              "      <td>120.900000</td>\n",
              "      <td>208.100000</td>\n",
              "      <td>72.300000</td>\n",
              "      <td>59.800000</td>\n",
              "      <td>4066.000000</td>\n",
              "      <td>326.000000</td>\n",
              "      <td>3.940000</td>\n",
              "      <td>4.170000</td>\n",
              "      <td>23.000000</td>\n",
              "      <td>288.000000</td>\n",
              "      <td>6600.000000</td>\n",
              "      <td>49.000000</td>\n",
              "      <td>54.000000</td>\n",
              "      <td>45400.000000</td>\n",
              "    </tr>\n",
              "  </tbody>\n",
              "</table>\n",
              "</div>"
            ],
            "text/plain": [
              "           car_ID   symboling   wheelbase  ...     citympg  highwaympg         price\n",
              "count  209.000000  209.000000  209.000000  ...  209.000000  209.000000    209.000000\n",
              "mean   102.980861    0.861244   98.732057  ...   25.253589   30.799043  13244.878789\n",
              "std     59.490785    1.249954    5.975179  ...    6.563140    6.896752   7931.313860\n",
              "min      1.000000   -2.000000   86.600000  ...   13.000000   16.000000   5118.000000\n",
              "25%     52.000000    0.000000   94.500000  ...   19.000000   25.000000   7788.000000\n",
              "50%    103.000000    1.000000   97.000000  ...   24.000000   30.000000  10295.000000\n",
              "75%    154.000000    2.000000  102.000000  ...   30.000000   36.000000  16500.000000\n",
              "max    205.000000    3.000000  120.900000  ...   49.000000   54.000000  45400.000000\n",
              "\n",
              "[8 rows x 16 columns]"
            ]
          },
          "metadata": {
            "tags": []
          },
          "execution_count": 507
        }
      ]
    },
    {
      "cell_type": "code",
      "metadata": {
        "id": "9Jk5j9cDOMcb",
        "colab_type": "code",
        "outputId": "63ed7b5e-295e-4e9c-9bd6-7e33637e8006",
        "colab": {
          "base_uri": "https://localhost:8080/",
          "height": 589
        }
      },
      "source": [
        "dataset.info()"
      ],
      "execution_count": 508,
      "outputs": [
        {
          "output_type": "stream",
          "text": [
            "<class 'pandas.core.frame.DataFrame'>\n",
            "RangeIndex: 209 entries, 0 to 208\n",
            "Data columns (total 26 columns):\n",
            " #   Column            Non-Null Count  Dtype  \n",
            "---  ------            --------------  -----  \n",
            " 0   car_ID            209 non-null    int64  \n",
            " 1   symboling         209 non-null    int64  \n",
            " 2   CarName           209 non-null    object \n",
            " 3   fueltype          209 non-null    object \n",
            " 4   aspiration        209 non-null    object \n",
            " 5   doornumber        209 non-null    object \n",
            " 6   carbody           209 non-null    object \n",
            " 7   drivewheel        209 non-null    object \n",
            " 8   enginelocation    209 non-null    object \n",
            " 9   wheelbase         209 non-null    float64\n",
            " 10  carlength         209 non-null    float64\n",
            " 11  carwidth          209 non-null    float64\n",
            " 12  carheight         209 non-null    float64\n",
            " 13  curbweight        209 non-null    int64  \n",
            " 14  enginetype        209 non-null    object \n",
            " 15  cylindernumber    209 non-null    object \n",
            " 16  enginesize        209 non-null    int64  \n",
            " 17  fuelsystem        209 non-null    object \n",
            " 18  boreratio         209 non-null    float64\n",
            " 19  stroke            209 non-null    float64\n",
            " 20  compressionratio  209 non-null    float64\n",
            " 21  horsepower        209 non-null    int64  \n",
            " 22  peakrpm           209 non-null    int64  \n",
            " 23  citympg           209 non-null    int64  \n",
            " 24  highwaympg        209 non-null    int64  \n",
            " 25  price             209 non-null    float64\n",
            "dtypes: float64(8), int64(8), object(10)\n",
            "memory usage: 42.6+ KB\n"
          ],
          "name": "stdout"
        }
      ]
    },
    {
      "cell_type": "markdown",
      "metadata": {
        "id": "Fyfsi-TotVoX",
        "colab_type": "text"
      },
      "source": [
        "# Очистка данных\n"
      ]
    },
    {
      "cell_type": "code",
      "metadata": {
        "id": "UHroDcuSPuY2",
        "colab_type": "code",
        "outputId": "aa49f774-0e15-4242-d9c9-e0ebba5b962d",
        "colab": {
          "base_uri": "https://localhost:8080/",
          "height": 274
        }
      },
      "source": [
        "dataset.head()"
      ],
      "execution_count": 509,
      "outputs": [
        {
          "output_type": "execute_result",
          "data": {
            "text/html": [
              "<div>\n",
              "<style scoped>\n",
              "    .dataframe tbody tr th:only-of-type {\n",
              "        vertical-align: middle;\n",
              "    }\n",
              "\n",
              "    .dataframe tbody tr th {\n",
              "        vertical-align: top;\n",
              "    }\n",
              "\n",
              "    .dataframe thead th {\n",
              "        text-align: right;\n",
              "    }\n",
              "</style>\n",
              "<table border=\"1\" class=\"dataframe\">\n",
              "  <thead>\n",
              "    <tr style=\"text-align: right;\">\n",
              "      <th></th>\n",
              "      <th>car_ID</th>\n",
              "      <th>symboling</th>\n",
              "      <th>CarName</th>\n",
              "      <th>fueltype</th>\n",
              "      <th>aspiration</th>\n",
              "      <th>doornumber</th>\n",
              "      <th>carbody</th>\n",
              "      <th>drivewheel</th>\n",
              "      <th>enginelocation</th>\n",
              "      <th>wheelbase</th>\n",
              "      <th>carlength</th>\n",
              "      <th>carwidth</th>\n",
              "      <th>carheight</th>\n",
              "      <th>curbweight</th>\n",
              "      <th>enginetype</th>\n",
              "      <th>cylindernumber</th>\n",
              "      <th>enginesize</th>\n",
              "      <th>fuelsystem</th>\n",
              "      <th>boreratio</th>\n",
              "      <th>stroke</th>\n",
              "      <th>compressionratio</th>\n",
              "      <th>horsepower</th>\n",
              "      <th>peakrpm</th>\n",
              "      <th>citympg</th>\n",
              "      <th>highwaympg</th>\n",
              "      <th>price</th>\n",
              "    </tr>\n",
              "  </thead>\n",
              "  <tbody>\n",
              "    <tr>\n",
              "      <th>0</th>\n",
              "      <td>1</td>\n",
              "      <td>3</td>\n",
              "      <td>alfa-romero giulia</td>\n",
              "      <td>gas</td>\n",
              "      <td>std</td>\n",
              "      <td>two</td>\n",
              "      <td>convertible</td>\n",
              "      <td>rwd</td>\n",
              "      <td>front</td>\n",
              "      <td>88.6</td>\n",
              "      <td>168.8</td>\n",
              "      <td>64.1</td>\n",
              "      <td>48.8</td>\n",
              "      <td>2548</td>\n",
              "      <td>dohc</td>\n",
              "      <td>four</td>\n",
              "      <td>130</td>\n",
              "      <td>mpfi</td>\n",
              "      <td>3.47</td>\n",
              "      <td>2.68</td>\n",
              "      <td>9.0</td>\n",
              "      <td>111</td>\n",
              "      <td>5000</td>\n",
              "      <td>21</td>\n",
              "      <td>27</td>\n",
              "      <td>13495.0</td>\n",
              "    </tr>\n",
              "    <tr>\n",
              "      <th>1</th>\n",
              "      <td>2</td>\n",
              "      <td>3</td>\n",
              "      <td>alfa-romero stelvio</td>\n",
              "      <td>gas</td>\n",
              "      <td>std</td>\n",
              "      <td>two</td>\n",
              "      <td>convertible</td>\n",
              "      <td>rwd</td>\n",
              "      <td>front</td>\n",
              "      <td>88.6</td>\n",
              "      <td>168.8</td>\n",
              "      <td>64.1</td>\n",
              "      <td>48.8</td>\n",
              "      <td>2548</td>\n",
              "      <td>dohc</td>\n",
              "      <td>four</td>\n",
              "      <td>130</td>\n",
              "      <td>mpfi</td>\n",
              "      <td>3.47</td>\n",
              "      <td>2.68</td>\n",
              "      <td>9.0</td>\n",
              "      <td>111</td>\n",
              "      <td>5000</td>\n",
              "      <td>21</td>\n",
              "      <td>27</td>\n",
              "      <td>16500.0</td>\n",
              "    </tr>\n",
              "    <tr>\n",
              "      <th>2</th>\n",
              "      <td>3</td>\n",
              "      <td>1</td>\n",
              "      <td>alfa-romero Quadrifoglio</td>\n",
              "      <td>gas</td>\n",
              "      <td>std</td>\n",
              "      <td>two</td>\n",
              "      <td>hatchback</td>\n",
              "      <td>rwd</td>\n",
              "      <td>front</td>\n",
              "      <td>94.5</td>\n",
              "      <td>171.2</td>\n",
              "      <td>65.5</td>\n",
              "      <td>52.4</td>\n",
              "      <td>2823</td>\n",
              "      <td>ohcv</td>\n",
              "      <td>six</td>\n",
              "      <td>152</td>\n",
              "      <td>mpfi</td>\n",
              "      <td>2.68</td>\n",
              "      <td>3.47</td>\n",
              "      <td>9.0</td>\n",
              "      <td>154</td>\n",
              "      <td>5000</td>\n",
              "      <td>19</td>\n",
              "      <td>26</td>\n",
              "      <td>16500.0</td>\n",
              "    </tr>\n",
              "    <tr>\n",
              "      <th>3</th>\n",
              "      <td>4</td>\n",
              "      <td>2</td>\n",
              "      <td>audi 100 ls</td>\n",
              "      <td>gas</td>\n",
              "      <td>std</td>\n",
              "      <td>four</td>\n",
              "      <td>sedan</td>\n",
              "      <td>fwd</td>\n",
              "      <td>front</td>\n",
              "      <td>99.8</td>\n",
              "      <td>176.6</td>\n",
              "      <td>66.2</td>\n",
              "      <td>54.3</td>\n",
              "      <td>2337</td>\n",
              "      <td>ohc</td>\n",
              "      <td>four</td>\n",
              "      <td>109</td>\n",
              "      <td>mpfi</td>\n",
              "      <td>3.19</td>\n",
              "      <td>3.40</td>\n",
              "      <td>10.0</td>\n",
              "      <td>102</td>\n",
              "      <td>5500</td>\n",
              "      <td>24</td>\n",
              "      <td>30</td>\n",
              "      <td>13950.0</td>\n",
              "    </tr>\n",
              "    <tr>\n",
              "      <th>4</th>\n",
              "      <td>5</td>\n",
              "      <td>2</td>\n",
              "      <td>audi 100ls</td>\n",
              "      <td>gas</td>\n",
              "      <td>std</td>\n",
              "      <td>four</td>\n",
              "      <td>sedan</td>\n",
              "      <td>4wd</td>\n",
              "      <td>front</td>\n",
              "      <td>99.4</td>\n",
              "      <td>176.6</td>\n",
              "      <td>66.4</td>\n",
              "      <td>54.3</td>\n",
              "      <td>2824</td>\n",
              "      <td>ohc</td>\n",
              "      <td>five</td>\n",
              "      <td>136</td>\n",
              "      <td>mpfi</td>\n",
              "      <td>3.19</td>\n",
              "      <td>3.40</td>\n",
              "      <td>8.0</td>\n",
              "      <td>115</td>\n",
              "      <td>5500</td>\n",
              "      <td>18</td>\n",
              "      <td>22</td>\n",
              "      <td>17450.0</td>\n",
              "    </tr>\n",
              "  </tbody>\n",
              "</table>\n",
              "</div>"
            ],
            "text/plain": [
              "   car_ID  symboling                   CarName  ... citympg highwaympg    price\n",
              "0       1          3        alfa-romero giulia  ...      21         27  13495.0\n",
              "1       2          3       alfa-romero stelvio  ...      21         27  16500.0\n",
              "2       3          1  alfa-romero Quadrifoglio  ...      19         26  16500.0\n",
              "3       4          2               audi 100 ls  ...      24         30  13950.0\n",
              "4       5          2                audi 100ls  ...      18         22  17450.0\n",
              "\n",
              "[5 rows x 26 columns]"
            ]
          },
          "metadata": {
            "tags": []
          },
          "execution_count": 509
        }
      ]
    },
    {
      "cell_type": "markdown",
      "metadata": {
        "id": "I0sjNTAWUuBv",
        "colab_type": "text"
      },
      "source": [
        "из столбца car name извлечем название марки автомобиля"
      ]
    },
    {
      "cell_type": "code",
      "metadata": {
        "id": "Jj21c4VAUsx8",
        "colab_type": "code",
        "outputId": "fba7856d-bc42-4513-c899-6d41c968f296",
        "colab": {
          "base_uri": "https://localhost:8080/",
          "height": 505
        }
      },
      "source": [
        "\n",
        "CompanyName = dataset['CarName'].apply(lambda x : x.split(' ')[0])\n",
        "dataset.insert(3,\"CompanyName\",CompanyName)\n",
        "#dataset.drop(['CarName'],axis=1,inplace=True)\n",
        "#dataset.head()\n",
        "dataset"
      ],
      "execution_count": 510,
      "outputs": [
        {
          "output_type": "execute_result",
          "data": {
            "text/html": [
              "<div>\n",
              "<style scoped>\n",
              "    .dataframe tbody tr th:only-of-type {\n",
              "        vertical-align: middle;\n",
              "    }\n",
              "\n",
              "    .dataframe tbody tr th {\n",
              "        vertical-align: top;\n",
              "    }\n",
              "\n",
              "    .dataframe thead th {\n",
              "        text-align: right;\n",
              "    }\n",
              "</style>\n",
              "<table border=\"1\" class=\"dataframe\">\n",
              "  <thead>\n",
              "    <tr style=\"text-align: right;\">\n",
              "      <th></th>\n",
              "      <th>car_ID</th>\n",
              "      <th>symboling</th>\n",
              "      <th>CarName</th>\n",
              "      <th>CompanyName</th>\n",
              "      <th>fueltype</th>\n",
              "      <th>aspiration</th>\n",
              "      <th>doornumber</th>\n",
              "      <th>carbody</th>\n",
              "      <th>drivewheel</th>\n",
              "      <th>enginelocation</th>\n",
              "      <th>wheelbase</th>\n",
              "      <th>carlength</th>\n",
              "      <th>carwidth</th>\n",
              "      <th>carheight</th>\n",
              "      <th>curbweight</th>\n",
              "      <th>enginetype</th>\n",
              "      <th>cylindernumber</th>\n",
              "      <th>enginesize</th>\n",
              "      <th>fuelsystem</th>\n",
              "      <th>boreratio</th>\n",
              "      <th>stroke</th>\n",
              "      <th>compressionratio</th>\n",
              "      <th>horsepower</th>\n",
              "      <th>peakrpm</th>\n",
              "      <th>citympg</th>\n",
              "      <th>highwaympg</th>\n",
              "      <th>price</th>\n",
              "    </tr>\n",
              "  </thead>\n",
              "  <tbody>\n",
              "    <tr>\n",
              "      <th>0</th>\n",
              "      <td>1</td>\n",
              "      <td>3</td>\n",
              "      <td>alfa-romero giulia</td>\n",
              "      <td>alfa-romero</td>\n",
              "      <td>gas</td>\n",
              "      <td>std</td>\n",
              "      <td>two</td>\n",
              "      <td>convertible</td>\n",
              "      <td>rwd</td>\n",
              "      <td>front</td>\n",
              "      <td>88.6</td>\n",
              "      <td>168.8</td>\n",
              "      <td>64.1</td>\n",
              "      <td>48.8</td>\n",
              "      <td>2548</td>\n",
              "      <td>dohc</td>\n",
              "      <td>four</td>\n",
              "      <td>130</td>\n",
              "      <td>mpfi</td>\n",
              "      <td>3.47</td>\n",
              "      <td>2.68</td>\n",
              "      <td>9.0</td>\n",
              "      <td>111</td>\n",
              "      <td>5000</td>\n",
              "      <td>21</td>\n",
              "      <td>27</td>\n",
              "      <td>13495.0</td>\n",
              "    </tr>\n",
              "    <tr>\n",
              "      <th>1</th>\n",
              "      <td>2</td>\n",
              "      <td>3</td>\n",
              "      <td>alfa-romero stelvio</td>\n",
              "      <td>alfa-romero</td>\n",
              "      <td>gas</td>\n",
              "      <td>std</td>\n",
              "      <td>two</td>\n",
              "      <td>convertible</td>\n",
              "      <td>rwd</td>\n",
              "      <td>front</td>\n",
              "      <td>88.6</td>\n",
              "      <td>168.8</td>\n",
              "      <td>64.1</td>\n",
              "      <td>48.8</td>\n",
              "      <td>2548</td>\n",
              "      <td>dohc</td>\n",
              "      <td>four</td>\n",
              "      <td>130</td>\n",
              "      <td>mpfi</td>\n",
              "      <td>3.47</td>\n",
              "      <td>2.68</td>\n",
              "      <td>9.0</td>\n",
              "      <td>111</td>\n",
              "      <td>5000</td>\n",
              "      <td>21</td>\n",
              "      <td>27</td>\n",
              "      <td>16500.0</td>\n",
              "    </tr>\n",
              "    <tr>\n",
              "      <th>2</th>\n",
              "      <td>3</td>\n",
              "      <td>1</td>\n",
              "      <td>alfa-romero Quadrifoglio</td>\n",
              "      <td>alfa-romero</td>\n",
              "      <td>gas</td>\n",
              "      <td>std</td>\n",
              "      <td>two</td>\n",
              "      <td>hatchback</td>\n",
              "      <td>rwd</td>\n",
              "      <td>front</td>\n",
              "      <td>94.5</td>\n",
              "      <td>171.2</td>\n",
              "      <td>65.5</td>\n",
              "      <td>52.4</td>\n",
              "      <td>2823</td>\n",
              "      <td>ohcv</td>\n",
              "      <td>six</td>\n",
              "      <td>152</td>\n",
              "      <td>mpfi</td>\n",
              "      <td>2.68</td>\n",
              "      <td>3.47</td>\n",
              "      <td>9.0</td>\n",
              "      <td>154</td>\n",
              "      <td>5000</td>\n",
              "      <td>19</td>\n",
              "      <td>26</td>\n",
              "      <td>16500.0</td>\n",
              "    </tr>\n",
              "    <tr>\n",
              "      <th>3</th>\n",
              "      <td>4</td>\n",
              "      <td>2</td>\n",
              "      <td>audi 100 ls</td>\n",
              "      <td>audi</td>\n",
              "      <td>gas</td>\n",
              "      <td>std</td>\n",
              "      <td>four</td>\n",
              "      <td>sedan</td>\n",
              "      <td>fwd</td>\n",
              "      <td>front</td>\n",
              "      <td>99.8</td>\n",
              "      <td>176.6</td>\n",
              "      <td>66.2</td>\n",
              "      <td>54.3</td>\n",
              "      <td>2337</td>\n",
              "      <td>ohc</td>\n",
              "      <td>four</td>\n",
              "      <td>109</td>\n",
              "      <td>mpfi</td>\n",
              "      <td>3.19</td>\n",
              "      <td>3.40</td>\n",
              "      <td>10.0</td>\n",
              "      <td>102</td>\n",
              "      <td>5500</td>\n",
              "      <td>24</td>\n",
              "      <td>30</td>\n",
              "      <td>13950.0</td>\n",
              "    </tr>\n",
              "    <tr>\n",
              "      <th>4</th>\n",
              "      <td>5</td>\n",
              "      <td>2</td>\n",
              "      <td>audi 100ls</td>\n",
              "      <td>audi</td>\n",
              "      <td>gas</td>\n",
              "      <td>std</td>\n",
              "      <td>four</td>\n",
              "      <td>sedan</td>\n",
              "      <td>4wd</td>\n",
              "      <td>front</td>\n",
              "      <td>99.4</td>\n",
              "      <td>176.6</td>\n",
              "      <td>66.4</td>\n",
              "      <td>54.3</td>\n",
              "      <td>2824</td>\n",
              "      <td>ohc</td>\n",
              "      <td>five</td>\n",
              "      <td>136</td>\n",
              "      <td>mpfi</td>\n",
              "      <td>3.19</td>\n",
              "      <td>3.40</td>\n",
              "      <td>8.0</td>\n",
              "      <td>115</td>\n",
              "      <td>5500</td>\n",
              "      <td>18</td>\n",
              "      <td>22</td>\n",
              "      <td>17450.0</td>\n",
              "    </tr>\n",
              "    <tr>\n",
              "      <th>...</th>\n",
              "      <td>...</td>\n",
              "      <td>...</td>\n",
              "      <td>...</td>\n",
              "      <td>...</td>\n",
              "      <td>...</td>\n",
              "      <td>...</td>\n",
              "      <td>...</td>\n",
              "      <td>...</td>\n",
              "      <td>...</td>\n",
              "      <td>...</td>\n",
              "      <td>...</td>\n",
              "      <td>...</td>\n",
              "      <td>...</td>\n",
              "      <td>...</td>\n",
              "      <td>...</td>\n",
              "      <td>...</td>\n",
              "      <td>...</td>\n",
              "      <td>...</td>\n",
              "      <td>...</td>\n",
              "      <td>...</td>\n",
              "      <td>...</td>\n",
              "      <td>...</td>\n",
              "      <td>...</td>\n",
              "      <td>...</td>\n",
              "      <td>...</td>\n",
              "      <td>...</td>\n",
              "      <td>...</td>\n",
              "    </tr>\n",
              "    <tr>\n",
              "      <th>204</th>\n",
              "      <td>201</td>\n",
              "      <td>-1</td>\n",
              "      <td>volvo 145e (sw)</td>\n",
              "      <td>volvo</td>\n",
              "      <td>gas</td>\n",
              "      <td>std</td>\n",
              "      <td>four</td>\n",
              "      <td>sedan</td>\n",
              "      <td>rwd</td>\n",
              "      <td>front</td>\n",
              "      <td>109.1</td>\n",
              "      <td>188.8</td>\n",
              "      <td>68.9</td>\n",
              "      <td>55.5</td>\n",
              "      <td>2952</td>\n",
              "      <td>ohc</td>\n",
              "      <td>four</td>\n",
              "      <td>141</td>\n",
              "      <td>mpfi</td>\n",
              "      <td>3.78</td>\n",
              "      <td>3.15</td>\n",
              "      <td>9.5</td>\n",
              "      <td>114</td>\n",
              "      <td>5400</td>\n",
              "      <td>23</td>\n",
              "      <td>28</td>\n",
              "      <td>16845.0</td>\n",
              "    </tr>\n",
              "    <tr>\n",
              "      <th>205</th>\n",
              "      <td>202</td>\n",
              "      <td>-1</td>\n",
              "      <td>volvo 144ea</td>\n",
              "      <td>volvo</td>\n",
              "      <td>gas</td>\n",
              "      <td>turbo</td>\n",
              "      <td>four</td>\n",
              "      <td>sedan</td>\n",
              "      <td>rwd</td>\n",
              "      <td>front</td>\n",
              "      <td>109.1</td>\n",
              "      <td>188.8</td>\n",
              "      <td>68.8</td>\n",
              "      <td>55.5</td>\n",
              "      <td>3049</td>\n",
              "      <td>ohc</td>\n",
              "      <td>four</td>\n",
              "      <td>141</td>\n",
              "      <td>mpfi</td>\n",
              "      <td>3.78</td>\n",
              "      <td>3.15</td>\n",
              "      <td>8.7</td>\n",
              "      <td>160</td>\n",
              "      <td>5300</td>\n",
              "      <td>19</td>\n",
              "      <td>25</td>\n",
              "      <td>19045.0</td>\n",
              "    </tr>\n",
              "    <tr>\n",
              "      <th>206</th>\n",
              "      <td>203</td>\n",
              "      <td>-1</td>\n",
              "      <td>volvo 244dl</td>\n",
              "      <td>volvo</td>\n",
              "      <td>gas</td>\n",
              "      <td>std</td>\n",
              "      <td>four</td>\n",
              "      <td>sedan</td>\n",
              "      <td>rwd</td>\n",
              "      <td>front</td>\n",
              "      <td>109.1</td>\n",
              "      <td>188.8</td>\n",
              "      <td>68.9</td>\n",
              "      <td>55.5</td>\n",
              "      <td>3012</td>\n",
              "      <td>ohcv</td>\n",
              "      <td>six</td>\n",
              "      <td>173</td>\n",
              "      <td>mpfi</td>\n",
              "      <td>3.58</td>\n",
              "      <td>2.87</td>\n",
              "      <td>8.8</td>\n",
              "      <td>134</td>\n",
              "      <td>5500</td>\n",
              "      <td>18</td>\n",
              "      <td>23</td>\n",
              "      <td>21485.0</td>\n",
              "    </tr>\n",
              "    <tr>\n",
              "      <th>207</th>\n",
              "      <td>204</td>\n",
              "      <td>-1</td>\n",
              "      <td>volvo 246</td>\n",
              "      <td>volvo</td>\n",
              "      <td>diesel</td>\n",
              "      <td>turbo</td>\n",
              "      <td>four</td>\n",
              "      <td>sedan</td>\n",
              "      <td>rwd</td>\n",
              "      <td>front</td>\n",
              "      <td>109.1</td>\n",
              "      <td>188.8</td>\n",
              "      <td>68.9</td>\n",
              "      <td>55.5</td>\n",
              "      <td>3217</td>\n",
              "      <td>ohc</td>\n",
              "      <td>six</td>\n",
              "      <td>145</td>\n",
              "      <td>idi</td>\n",
              "      <td>3.01</td>\n",
              "      <td>3.40</td>\n",
              "      <td>23.0</td>\n",
              "      <td>106</td>\n",
              "      <td>4800</td>\n",
              "      <td>26</td>\n",
              "      <td>27</td>\n",
              "      <td>22470.0</td>\n",
              "    </tr>\n",
              "    <tr>\n",
              "      <th>208</th>\n",
              "      <td>205</td>\n",
              "      <td>-1</td>\n",
              "      <td>volvo 264gl</td>\n",
              "      <td>volvo</td>\n",
              "      <td>gas</td>\n",
              "      <td>turbo</td>\n",
              "      <td>four</td>\n",
              "      <td>sedan</td>\n",
              "      <td>rwd</td>\n",
              "      <td>front</td>\n",
              "      <td>109.1</td>\n",
              "      <td>188.8</td>\n",
              "      <td>68.9</td>\n",
              "      <td>55.5</td>\n",
              "      <td>3062</td>\n",
              "      <td>ohc</td>\n",
              "      <td>four</td>\n",
              "      <td>141</td>\n",
              "      <td>mpfi</td>\n",
              "      <td>3.78</td>\n",
              "      <td>3.15</td>\n",
              "      <td>9.5</td>\n",
              "      <td>114</td>\n",
              "      <td>5400</td>\n",
              "      <td>19</td>\n",
              "      <td>25</td>\n",
              "      <td>22625.0</td>\n",
              "    </tr>\n",
              "  </tbody>\n",
              "</table>\n",
              "<p>209 rows × 27 columns</p>\n",
              "</div>"
            ],
            "text/plain": [
              "     car_ID  symboling                   CarName  ... citympg highwaympg    price\n",
              "0         1          3        alfa-romero giulia  ...      21         27  13495.0\n",
              "1         2          3       alfa-romero stelvio  ...      21         27  16500.0\n",
              "2         3          1  alfa-romero Quadrifoglio  ...      19         26  16500.0\n",
              "3         4          2               audi 100 ls  ...      24         30  13950.0\n",
              "4         5          2                audi 100ls  ...      18         22  17450.0\n",
              "..      ...        ...                       ...  ...     ...        ...      ...\n",
              "204     201         -1           volvo 145e (sw)  ...      23         28  16845.0\n",
              "205     202         -1               volvo 144ea  ...      19         25  19045.0\n",
              "206     203         -1               volvo 244dl  ...      18         23  21485.0\n",
              "207     204         -1                 volvo 246  ...      26         27  22470.0\n",
              "208     205         -1               volvo 264gl  ...      19         25  22625.0\n",
              "\n",
              "[209 rows x 27 columns]"
            ]
          },
          "metadata": {
            "tags": []
          },
          "execution_count": 510
        }
      ]
    },
    {
      "cell_type": "markdown",
      "metadata": {
        "id": "DhulnVdrUtUo",
        "colab_type": "text"
      },
      "source": [
        "проверим уникальные значение в каждом, интересующем нас столбце. очевидно, что делать проверку уникальных значений мощности, длины, ширины и т.д. бессмысленно)"
      ]
    },
    {
      "cell_type": "code",
      "metadata": {
        "id": "BQVtJCORVfSw",
        "colab_type": "code",
        "outputId": "8755107b-e41c-476b-f3da-508d75793187",
        "colab": {
          "base_uri": "https://localhost:8080/",
          "height": 104
        }
      },
      "source": [
        "dataset['CompanyName'].unique()"
      ],
      "execution_count": 511,
      "outputs": [
        {
          "output_type": "execute_result",
          "data": {
            "text/plain": [
              "array(['alfa-romero', 'audi', 'bmw', 'chevrolet', 'dodge', 'honda',\n",
              "       'isuzu', 'jaguar', 'maxda', 'mazda', 'buick', 'mercury',\n",
              "       'mitsubishi', 'Nissan', 'nissan', 'peugeot', 'plymouth', 'porsche',\n",
              "       'porcshce', 'renault', 'saab', 'subaru', 'toyota', 'toyouta',\n",
              "       'vokswagen', 'volkswagen', 'vw', 'volvo'], dtype=object)"
            ]
          },
          "metadata": {
            "tags": []
          },
          "execution_count": 511
        }
      ]
    },
    {
      "cell_type": "markdown",
      "metadata": {
        "id": "sjWqRD_HWEzc",
        "colab_type": "text"
      },
      "source": [
        "видны ошибки в заполнении данных, например \n",
        "\n",
        "*   'maxda' и 'mazda' - это одна марка, аналогично\n",
        "*   'Nissan', 'nissan'\n",
        "*   'porsche', 'porcshce'\n",
        "*   'toyota', 'toyouta'\n",
        "*   'vokswagen', 'volkswagen', 'vw'\n",
        "\n",
        "исправим неправильные названия на правильные:\n",
        "\n"
      ]
    },
    {
      "cell_type": "code",
      "metadata": {
        "id": "GmGx7HElWz3Y",
        "colab_type": "code",
        "outputId": "1336ed04-0968-4a42-c853-9ff81e09dade",
        "colab": {
          "base_uri": "https://localhost:8080/",
          "height": 87
        }
      },
      "source": [
        "def replace_CompanyName(a,b):\n",
        "    dataset.CompanyName.replace(a,b,inplace=True)\n",
        "\n",
        "replace_CompanyName('maxda','mazda')\n",
        "replace_CompanyName('porcshce','porsche')\n",
        "replace_CompanyName('toyouta','toyota')\n",
        "replace_CompanyName('vokswagen','volkswagen')\n",
        "replace_CompanyName('vw','volkswagen')\n",
        "replace_CompanyName('Nissan','nissan')\n",
        "\n",
        "print(dataset.CompanyName.unique(), '\\n всего марок: ', len(dataset.CompanyName.unique()))"
      ],
      "execution_count": 512,
      "outputs": [
        {
          "output_type": "stream",
          "text": [
            "['alfa-romero' 'audi' 'bmw' 'chevrolet' 'dodge' 'honda' 'isuzu' 'jaguar'\n",
            " 'mazda' 'buick' 'mercury' 'mitsubishi' 'nissan' 'peugeot' 'plymouth'\n",
            " 'porsche' 'renault' 'saab' 'subaru' 'toyota' 'volkswagen' 'volvo'] \n",
            " всего марок:  22\n"
          ],
          "name": "stdout"
        }
      ]
    },
    {
      "cell_type": "markdown",
      "metadata": {
        "id": "tctStxjcX0S1",
        "colab_type": "text"
      },
      "source": [
        "получили 22 уникальные, **правильные** марки"
      ]
    },
    {
      "cell_type": "code",
      "metadata": {
        "id": "PzRjfROwSOLA",
        "colab_type": "code",
        "outputId": "47e17478-77f2-4ec6-8659-7820fcc6b538",
        "colab": {
          "base_uri": "https://localhost:8080/",
          "height": 35
        }
      },
      "source": [
        "dataset['symboling'].unique()"
      ],
      "execution_count": 513,
      "outputs": [
        {
          "output_type": "execute_result",
          "data": {
            "text/plain": [
              "array([ 3,  1,  2,  0, -1, -2])"
            ]
          },
          "metadata": {
            "tags": []
          },
          "execution_count": 513
        }
      ]
    },
    {
      "cell_type": "code",
      "metadata": {
        "id": "rFp6XVK8SZv6",
        "colab_type": "code",
        "outputId": "3be350bc-e4eb-4538-ec66-87fd9702b46c",
        "colab": {
          "base_uri": "https://localhost:8080/",
          "height": 35
        }
      },
      "source": [
        "dataset['fueltype'].unique()"
      ],
      "execution_count": 514,
      "outputs": [
        {
          "output_type": "execute_result",
          "data": {
            "text/plain": [
              "array(['gas', 'diesel'], dtype=object)"
            ]
          },
          "metadata": {
            "tags": []
          },
          "execution_count": 514
        }
      ]
    },
    {
      "cell_type": "code",
      "metadata": {
        "id": "2PTLK1OYSpmR",
        "colab_type": "code",
        "outputId": "c9adb7af-04e6-42b3-f146-e7b8a9d8b7ac",
        "colab": {
          "base_uri": "https://localhost:8080/",
          "height": 35
        }
      },
      "source": [
        "dataset['aspiration'].unique()"
      ],
      "execution_count": 515,
      "outputs": [
        {
          "output_type": "execute_result",
          "data": {
            "text/plain": [
              "array(['std', 'turbo'], dtype=object)"
            ]
          },
          "metadata": {
            "tags": []
          },
          "execution_count": 515
        }
      ]
    },
    {
      "cell_type": "code",
      "metadata": {
        "id": "4e89hGqDSpyi",
        "colab_type": "code",
        "outputId": "fd284199-ed13-4dd1-d05e-80a1b6098ce0",
        "colab": {
          "base_uri": "https://localhost:8080/",
          "height": 35
        }
      },
      "source": [
        "dataset['doornumber'].unique()"
      ],
      "execution_count": 516,
      "outputs": [
        {
          "output_type": "execute_result",
          "data": {
            "text/plain": [
              "array(['two', 'four'], dtype=object)"
            ]
          },
          "metadata": {
            "tags": []
          },
          "execution_count": 516
        }
      ]
    },
    {
      "cell_type": "code",
      "metadata": {
        "id": "shNr339TSp0v",
        "colab_type": "code",
        "outputId": "1707bc51-0633-4832-8bdd-b877df538651",
        "colab": {
          "base_uri": "https://localhost:8080/",
          "height": 52
        }
      },
      "source": [
        "dataset['carbody'].unique()"
      ],
      "execution_count": 517,
      "outputs": [
        {
          "output_type": "execute_result",
          "data": {
            "text/plain": [
              "array(['convertible', 'hatchback', 'sedan', 'wagon', 'hardtop'],\n",
              "      dtype=object)"
            ]
          },
          "metadata": {
            "tags": []
          },
          "execution_count": 517
        }
      ]
    },
    {
      "cell_type": "code",
      "metadata": {
        "id": "E1qYxi54Sp4L",
        "colab_type": "code",
        "outputId": "f77e47a0-f8ca-4270-b7b6-6eb02c18e2e7",
        "colab": {
          "base_uri": "https://localhost:8080/",
          "height": 35
        }
      },
      "source": [
        "dataset['drivewheel'].unique()"
      ],
      "execution_count": 518,
      "outputs": [
        {
          "output_type": "execute_result",
          "data": {
            "text/plain": [
              "array(['rwd', 'fwd', '4wd'], dtype=object)"
            ]
          },
          "metadata": {
            "tags": []
          },
          "execution_count": 518
        }
      ]
    },
    {
      "cell_type": "code",
      "metadata": {
        "id": "90GiKApkSpwH",
        "colab_type": "code",
        "outputId": "f6f64a76-63fc-48da-f7f6-cc59aa44d606",
        "colab": {
          "base_uri": "https://localhost:8080/",
          "height": 35
        }
      },
      "source": [
        "dataset['enginelocation'].unique()"
      ],
      "execution_count": 519,
      "outputs": [
        {
          "output_type": "execute_result",
          "data": {
            "text/plain": [
              "array(['front', 'rear'], dtype=object)"
            ]
          },
          "metadata": {
            "tags": []
          },
          "execution_count": 519
        }
      ]
    },
    {
      "cell_type": "code",
      "metadata": {
        "id": "2RVOBn2lTL2Z",
        "colab_type": "code",
        "outputId": "b0f87dcb-111a-40a9-b8eb-65151cafee3c",
        "colab": {
          "base_uri": "https://localhost:8080/",
          "height": 121
        }
      },
      "source": [
        "dataset['wheelbase'].unique() # not intersting"
      ],
      "execution_count": 520,
      "outputs": [
        {
          "output_type": "execute_result",
          "data": {
            "text/plain": [
              "array([ 88.6,  94.5,  99.8,  99.4, 105.8,  99.5, 101.2, 103.5, 110. ,\n",
              "        88.4,  93.7, 103.3,  95.9,  86.6,  96.5,  94.3,  96. , 113. ,\n",
              "       102. ,  93.1,  95.3,  98.8, 104.9, 106.7, 115.6,  96.6, 120.9,\n",
              "       112. , 102.7,  93. ,  96.3,  95.1,  97.2, 100.4,  91.3,  99.2,\n",
              "       107.9, 114.2, 108. ,  89.5,  98.4,  96.1,  99.1,  93.3,  97. ,\n",
              "        96.9,  95.7, 102.4, 102.9, 104.5,  97.3, 104.3, 109.1])"
            ]
          },
          "metadata": {
            "tags": []
          },
          "execution_count": 520
        }
      ]
    },
    {
      "cell_type": "code",
      "metadata": {
        "id": "YUbVHYbzTMGE",
        "colab_type": "code",
        "outputId": "e4ed4c9b-e818-4c79-d7cd-15866ef5d97b",
        "colab": {
          "base_uri": "https://localhost:8080/",
          "height": 173
        }
      },
      "source": [
        "dataset['carlength'].unique() #not intresting"
      ],
      "execution_count": 521,
      "outputs": [
        {
          "output_type": "execute_result",
          "data": {
            "text/plain": [
              "array([168.8, 171.2, 176.6, 177.3, 192.7, 178.2, 176.8, 189. , 193.8,\n",
              "       197. , 141.1, 155.9, 158.8, 157.3, 174.6, 173.2, 144.6, 150. ,\n",
              "       163.4, 157.1, 167.5, 175.4, 169.1, 170.7, 172.6, 199.6, 191.7,\n",
              "       159.1, 166.8, 169. , 177.8, 175. , 190.9, 187.5, 202.6, 180.3,\n",
              "       208.1, 199.2, 178.4, 173. , 172.4, 165.3, 170.2, 165.6, 162.4,\n",
              "       173.4, 181.7, 184.6, 178.5, 186.7, 198.9, 167.3, 168.9, 175.7,\n",
              "       181.5, 186.6, 156.9, 157.9, 172. , 173.5, 173.6, 158.7, 169.7,\n",
              "       166.3, 168.7, 176.2, 175.6, 183.5, 187.8, 171.7, 159.3, 165.7,\n",
              "       180.2, 183.1, 188.8])"
            ]
          },
          "metadata": {
            "tags": []
          },
          "execution_count": 521
        }
      ]
    },
    {
      "cell_type": "code",
      "metadata": {
        "id": "etCdJeJxTMNu",
        "colab_type": "code",
        "outputId": "0ae2ca81-4ba5-41e1-f003-302c962cb669",
        "colab": {
          "base_uri": "https://localhost:8080/",
          "height": 87
        }
      },
      "source": [
        "dataset['carwidth'].unique() #not intersting"
      ],
      "execution_count": 522,
      "outputs": [
        {
          "output_type": "execute_result",
          "data": {
            "text/plain": [
              "array([64.1, 65.5, 66.2, 66.4, 66.3, 71.4, 67.9, 64.8, 66.9, 70.9, 60.3,\n",
              "       63.6, 63.8, 64.6, 63.9, 64. , 65.2, 62.5, 66. , 61.8, 69.6, 70.6,\n",
              "       64.2, 65.7, 66.5, 66.1, 70.3, 71.7, 70.5, 72. , 68. , 64.4, 65.4,\n",
              "       68.4, 68.3, 65. , 72.3, 66.6, 63.4, 65.6, 67.7, 67.2, 68.9, 68.8])"
            ]
          },
          "metadata": {
            "tags": []
          },
          "execution_count": 522
        }
      ]
    },
    {
      "cell_type": "code",
      "metadata": {
        "id": "AWfylwuBTMWO",
        "colab_type": "code",
        "outputId": "f27744c2-e4b4-4bf5-a8b2-3067a8346076",
        "colab": {
          "base_uri": "https://localhost:8080/",
          "height": 295
        }
      },
      "source": [
        "dataset['curbweight'].unique() #not intresting"
      ],
      "execution_count": 523,
      "outputs": [
        {
          "output_type": "execute_result",
          "data": {
            "text/plain": [
              "array([2548, 2823, 2337, 2824, 2507, 2844, 2954, 3086, 3053, 2395, 2710,\n",
              "       2765, 3055, 3230, 3380, 3505, 1488, 1874, 1909, 1876, 2128, 1967,\n",
              "       1989, 2191, 2535, 2811, 1713, 1819, 1837, 1940, 1956, 2010, 2024,\n",
              "       2236, 2289, 2304, 2372, 2465, 2293, 2734, 4066, 3950, 1890, 1900,\n",
              "       1905, 1945, 1950, 2380, 2385, 2500, 2410, 2443, 2425, 2670, 2700,\n",
              "       3515, 3750, 3495, 3770, 3740, 3685, 3900, 3715, 2910, 1918, 1944,\n",
              "       2004, 2145, 2370, 2328, 2833, 2921, 2926, 2365, 2405, 2403, 1889,\n",
              "       2017, 1938, 1951, 2028, 1971, 2037, 2008, 2324, 2302, 3095, 3296,\n",
              "       3060, 3071, 3139, 3020, 3197, 3430, 3075, 3252, 3285, 3485, 3130,\n",
              "       2818, 2778, 2756, 2800, 3366, 2579, 2460, 2658, 2695, 2707, 2758,\n",
              "       2808, 2847, 2050, 2120, 2240, 2190, 2340, 2510, 2290, 2455, 2420,\n",
              "       2650, 1985, 2040, 2015, 2280, 3110, 2081, 2109, 2275, 2094, 2122,\n",
              "       2140, 2169, 2204, 2265, 2300, 2540, 2536, 2551, 2679, 2714, 2975,\n",
              "       2326, 2480, 2414, 2458, 2976, 3016, 3131, 3151, 2261, 2209, 2264,\n",
              "       2212, 2319, 2254, 2221, 2661, 2563, 2912, 3034, 2935, 3042, 3045,\n",
              "       3157, 2952, 3049, 3012, 3217, 3062])"
            ]
          },
          "metadata": {
            "tags": []
          },
          "execution_count": 523
        }
      ]
    },
    {
      "cell_type": "code",
      "metadata": {
        "id": "yEhaksOOT1ov",
        "colab_type": "code",
        "outputId": "a3cbea9f-7e66-4b57-ac85-83f833a33bd0",
        "colab": {
          "base_uri": "https://localhost:8080/",
          "height": 35
        }
      },
      "source": [
        "dataset['enginetype'].unique()"
      ],
      "execution_count": 524,
      "outputs": [
        {
          "output_type": "execute_result",
          "data": {
            "text/plain": [
              "array(['dohc', 'ohcv', 'ohc', 'l', 'rotor', 'ohcf', 'dohcv'], dtype=object)"
            ]
          },
          "metadata": {
            "tags": []
          },
          "execution_count": 524
        }
      ]
    },
    {
      "cell_type": "code",
      "metadata": {
        "id": "0hzzYXwRT2UP",
        "colab_type": "code",
        "outputId": "ce56920a-4860-4552-892a-ab64c9c333c1",
        "colab": {
          "base_uri": "https://localhost:8080/",
          "height": 52
        }
      },
      "source": [
        "dataset['cylindernumber'].unique()"
      ],
      "execution_count": 525,
      "outputs": [
        {
          "output_type": "execute_result",
          "data": {
            "text/plain": [
              "array(['four', 'six', 'five', 'three', 'twelve', 'two', 'eight'],\n",
              "      dtype=object)"
            ]
          },
          "metadata": {
            "tags": []
          },
          "execution_count": 525
        }
      ]
    },
    {
      "cell_type": "code",
      "metadata": {
        "id": "w9g4ZuKIT2bE",
        "colab_type": "code",
        "outputId": "22aabf38-648a-4455-bfd2-e3c96d1c410c",
        "colab": {
          "base_uri": "https://localhost:8080/",
          "height": 52
        }
      },
      "source": [
        "dataset['fuelsystem'].unique()"
      ],
      "execution_count": 526,
      "outputs": [
        {
          "output_type": "execute_result",
          "data": {
            "text/plain": [
              "array(['mpfi', '2bbl', 'mfi', '1bbl', 'spfi', '4bbl', 'idi', 'spdi'],\n",
              "      dtype=object)"
            ]
          },
          "metadata": {
            "tags": []
          },
          "execution_count": 526
        }
      ]
    },
    {
      "cell_type": "code",
      "metadata": {
        "id": "dXpykIlBT2h2",
        "colab_type": "code",
        "colab": {}
      },
      "source": [
        ""
      ],
      "execution_count": 0,
      "outputs": []
    },
    {
      "cell_type": "markdown",
      "metadata": {
        "colab_type": "text",
        "id": "0XdlZrNRcpLK"
      },
      "source": [
        "проверим повторяющиеся значения"
      ]
    },
    {
      "cell_type": "code",
      "metadata": {
        "colab_type": "code",
        "outputId": "a272391d-b07b-411f-e6af-ecd6cddd1a23",
        "id": "5WNgyLbDcpLP",
        "colab": {
          "base_uri": "https://localhost:8080/",
          "height": 243
        }
      },
      "source": [
        "\n",
        "dataset.loc[dataset.duplicated()]"
      ],
      "execution_count": 527,
      "outputs": [
        {
          "output_type": "execute_result",
          "data": {
            "text/html": [
              "<div>\n",
              "<style scoped>\n",
              "    .dataframe tbody tr th:only-of-type {\n",
              "        vertical-align: middle;\n",
              "    }\n",
              "\n",
              "    .dataframe tbody tr th {\n",
              "        vertical-align: top;\n",
              "    }\n",
              "\n",
              "    .dataframe thead th {\n",
              "        text-align: right;\n",
              "    }\n",
              "</style>\n",
              "<table border=\"1\" class=\"dataframe\">\n",
              "  <thead>\n",
              "    <tr style=\"text-align: right;\">\n",
              "      <th></th>\n",
              "      <th>car_ID</th>\n",
              "      <th>symboling</th>\n",
              "      <th>CarName</th>\n",
              "      <th>CompanyName</th>\n",
              "      <th>fueltype</th>\n",
              "      <th>aspiration</th>\n",
              "      <th>doornumber</th>\n",
              "      <th>carbody</th>\n",
              "      <th>drivewheel</th>\n",
              "      <th>enginelocation</th>\n",
              "      <th>wheelbase</th>\n",
              "      <th>carlength</th>\n",
              "      <th>carwidth</th>\n",
              "      <th>carheight</th>\n",
              "      <th>curbweight</th>\n",
              "      <th>enginetype</th>\n",
              "      <th>cylindernumber</th>\n",
              "      <th>enginesize</th>\n",
              "      <th>fuelsystem</th>\n",
              "      <th>boreratio</th>\n",
              "      <th>stroke</th>\n",
              "      <th>compressionratio</th>\n",
              "      <th>horsepower</th>\n",
              "      <th>peakrpm</th>\n",
              "      <th>citympg</th>\n",
              "      <th>highwaympg</th>\n",
              "      <th>price</th>\n",
              "    </tr>\n",
              "  </thead>\n",
              "  <tbody>\n",
              "    <tr>\n",
              "      <th>6</th>\n",
              "      <td>6</td>\n",
              "      <td>2</td>\n",
              "      <td>audi fox</td>\n",
              "      <td>audi</td>\n",
              "      <td>gas</td>\n",
              "      <td>std</td>\n",
              "      <td>two</td>\n",
              "      <td>sedan</td>\n",
              "      <td>fwd</td>\n",
              "      <td>front</td>\n",
              "      <td>99.8</td>\n",
              "      <td>177.3</td>\n",
              "      <td>66.3</td>\n",
              "      <td>53.1</td>\n",
              "      <td>2507</td>\n",
              "      <td>ohc</td>\n",
              "      <td>five</td>\n",
              "      <td>136</td>\n",
              "      <td>mpfi</td>\n",
              "      <td>3.19</td>\n",
              "      <td>3.40</td>\n",
              "      <td>8.5</td>\n",
              "      <td>110</td>\n",
              "      <td>5500</td>\n",
              "      <td>19</td>\n",
              "      <td>25</td>\n",
              "      <td>15250.0</td>\n",
              "    </tr>\n",
              "    <tr>\n",
              "      <th>80</th>\n",
              "      <td>79</td>\n",
              "      <td>2</td>\n",
              "      <td>mitsubishi outlander</td>\n",
              "      <td>mitsubishi</td>\n",
              "      <td>gas</td>\n",
              "      <td>std</td>\n",
              "      <td>two</td>\n",
              "      <td>hatchback</td>\n",
              "      <td>fwd</td>\n",
              "      <td>front</td>\n",
              "      <td>93.7</td>\n",
              "      <td>157.3</td>\n",
              "      <td>64.4</td>\n",
              "      <td>50.8</td>\n",
              "      <td>2004</td>\n",
              "      <td>ohc</td>\n",
              "      <td>four</td>\n",
              "      <td>92</td>\n",
              "      <td>2bbl</td>\n",
              "      <td>2.97</td>\n",
              "      <td>3.23</td>\n",
              "      <td>9.4</td>\n",
              "      <td>68</td>\n",
              "      <td>5500</td>\n",
              "      <td>31</td>\n",
              "      <td>38</td>\n",
              "      <td>6669.0</td>\n",
              "    </tr>\n",
              "    <tr>\n",
              "      <th>137</th>\n",
              "      <td>135</td>\n",
              "      <td>3</td>\n",
              "      <td>saab 99le</td>\n",
              "      <td>saab</td>\n",
              "      <td>gas</td>\n",
              "      <td>std</td>\n",
              "      <td>two</td>\n",
              "      <td>hatchback</td>\n",
              "      <td>fwd</td>\n",
              "      <td>front</td>\n",
              "      <td>99.1</td>\n",
              "      <td>186.6</td>\n",
              "      <td>66.5</td>\n",
              "      <td>56.1</td>\n",
              "      <td>2707</td>\n",
              "      <td>ohc</td>\n",
              "      <td>four</td>\n",
              "      <td>121</td>\n",
              "      <td>mpfi</td>\n",
              "      <td>2.54</td>\n",
              "      <td>2.07</td>\n",
              "      <td>9.3</td>\n",
              "      <td>110</td>\n",
              "      <td>5250</td>\n",
              "      <td>21</td>\n",
              "      <td>28</td>\n",
              "      <td>15040.0</td>\n",
              "    </tr>\n",
              "    <tr>\n",
              "      <th>191</th>\n",
              "      <td>188</td>\n",
              "      <td>2</td>\n",
              "      <td>volkswagen super beetle</td>\n",
              "      <td>volkswagen</td>\n",
              "      <td>diesel</td>\n",
              "      <td>turbo</td>\n",
              "      <td>four</td>\n",
              "      <td>sedan</td>\n",
              "      <td>fwd</td>\n",
              "      <td>front</td>\n",
              "      <td>97.3</td>\n",
              "      <td>171.7</td>\n",
              "      <td>65.5</td>\n",
              "      <td>55.7</td>\n",
              "      <td>2319</td>\n",
              "      <td>ohc</td>\n",
              "      <td>four</td>\n",
              "      <td>97</td>\n",
              "      <td>idi</td>\n",
              "      <td>3.01</td>\n",
              "      <td>3.40</td>\n",
              "      <td>23.0</td>\n",
              "      <td>68</td>\n",
              "      <td>4500</td>\n",
              "      <td>37</td>\n",
              "      <td>42</td>\n",
              "      <td>9495.0</td>\n",
              "    </tr>\n",
              "  </tbody>\n",
              "</table>\n",
              "</div>"
            ],
            "text/plain": [
              "     car_ID  symboling                  CarName  ... citympg highwaympg    price\n",
              "6         6          2                 audi fox  ...      19         25  15250.0\n",
              "80       79          2     mitsubishi outlander  ...      31         38   6669.0\n",
              "137     135          3                saab 99le  ...      21         28  15040.0\n",
              "191     188          2  volkswagen super beetle  ...      37         42   9495.0\n",
              "\n",
              "[4 rows x 27 columns]"
            ]
          },
          "metadata": {
            "tags": []
          },
          "execution_count": 527
        }
      ]
    },
    {
      "cell_type": "markdown",
      "metadata": {
        "colab_type": "text",
        "id": "V5vlulofcpLU"
      },
      "source": [
        "4 значения дублируются, уберем их"
      ]
    },
    {
      "cell_type": "code",
      "metadata": {
        "colab_type": "code",
        "id": "h2QmbNyzcpLU",
        "colab": {}
      },
      "source": [
        "dataset.drop([6, 80, 137, 191], inplace=True)"
      ],
      "execution_count": 0,
      "outputs": []
    },
    {
      "cell_type": "code",
      "metadata": {
        "colab_type": "code",
        "outputId": "50014bdd-5634-4310-ae2e-b359695c4dab",
        "id": "ZjNRFHaFcpLX",
        "colab": {
          "base_uri": "https://localhost:8080/",
          "height": 35
        }
      },
      "source": [
        "dataset.shape"
      ],
      "execution_count": 529,
      "outputs": [
        {
          "output_type": "execute_result",
          "data": {
            "text/plain": [
              "(205, 27)"
            ]
          },
          "metadata": {
            "tags": []
          },
          "execution_count": 529
        }
      ]
    },
    {
      "cell_type": "code",
      "metadata": {
        "colab_type": "code",
        "outputId": "b0681eaa-fc1f-4a5c-d57f-12e52356ef12",
        "id": "wgPjUjiNcpLZ",
        "colab": {
          "base_uri": "https://localhost:8080/",
          "height": 69
        }
      },
      "source": [
        "dataset.loc[dataset.duplicated()]"
      ],
      "execution_count": 530,
      "outputs": [
        {
          "output_type": "execute_result",
          "data": {
            "text/html": [
              "<div>\n",
              "<style scoped>\n",
              "    .dataframe tbody tr th:only-of-type {\n",
              "        vertical-align: middle;\n",
              "    }\n",
              "\n",
              "    .dataframe tbody tr th {\n",
              "        vertical-align: top;\n",
              "    }\n",
              "\n",
              "    .dataframe thead th {\n",
              "        text-align: right;\n",
              "    }\n",
              "</style>\n",
              "<table border=\"1\" class=\"dataframe\">\n",
              "  <thead>\n",
              "    <tr style=\"text-align: right;\">\n",
              "      <th></th>\n",
              "      <th>car_ID</th>\n",
              "      <th>symboling</th>\n",
              "      <th>CarName</th>\n",
              "      <th>CompanyName</th>\n",
              "      <th>fueltype</th>\n",
              "      <th>aspiration</th>\n",
              "      <th>doornumber</th>\n",
              "      <th>carbody</th>\n",
              "      <th>drivewheel</th>\n",
              "      <th>enginelocation</th>\n",
              "      <th>wheelbase</th>\n",
              "      <th>carlength</th>\n",
              "      <th>carwidth</th>\n",
              "      <th>carheight</th>\n",
              "      <th>curbweight</th>\n",
              "      <th>enginetype</th>\n",
              "      <th>cylindernumber</th>\n",
              "      <th>enginesize</th>\n",
              "      <th>fuelsystem</th>\n",
              "      <th>boreratio</th>\n",
              "      <th>stroke</th>\n",
              "      <th>compressionratio</th>\n",
              "      <th>horsepower</th>\n",
              "      <th>peakrpm</th>\n",
              "      <th>citympg</th>\n",
              "      <th>highwaympg</th>\n",
              "      <th>price</th>\n",
              "    </tr>\n",
              "  </thead>\n",
              "  <tbody>\n",
              "  </tbody>\n",
              "</table>\n",
              "</div>"
            ],
            "text/plain": [
              "Empty DataFrame\n",
              "Columns: [car_ID, symboling, CarName, CompanyName, fueltype, aspiration, doornumber, carbody, drivewheel, enginelocation, wheelbase, carlength, carwidth, carheight, curbweight, enginetype, cylindernumber, enginesize, fuelsystem, boreratio, stroke, compressionratio, horsepower, peakrpm, citympg, highwaympg, price]\n",
              "Index: []"
            ]
          },
          "metadata": {
            "tags": []
          },
          "execution_count": 530
        }
      ]
    },
    {
      "cell_type": "markdown",
      "metadata": {
        "colab_type": "text",
        "id": "z6Up38LUcpLd"
      },
      "source": [
        "дублирующие значения убраны"
      ]
    },
    {
      "cell_type": "markdown",
      "metadata": {
        "id": "dKbMHyL6sWOo",
        "colab_type": "text"
      },
      "source": [
        "# Визуализация числовых данных"
      ]
    },
    {
      "cell_type": "code",
      "metadata": {
        "id": "al_q17YNIaOw",
        "colab_type": "code",
        "outputId": "ab7c7aec-c366-47f9-dc35-a302545d5083",
        "colab": {
          "base_uri": "https://localhost:8080/",
          "height": 505
        }
      },
      "source": [
        "plt.figure(figsize=(20,8))\n",
        "\n",
        "plt.subplot(1,2,1)\n",
        "plt.title('Car Price Distribution Plot')\n",
        "sns.distplot(dataset.price)\n",
        "\n",
        "plt.subplot(1,2,2)\n",
        "plt.title('Car Price Spread')\n",
        "sns.boxplot(y=dataset.price)\n",
        "\n",
        "plt.show()"
      ],
      "execution_count": 531,
      "outputs": [
        {
          "output_type": "display_data",
          "data": {
            "image/png": "[encoded data removed]",
            "text/plain": [
              "<Figure size 1440x576 with 2 Axes>"
            ]
          },
          "metadata": {
            "tags": [],
            "needs_background": "light"
          }
        }
      ]
    },
    {
      "cell_type": "code",
      "metadata": {
        "id": "x9t3AF-9IaXx",
        "colab_type": "code",
        "outputId": "db1be0b6-91d6-4994-b9ae-5019c54ac36e",
        "colab": {
          "base_uri": "https://localhost:8080/",
          "height": 225
        }
      },
      "source": [
        "print(dataset.price.describe(percentiles = [0.25,0.50,0.75,0.85,0.90,1]))"
      ],
      "execution_count": 532,
      "outputs": [
        {
          "output_type": "stream",
          "text": [
            "count      205.000000\n",
            "mean     13276.710571\n",
            "std       7988.852332\n",
            "min       5118.000000\n",
            "25%       7788.000000\n",
            "50%      10295.000000\n",
            "75%      16503.000000\n",
            "85%      18500.000000\n",
            "90%      22563.000000\n",
            "100%     45400.000000\n",
            "max      45400.000000\n",
            "Name: price, dtype: float64\n"
          ],
          "name": "stdout"
        }
      ]
    },
    {
      "cell_type": "markdown",
      "metadata": {
        "id": "ii7WzR1qJOOD",
        "colab_type": "text"
      },
      "source": [
        "**Вывод:**\n",
        "* График оказался перекошенным, а это означает, что большинство цен в наборе данных низкие (ниже 15 000).\n",
        "\n",
        "* Существует значительная разница между средним значением цены и ее медианой.\n",
        "\n",
        "* Точки данных далеко разбросаны от среднего значения, что указывает на высокую разницу в ценах на автомобили (85% цен ниже 18 500, а остальные 15% находятся между 18 500 и 45 400)."
      ]
    },
    {
      "cell_type": "code",
      "metadata": {
        "id": "0x-2ba0UOGom",
        "colab_type": "code",
        "outputId": "c1a04afb-9006-4797-a42a-f22fbb9d3d07",
        "colab": {
          "base_uri": "https://localhost:8080/",
          "height": 879
        }
      },
      "source": [
        "#распределение числовых параметров\n",
        "%matplotlib inline\n",
        "\n",
        "dataset.hist(bins=50, figsize=(20,15))\n",
        "\n",
        "plt.show()"
      ],
      "execution_count": 533,
      "outputs": [
        {
          "output_type": "display_data",
          "data": {
            "image/png": "[encoded data removed]",
            "text/plain": [
              "<Figure size 1440x1080 with 16 Axes>"
            ]
          },
          "metadata": {
            "tags": [],
            "needs_background": "light"
          }
        }
      ]
    },
    {
      "cell_type": "markdown",
      "metadata": {
        "id": "f8YyiUZxsu3z",
        "colab_type": "text"
      },
      "source": [
        "Визуализация зависимости цены от веса, длины, ширины, пробега, и т.д., очевидно реализовывается одинаково, поэтому напишем одну функцию и используем ее ."
      ]
    },
    {
      "cell_type": "code",
      "metadata": {
        "id": "vHClazONscTT",
        "colab_type": "code",
        "outputId": "fddff5b9-09be-41d2-ac38-8226f5a05af5",
        "colab": {
          "base_uri": "https://localhost:8080/",
          "height": 604
        }
      },
      "source": [
        "def draw(x,pos):\n",
        "    plt.subplot(5,2,pos)\n",
        "    plt.scatter(dataset[x],dataset['price'])\n",
        "    plt.title('зависимость цены от ' + x)\n",
        "    plt.ylabel('Цена')\n",
        "    plt.xlabel(x)\n",
        "\n",
        "plt.figure(figsize=(10,20))\n",
        "\n",
        "draw('carlength', 1)\n",
        "draw('carwidth', 2)\n",
        "draw('carheight', 3)\n",
        "draw('curbweight', 4)\n",
        "\n",
        "plt.tight_layout()"
      ],
      "execution_count": 534,
      "outputs": [
        {
          "output_type": "display_data",
          "data": {
            "image/png": "[encoded data removed]",
            "text/plain": [
              "<Figure size 720x1440 with 4 Axes>"
            ]
          },
          "metadata": {
            "tags": [],
            "needs_background": "light"
          }
        }
      ]
    },
    {
      "cell_type": "markdown",
      "metadata": {
        "id": "4GY_GOvCtsXI",
        "colab_type": "text"
      },
      "source": [
        "**Вывод:**\n",
        "\n",
        "* В целом можно наблюдать положительню корреляцию цены с шириной, длинной и весом авто\n",
        "* Корреляция с высотой не наблюдается"
      ]
    },
    {
      "cell_type": "code",
      "metadata": {
        "id": "GB8yb3i3vVIa",
        "colab_type": "code",
        "outputId": "1fafc74d-ed6d-4cb8-8594-d5418c728e1f",
        "colab": {
          "base_uri": "https://localhost:8080/",
          "height": 604
        }
      },
      "source": [
        "\n",
        "plt.figure(figsize=(10,20))\n",
        "\n",
        "draw('enginesize', 1)\n",
        "draw('boreratio', 2)\n",
        "draw('horsepower', 3)\n",
        "draw('wheelbase', 4)\n",
        "\n",
        "plt.tight_layout()\n",
        "\n"
      ],
      "execution_count": 535,
      "outputs": [
        {
          "output_type": "display_data",
          "data": {
            "image/png": "[encoded data removed]",
            "text/plain": [
              "<Figure size 720x1440 with 4 Axes>"
            ]
          },
          "metadata": {
            "tags": [],
            "needs_background": "light"
          }
        }
      ]
    },
    {
      "cell_type": "markdown",
      "metadata": {
        "id": "oRGaAqj3v5LL",
        "colab_type": "text"
      },
      "source": [
        "**Вывод:**\n",
        "наблюдается положительная корреляция с объемом двигателя, мощностью и размером колесной базы\n",
        "\n"
      ]
    },
    {
      "cell_type": "code",
      "metadata": {
        "id": "H752Sn2SvOXd",
        "colab_type": "code",
        "outputId": "1cc121f2-592d-4fbf-a42d-8e9d1d93ed66",
        "colab": {
          "base_uri": "https://localhost:8080/",
          "height": 604
        }
      },
      "source": [
        "\n",
        "plt.figure(figsize=(10,20))\n",
        "\n",
        "draw('stroke', 1)\n",
        "draw('compressionratio', 2)\n",
        "draw('peakrpm', 3)\n",
        "\n",
        "\n",
        "plt.tight_layout()"
      ],
      "execution_count": 536,
      "outputs": [
        {
          "output_type": "display_data",
          "data": {
            "image/png": "[encoded data removed]",
            "text/plain": [
              "<Figure size 720x1440 with 3 Axes>"
            ]
          },
          "metadata": {
            "tags": [],
            "needs_background": "light"
          }
        }
      ]
    },
    {
      "cell_type": "markdown",
      "metadata": {
        "id": "3yPEhpKJ0ZZ8",
        "colab_type": "text"
      },
      "source": [
        "**Вывод:**\n",
        "нет корреляции с данными величинами\n"
      ]
    },
    {
      "cell_type": "code",
      "metadata": {
        "id": "kp03mh0wZ7dX",
        "colab_type": "code",
        "colab": {
          "base_uri": "https://localhost:8080/",
          "height": 325
        },
        "outputId": "ff78a4b4-d943-4c19-b090-cbba3bbc4f7b"
      },
      "source": [
        "plt.figure(figsize=(10,20))\n",
        "\n",
        "draw('citympg', 1)\n",
        "draw('highwaympg', 2)\n",
        "\n",
        "\n",
        "plt.tight_layout()"
      ],
      "execution_count": 538,
      "outputs": [
        {
          "output_type": "display_data",
          "data": {
            "image/png": "[encoded data removed]",
            "text/plain": [
              "<Figure size 720x1440 with 2 Axes>"
            ]
          },
          "metadata": {
            "tags": [],
            "needs_background": "light"
          }
        }
      ]
    },
    {
      "cell_type": "markdown",
      "metadata": {
        "id": "LAtrfdwua-Xl",
        "colab_type": "text"
      },
      "source": [
        "**Вывод:**\n",
        "* Отрицательная корреляция с расходом топлива\n"
      ]
    },
    {
      "cell_type": "markdown",
      "metadata": {
        "id": "iMVMUpf6sLuU",
        "colab_type": "text"
      },
      "source": [
        "# Визуализация категориальных данных"
      ]
    },
    {
      "cell_type": "code",
      "metadata": {
        "id": "ApzPkej-JlYL",
        "colab_type": "code",
        "outputId": "d26b658f-98d0-420b-957a-d7bfb92dbe7c",
        "colab": {
          "base_uri": "https://localhost:8080/",
          "height": 0
        }
      },
      "source": [
        "\n",
        "plt.figure(figsize=(20,8))\n",
        "plt.subplot(1,3,1)\n",
        "\n",
        "#sns.countplot(dataset.CompanyName, palette=(\"cubehelix\"))\n",
        "plt1 = dataset.CompanyName.value_counts().plot.bar()\n",
        "plt.title('Распределение автомобилей по маркам')\n",
        "plt1.set(xlabel = 'Марки', ylabel='Количество авто данной марки')\n",
        "\n",
        "\n",
        "plt.subplot(1,3,2)\n",
        "plt1 = dataset.fueltype.value_counts().plot.bar(rot = 0, cmap = 'Accent')\n",
        "plt.title('Распределение по типу топлива')\n",
        "plt1.set(xlabel = 'Топливо', ylabel='Количество авто данного типа')\n",
        "\n",
        "plt.subplot(1,3,3)\n",
        "plt1 = dataset.carbody.value_counts().plot.bar()\n",
        "plt.title('Распределение по типу кузова')\n",
        "plt1.set(xlabel = 'Тип кузова', ylabel='Количество авто данного типа')\n",
        "\n",
        "\n",
        "\n",
        "plt.show()"
      ],
      "execution_count": 450,
      "outputs": [
        {
          "output_type": "display_data",
          "data": {
            "image/png": "[encoded data removed]",
            "text/plain": [
              "<Figure size 1440x576 with 3 Axes>"
            ]
          },
          "metadata": {
            "tags": [],
            "needs_background": "light"
          }
        }
      ]
    },
    {
      "cell_type": "markdown",
      "metadata": {
        "id": "VrwuJHmrTMO3",
        "colab_type": "text"
      },
      "source": [
        "**Вывод:**\n",
        "* Наиболее популярой компанией оказалась Тойота\n",
        "\n",
        "* Количество автомобилей, работающих на бинзине сильно больше, чем на дизеле \n",
        "\n",
        "* Седан - самый популярный тип автомобилей."
      ]
    },
    {
      "cell_type": "markdown",
      "metadata": {
        "id": "39AIAyaHVdM6",
        "colab_type": "text"
      },
      "source": [
        "посмотрим на параметр страхового риска (от -2 до +3)"
      ]
    },
    {
      "cell_type": "code",
      "metadata": {
        "id": "cPRxVIASThKW",
        "colab_type": "code",
        "outputId": "1ea28b6f-aff6-4eb2-e1dc-f202cd93ad33",
        "colab": {
          "base_uri": "https://localhost:8080/",
          "height": 0
        }
      },
      "source": [
        "plt.figure(figsize=(20,8))\n",
        "\n",
        "plt.subplot(1,2,1)\n",
        "plt.title('Распределение страхового риска')\n",
        "sns.countplot(dataset.symboling, palette=(\"cubehelix\"))\n",
        "\n",
        "plt.subplot(1,2,2)\n",
        "plt.title('Связь риска и цены')\n",
        "sns.boxplot(x=dataset.symboling, y=dataset.price, palette=(\"cubehelix\"))\n",
        "\n",
        "plt.show()"
      ],
      "execution_count": 451,
      "outputs": [
        {
          "output_type": "display_data",
          "data": {
            "image/png": "[encoded data removed]",
            "text/plain": [
              "<Figure size 1440x576 with 2 Axes>"
            ]
          },
          "metadata": {
            "tags": [],
            "needs_background": "light"
          }
        }
      ]
    },
    {
      "cell_type": "markdown",
      "metadata": {
        "id": "Qwt5zLNHVlMC",
        "colab_type": "text"
      },
      "source": [
        "**Вывод:**\n",
        "* Видно, что наиболее продаваемые автомобили с рейтингом 0 и 1\n",
        "\n",
        "* Из боксплота можно сделать вывод, что автомобили с рейтингом -1 стоят дорого (дорогие авто реже попадают в аварии)\n",
        "\n",
        "* автомобили с рейтингом 3 и -1 находятся в одной ценовой категории.\n",
        "\n",
        "* Авто с рейтингом 1 - самые дешевые. (и при этом одни из самых продавваемых)"
      ]
    },
    {
      "cell_type": "code",
      "metadata": {
        "id": "d0em_CvETspR",
        "colab_type": "code",
        "outputId": "bbe61fa0-003d-46be-b087-cfb200069a76",
        "colab": {
          "base_uri": "https://localhost:8080/",
          "height": 0
        }
      },
      "source": [
        "plt.figure(figsize=(20,8))\n",
        "\n",
        "plt.subplot(1,2,1)\n",
        "plt.title('Типы двигателя')\n",
        "sns.countplot(dataset.enginetype, palette=(\"bright\"))\n",
        "\n",
        "plt.subplot(1,2,2)\n",
        "plt.title('Зависимость типа двигателя от цены')\n",
        "sns.boxplot(x=dataset.enginetype, y=dataset.price, palette=(\"muted\"))\n",
        "\n",
        "plt.show()\n",
        "\n",
        "df = pd.DataFrame(dataset.groupby(['enginetype'])['price'].mean().sort_values(ascending = False))\n",
        "df.plot.bar(figsize=(8,6), cmap = 'cool')\n",
        "plt.title('Средняя цена на каждый тип двигателя')\n",
        "plt.show()"
      ],
      "execution_count": 452,
      "outputs": [
        {
          "output_type": "display_data",
          "data": {
            "image/png": "[encoded data removed]",
            "text/plain": [
              "<Figure size 1440x576 with 2 Axes>"
            ]
          },
          "metadata": {
            "tags": [],
            "needs_background": "light"
          }
        },
        {
          "output_type": "display_data",
          "data": {
            "image/png": "[encoded data removed]",
            "text/plain": [
              "<Figure size 576x432 with 1 Axes>"
            ]
          },
          "metadata": {
            "tags": [],
            "needs_background": "light"
          }
        }
      ]
    },
    {
      "cell_type": "markdown",
      "metadata": {
        "id": "ZVAP90AUZezs",
        "colab_type": "text"
      },
      "source": [
        "**Вывод: **\n",
        "* ohc - наиболее предпочтительный тип. (с минимальной средней ценой и значительным ценовым диапозоном). твердо занимает низ рынка\n",
        "\n",
        "* Роторные и dohcv двигатели почти не пользуются спросом, при этом * dohcv - почти не имеет разброса в цене (всегда дорогие), а роторные - обычно дешевые\n",
        "\n",
        "* ohcv - имеет самый широкий ценовой диапазон(от 14к до 45к) пользуется неплохим спросом среди дорогих авто\n",
        "\n",
        "\n",
        "\n"
      ]
    },
    {
      "cell_type": "markdown",
      "metadata": {
        "id": "ZWDV0Hy8c3bN",
        "colab_type": "text"
      },
      "source": [
        "поищем следующие зависимости средней цены:"
      ]
    },
    {
      "cell_type": "code",
      "metadata": {
        "id": "nEg3FStKbn7g",
        "colab_type": "code",
        "outputId": "a4d8790d-8013-452e-c931-456ce71d41aa",
        "colab": {
          "base_uri": "https://localhost:8080/",
          "height": 0
        }
      },
      "source": [
        "plt.figure(figsize=(25, 6))\n",
        "\n",
        "df = pd.DataFrame(dataset.groupby(['CompanyName'])['price'].mean().sort_values(ascending = False))\n",
        "df.plot.bar()\n",
        "plt.title('Зависимость средней цены от марки')\n",
        "plt.show()\n",
        "\n",
        "df = pd.DataFrame(dataset.groupby(['fueltype'])['price'].mean().sort_values(ascending = False))\n",
        "df.plot.bar()\n",
        "plt.title('Зависимость средней цены от типа топлива')\n",
        "plt.show()\n",
        "\n",
        "df = pd.DataFrame(dataset.groupby(['carbody'])['price'].mean().sort_values(ascending = False))\n",
        "df.plot.bar()\n",
        "plt.title('Зависимость средней цены от типа кузова')\n",
        "plt.show()"
      ],
      "execution_count": 453,
      "outputs": [
        {
          "output_type": "display_data",
          "data": {
            "text/plain": [
              "<Figure size 1800x432 with 0 Axes>"
            ]
          },
          "metadata": {
            "tags": []
          }
        },
        {
          "output_type": "display_data",
          "data": {
            "image/png": "[encoded data removed]",
            "text/plain": [
              "<Figure size 432x288 with 1 Axes>"
            ]
          },
          "metadata": {
            "tags": [],
            "needs_background": "light"
          }
        },
        {
          "output_type": "display_data",
          "data": {
            "image/png": "[encoded data removed]",
            "text/plain": [
              "<Figure size 432x288 with 1 Axes>"
            ]
          },
          "metadata": {
            "tags": [],
            "needs_background": "light"
          }
        },
        {
          "output_type": "display_data",
          "data": {
            "image/png": "[encoded data removed]",
            "text/plain": [
              "<Figure size 432x288 with 1 Axes>"
            ]
          },
          "metadata": {
            "tags": [],
            "needs_background": "light"
          }
        }
      ]
    },
    {
      "cell_type": "markdown",
      "metadata": {
        "id": "Yar-EEC1dm7m",
        "colab_type": "text"
      },
      "source": [
        "**Вывод:**\n",
        "\n",
        "* Cамые дорогие марки: Ягуар, Бьюик, Порше и BMW\n",
        "\n",
        "* В дешевом сегменте твердо укрепились американские и азиатские авто\n",
        "\n",
        "* Середину рынка делят между собой европейские и японские компании\n",
        "\n",
        "* Дизельные авто, в среднем, немного дороже бензиновых, но это различие едва можно назвать существенным\n",
        "\n",
        "* Самыми дорогими являются хардтопы и кабриолета\n",
        "\n",
        "* Самыми дешевыми - хэчбеки\n",
        "\n",
        "* Фургоны и седаны занимают средний ценовой сегмент\n",
        "\n",
        "\n"
      ]
    },
    {
      "cell_type": "code",
      "metadata": {
        "id": "b9okYa9Lboss",
        "colab_type": "code",
        "outputId": "9a578cc0-fec6-4cf0-cc61-dded01008418",
        "colab": {
          "base_uri": "https://localhost:8080/",
          "height": 0
        }
      },
      "source": [
        "plt.figure(figsize=(15,5))\n",
        "\n",
        "plt.subplot(1,2,1)\n",
        "plt.title('Количество дверей в авто')\n",
        "sns.countplot(dataset.doornumber, palette=(\"plasma\"))\n",
        "\n",
        "plt.subplot(1,2,2)\n",
        "plt.title('Зависимость цены от количество дверей')\n",
        "sns.boxplot(x=dataset.doornumber, y=dataset.price, palette=(\"plasma\"))\n",
        "\n",
        "plt.show()\n",
        "\n",
        "\n"
      ],
      "execution_count": 454,
      "outputs": [
        {
          "output_type": "display_data",
          "data": {
            "image/png": "[encoded data removed]",
            "text/plain": [
              "<Figure size 1080x360 with 2 Axes>"
            ]
          },
          "metadata": {
            "tags": [],
            "needs_background": "light"
          }
        }
      ]
    },
    {
      "cell_type": "markdown",
      "metadata": {
        "id": "2wEB6Gv4fgY4",
        "colab_type": "text"
      },
      "source": [
        "**Вывод:**\n",
        "* Четырехдверные авто пользуются бОльшим спросом, чем двухдверные, однако, цена отличается не сильно\n",
        "* Можно считать эту переменную незначимой"
      ]
    },
    {
      "cell_type": "markdown",
      "metadata": {
        "id": "r_sSOEOdgnz6",
        "colab_type": "text"
      },
      "source": [
        "Параметр aspiration - показывает оснащен ли автомобиль турбонаддувом или имеет атмосферный двигатель"
      ]
    },
    {
      "cell_type": "code",
      "metadata": {
        "id": "qteC3D3tfQ7G",
        "colab_type": "code",
        "outputId": "beaf90ff-6f7f-4200-899e-53655db016d2",
        "colab": {
          "base_uri": "https://localhost:8080/",
          "height": 0
        }
      },
      "source": [
        "plt.figure(figsize=(15,5))\n",
        "\n",
        "plt.subplot(1,2,1)\n",
        "plt.title('Турбированные и атмосферные двигатели')\n",
        "sns.countplot(dataset.aspiration, palette=(\"plasma\"))\n",
        "\n",
        "plt.subplot(1,2,2)\n",
        "plt.title('Зависимость цены от типа двигателя')\n",
        "sns.boxplot(x=dataset.aspiration, y=dataset.price, palette=(\"plasma\"))\n",
        "\n",
        "plt.show()"
      ],
      "execution_count": 455,
      "outputs": [
        {
          "output_type": "display_data",
          "data": {
            "image/png": "[encoded data removed]",
            "text/plain": [
              "<Figure size 1080x360 with 2 Axes>"
            ]
          },
          "metadata": {
            "tags": [],
            "needs_background": "light"
          }
        }
      ]
    },
    {
      "cell_type": "markdown",
      "metadata": {
        "id": "g8fKh95Qg3vI",
        "colab_type": "text"
      },
      "source": [
        "**Вывод:**\n",
        "\n",
        "* Атмосферные двигатели намного популярнее турбированных\n",
        "\n",
        "* Кажется, что \"турбовые\" двигатели дороже, но \"атмосферники\" имеют много значений за пределами усов "
      ]
    },
    {
      "cell_type": "code",
      "metadata": {
        "id": "sxJhbp5SiH7V",
        "colab_type": "code",
        "outputId": "82377f73-313a-4c94-e8f2-5e5973ddfe1f",
        "colab": {
          "base_uri": "https://localhost:8080/",
          "height": 0
        }
      },
      "source": [
        "plt.figure(figsize=(15,5))\n",
        "\n",
        "plt.subplot(1,2,1)\n",
        "plt.title('Расположение двигателя')\n",
        "sns.countplot(dataset.enginelocation, palette=(\"cool\"))\n",
        "\n",
        "plt.subplot(1,2,2)\n",
        "plt.title('Зависимость цены от располажения двигателя')\n",
        "sns.boxplot(x=dataset.enginelocation, y=dataset.price, palette=(\"cool\"))\n",
        "\n",
        "plt.show()"
      ],
      "execution_count": 456,
      "outputs": [
        {
          "output_type": "display_data",
          "data": {
            "image/png": "[encoded data removed]",
            "text/plain": [
              "<Figure size 1080x360 with 2 Axes>"
            ]
          },
          "metadata": {
            "tags": [],
            "needs_background": "light"
          }
        }
      ]
    },
    {
      "cell_type": "markdown",
      "metadata": {
        "id": "PdG4OZUIjPPy",
        "colab_type": "text"
      },
      "source": [
        "**Вывод:**\n",
        "* Заднемоторных авто очень мало, но, при этом, они сильно дороже переднемоторных(за исключением выбросов)"
      ]
    },
    {
      "cell_type": "code",
      "metadata": {
        "id": "mFZp7ff5iID-",
        "colab_type": "code",
        "outputId": "8dd4f62b-cccb-41b7-e5a6-fd6df747ceef",
        "colab": {
          "base_uri": "https://localhost:8080/",
          "height": 0
        }
      },
      "source": [
        "plt.figure(figsize=(15,5))\n",
        "\n",
        "plt.subplot(1,2,1)\n",
        "plt.title('Количество цилиндров')\n",
        "sns.countplot(dataset.cylindernumber, palette=(\"cool\"))\n",
        "\n",
        "plt.subplot(1,2,2)\n",
        "plt.title('Зависимость цены от количества цилиндров')\n",
        "sns.boxplot(x=dataset.cylindernumber, y=dataset.price, palette=(\"cool\"))\n",
        "\n",
        "plt.show()"
      ],
      "execution_count": 457,
      "outputs": [
        {
          "output_type": "display_data",
          "data": {
            "image/png": "[encoded data removed]",
            "text/plain": [
              "<Figure size 1080x360 with 2 Axes>"
            ]
          },
          "metadata": {
            "tags": [],
            "needs_background": "light"
          }
        }
      ]
    },
    {
      "cell_type": "markdown",
      "metadata": {
        "id": "6q7kS7x4kKvd",
        "colab_type": "text"
      },
      "source": [
        "**Вывод:**\n",
        "* Самые популярные и, при этом, дешевые авто, с большим ассортиментом имеют четыре цилиндра\n",
        "* 3-ех цилиндровые авто - самые дешевые, но почти не пользуются спросом\n",
        "* Средний сегмент плотно заняли 5-ти и 6-ти цилиндровые двигатели\n",
        "* Восьми и 12-ти цилиндровые авто можно отнести к премиум сегменту (их немного и они дорогие)"
      ]
    },
    {
      "cell_type": "code",
      "metadata": {
        "id": "2Q7UWferlB85",
        "colab_type": "code",
        "outputId": "64f9e89e-250e-4e1e-eaf3-f515d08e4b0d",
        "colab": {
          "base_uri": "https://localhost:8080/",
          "height": 0
        }
      },
      "source": [
        "plt.figure(figsize=(15,5))\n",
        "\n",
        "plt.subplot(1,2,1)\n",
        "plt.title('Системы впрыска')\n",
        "sns.countplot(dataset.fuelsystem, palette=(\"cool\"))\n",
        "\n",
        "plt.subplot(1,2,2)\n",
        "plt.title('Зависимость цены от системы впрыска')\n",
        "sns.boxplot(x=dataset.fuelsystem, y=dataset.price, palette=(\"cool\"))\n",
        "\n",
        "plt.show()"
      ],
      "execution_count": 458,
      "outputs": [
        {
          "output_type": "display_data",
          "data": {
            "image/png": "[encoded data removed]",
            "text/plain": [
              "<Figure size 1080x360 with 2 Axes>"
            ]
          },
          "metadata": {
            "tags": [],
            "needs_background": "light"
          }
        }
      ]
    },
    {
      "cell_type": "markdown",
      "metadata": {
        "id": "2w2rQJRmlli_",
        "colab_type": "text"
      },
      "source": [
        "**Вывод:**\n",
        "* mpfi - самая расспространенная система с с большим диапозоном цен в среднем сегменте и множественными выбросами в премиум сегменте\n",
        "* mpfi и idi - имеют наибольший ценовой диапазон\n",
        "* 2bbl и 1bbl-  очень распространенны среди дешевых машин\n",
        "* spfi и mfi - не пользуются популярностью и являются представителями среднего и эконом сегмента\n",
        "* idi - встречается довольно часто в среднем и премиум сегментах \n"
      ]
    },
    {
      "cell_type": "code",
      "metadata": {
        "id": "KnzFyElClMC9",
        "colab_type": "code",
        "outputId": "d29d38f5-ed1c-4b25-baec-a8917b1b64f4",
        "colab": {
          "base_uri": "https://localhost:8080/",
          "height": 0
        }
      },
      "source": [
        "plt.figure(figsize=(15,5))\n",
        "\n",
        "plt.subplot(1,2,1)\n",
        "plt.title('Привод автомобиля')\n",
        "sns.countplot(dataset.drivewheel, palette=(\"cool\"))\n",
        "\n",
        "plt.subplot(1,2,2)\n",
        "plt.title('Зависимость цены от привода автомобиля')\n",
        "sns.boxplot(x=dataset.drivewheel, y=dataset.price, palette=(\"cool\"))\n",
        "\n",
        "plt.show()\n",
        "\n",
        "\n"
      ],
      "execution_count": 459,
      "outputs": [
        {
          "output_type": "display_data",
          "data": {
            "image/png": "[encoded data removed]",
            "text/plain": [
              "<Figure size 1080x360 with 2 Axes>"
            ]
          },
          "metadata": {
            "tags": [],
            "needs_background": "light"
          }
        }
      ]
    },
    {
      "cell_type": "markdown",
      "metadata": {
        "id": "LVAz8x57nJRa",
        "colab_type": "text"
      },
      "source": [
        "**Вывод:**\n",
        "* Наиболее распространенны переднеприводные авто\n",
        "* Переднеприводные авто плотно занимают низ рынка\n",
        "* Заднеприводные авто имеют неплохой спрос и огромнейший диапазон цен (от эконом до премиум сегмента)\n",
        "* Полноприводные авто почти не пользуются популярностью и находятся в низу рынка\n"
      ]
    },
    {
      "cell_type": "markdown",
      "metadata": {
        "id": "YX-_Fn-0vp3r",
        "colab_type": "text"
      },
      "source": [
        "# добавление новых переменных"
      ]
    },
    {
      "cell_type": "markdown",
      "metadata": {
        "id": "1Wik-080v8W0",
        "colab_type": "text"
      },
      "source": [
        "очевидно, что cредний расход топлива автомобиля легко заменит два параматера:расход в городе и расход по трассе"
      ]
    },
    {
      "cell_type": "code",
      "metadata": {
        "id": "Ae7_KnaAn7l3",
        "colab_type": "code",
        "colab": {}
      },
      "source": [
        "dataset['mpg'] = (dataset['citympg'] + dataset['highwaympg'])/2"
      ],
      "execution_count": 0,
      "outputs": []
    },
    {
      "cell_type": "code",
      "metadata": {
        "id": "tWlnZ-FA6S2b",
        "colab_type": "code",
        "colab": {}
      },
      "source": [
        "dataset.drop('citympg', axis = 1, inplace = True)\n",
        "dataset.drop('highwaympg', axis = 1, inplace = True)"
      ],
      "execution_count": 0,
      "outputs": []
    },
    {
      "cell_type": "markdown",
      "metadata": {
        "id": "54sDhUiL7n-2",
        "colab_type": "text"
      },
      "source": [
        "# создание разных обучающих выборок"
      ]
    },
    {
      "cell_type": "code",
      "metadata": {
        "id": "3KEKIjPX8gr5",
        "colab_type": "code",
        "outputId": "e73601bd-f382-447f-ceb0-e8bc5f0d14ed",
        "colab": {
          "base_uri": "https://localhost:8080/",
          "height": 529
        }
      },
      "source": [
        "dataset.corr()"
      ],
      "execution_count": 462,
      "outputs": [
        {
          "output_type": "execute_result",
          "data": {
            "text/html": [
              "<div>\n",
              "<style scoped>\n",
              "    .dataframe tbody tr th:only-of-type {\n",
              "        vertical-align: middle;\n",
              "    }\n",
              "\n",
              "    .dataframe tbody tr th {\n",
              "        vertical-align: top;\n",
              "    }\n",
              "\n",
              "    .dataframe thead th {\n",
              "        text-align: right;\n",
              "    }\n",
              "</style>\n",
              "<table border=\"1\" class=\"dataframe\">\n",
              "  <thead>\n",
              "    <tr style=\"text-align: right;\">\n",
              "      <th></th>\n",
              "      <th>car_ID</th>\n",
              "      <th>symboling</th>\n",
              "      <th>wheelbase</th>\n",
              "      <th>carlength</th>\n",
              "      <th>carwidth</th>\n",
              "      <th>carheight</th>\n",
              "      <th>curbweight</th>\n",
              "      <th>enginesize</th>\n",
              "      <th>boreratio</th>\n",
              "      <th>stroke</th>\n",
              "      <th>compressionratio</th>\n",
              "      <th>horsepower</th>\n",
              "      <th>peakrpm</th>\n",
              "      <th>price</th>\n",
              "      <th>mpg</th>\n",
              "    </tr>\n",
              "  </thead>\n",
              "  <tbody>\n",
              "    <tr>\n",
              "      <th>car_ID</th>\n",
              "      <td>1.000000</td>\n",
              "      <td>-0.151621</td>\n",
              "      <td>0.129729</td>\n",
              "      <td>0.170636</td>\n",
              "      <td>0.052387</td>\n",
              "      <td>0.255960</td>\n",
              "      <td>0.071962</td>\n",
              "      <td>-0.033930</td>\n",
              "      <td>0.260064</td>\n",
              "      <td>-0.160824</td>\n",
              "      <td>0.150276</td>\n",
              "      <td>-0.015006</td>\n",
              "      <td>-0.203789</td>\n",
              "      <td>-0.109093</td>\n",
              "      <td>0.013636</td>\n",
              "    </tr>\n",
              "    <tr>\n",
              "      <th>symboling</th>\n",
              "      <td>-0.151621</td>\n",
              "      <td>1.000000</td>\n",
              "      <td>-0.531954</td>\n",
              "      <td>-0.357612</td>\n",
              "      <td>-0.232919</td>\n",
              "      <td>-0.541038</td>\n",
              "      <td>-0.227691</td>\n",
              "      <td>-0.105790</td>\n",
              "      <td>-0.130051</td>\n",
              "      <td>-0.008735</td>\n",
              "      <td>-0.178515</td>\n",
              "      <td>0.070873</td>\n",
              "      <td>0.273606</td>\n",
              "      <td>-0.079978</td>\n",
              "      <td>0.000297</td>\n",
              "    </tr>\n",
              "    <tr>\n",
              "      <th>wheelbase</th>\n",
              "      <td>0.129729</td>\n",
              "      <td>-0.531954</td>\n",
              "      <td>1.000000</td>\n",
              "      <td>0.874587</td>\n",
              "      <td>0.795144</td>\n",
              "      <td>0.589435</td>\n",
              "      <td>0.776386</td>\n",
              "      <td>0.569329</td>\n",
              "      <td>0.488750</td>\n",
              "      <td>0.160959</td>\n",
              "      <td>0.249786</td>\n",
              "      <td>0.353294</td>\n",
              "      <td>-0.360469</td>\n",
              "      <td>0.577816</td>\n",
              "      <td>-0.511871</td>\n",
              "    </tr>\n",
              "    <tr>\n",
              "      <th>carlength</th>\n",
              "      <td>0.170636</td>\n",
              "      <td>-0.357612</td>\n",
              "      <td>0.874587</td>\n",
              "      <td>1.000000</td>\n",
              "      <td>0.841118</td>\n",
              "      <td>0.491029</td>\n",
              "      <td>0.877728</td>\n",
              "      <td>0.683360</td>\n",
              "      <td>0.606454</td>\n",
              "      <td>0.129533</td>\n",
              "      <td>0.158414</td>\n",
              "      <td>0.552623</td>\n",
              "      <td>-0.287242</td>\n",
              "      <td>0.682920</td>\n",
              "      <td>-0.693200</td>\n",
              "    </tr>\n",
              "    <tr>\n",
              "      <th>carwidth</th>\n",
              "      <td>0.052387</td>\n",
              "      <td>-0.232919</td>\n",
              "      <td>0.795144</td>\n",
              "      <td>0.841118</td>\n",
              "      <td>1.000000</td>\n",
              "      <td>0.279210</td>\n",
              "      <td>0.867032</td>\n",
              "      <td>0.735433</td>\n",
              "      <td>0.559150</td>\n",
              "      <td>0.182942</td>\n",
              "      <td>0.181129</td>\n",
              "      <td>0.640732</td>\n",
              "      <td>-0.220012</td>\n",
              "      <td>0.759325</td>\n",
              "      <td>-0.665184</td>\n",
              "    </tr>\n",
              "    <tr>\n",
              "      <th>carheight</th>\n",
              "      <td>0.255960</td>\n",
              "      <td>-0.541038</td>\n",
              "      <td>0.589435</td>\n",
              "      <td>0.491029</td>\n",
              "      <td>0.279210</td>\n",
              "      <td>1.000000</td>\n",
              "      <td>0.295572</td>\n",
              "      <td>0.067149</td>\n",
              "      <td>0.171071</td>\n",
              "      <td>-0.055307</td>\n",
              "      <td>0.261214</td>\n",
              "      <td>-0.108802</td>\n",
              "      <td>-0.320411</td>\n",
              "      <td>0.119336</td>\n",
              "      <td>-0.079321</td>\n",
              "    </tr>\n",
              "    <tr>\n",
              "      <th>curbweight</th>\n",
              "      <td>0.071962</td>\n",
              "      <td>-0.227691</td>\n",
              "      <td>0.776386</td>\n",
              "      <td>0.877728</td>\n",
              "      <td>0.867032</td>\n",
              "      <td>0.295572</td>\n",
              "      <td>1.000000</td>\n",
              "      <td>0.850594</td>\n",
              "      <td>0.648480</td>\n",
              "      <td>0.168790</td>\n",
              "      <td>0.151362</td>\n",
              "      <td>0.750739</td>\n",
              "      <td>-0.266243</td>\n",
              "      <td>0.835305</td>\n",
              "      <td>-0.783584</td>\n",
              "    </tr>\n",
              "    <tr>\n",
              "      <th>enginesize</th>\n",
              "      <td>-0.033930</td>\n",
              "      <td>-0.105790</td>\n",
              "      <td>0.569329</td>\n",
              "      <td>0.683360</td>\n",
              "      <td>0.735433</td>\n",
              "      <td>0.067149</td>\n",
              "      <td>0.850594</td>\n",
              "      <td>1.000000</td>\n",
              "      <td>0.583774</td>\n",
              "      <td>0.203129</td>\n",
              "      <td>0.028971</td>\n",
              "      <td>0.809769</td>\n",
              "      <td>-0.244660</td>\n",
              "      <td>0.874145</td>\n",
              "      <td>-0.670689</td>\n",
              "    </tr>\n",
              "    <tr>\n",
              "      <th>boreratio</th>\n",
              "      <td>0.260064</td>\n",
              "      <td>-0.130051</td>\n",
              "      <td>0.488750</td>\n",
              "      <td>0.606454</td>\n",
              "      <td>0.559150</td>\n",
              "      <td>0.171071</td>\n",
              "      <td>0.648480</td>\n",
              "      <td>0.583774</td>\n",
              "      <td>1.000000</td>\n",
              "      <td>-0.055909</td>\n",
              "      <td>0.005197</td>\n",
              "      <td>0.573677</td>\n",
              "      <td>-0.254976</td>\n",
              "      <td>0.553173</td>\n",
              "      <td>-0.590044</td>\n",
              "    </tr>\n",
              "    <tr>\n",
              "      <th>stroke</th>\n",
              "      <td>-0.160824</td>\n",
              "      <td>-0.008735</td>\n",
              "      <td>0.160959</td>\n",
              "      <td>0.129533</td>\n",
              "      <td>0.182942</td>\n",
              "      <td>-0.055307</td>\n",
              "      <td>0.168790</td>\n",
              "      <td>0.203129</td>\n",
              "      <td>-0.055909</td>\n",
              "      <td>1.000000</td>\n",
              "      <td>0.186110</td>\n",
              "      <td>0.080940</td>\n",
              "      <td>-0.067964</td>\n",
              "      <td>0.079443</td>\n",
              "      <td>-0.043372</td>\n",
              "    </tr>\n",
              "    <tr>\n",
              "      <th>compressionratio</th>\n",
              "      <td>0.150276</td>\n",
              "      <td>-0.178515</td>\n",
              "      <td>0.249786</td>\n",
              "      <td>0.158414</td>\n",
              "      <td>0.181129</td>\n",
              "      <td>0.261214</td>\n",
              "      <td>0.151362</td>\n",
              "      <td>0.028971</td>\n",
              "      <td>0.005197</td>\n",
              "      <td>0.186110</td>\n",
              "      <td>1.000000</td>\n",
              "      <td>-0.204326</td>\n",
              "      <td>-0.435741</td>\n",
              "      <td>0.067984</td>\n",
              "      <td>0.296318</td>\n",
              "    </tr>\n",
              "    <tr>\n",
              "      <th>horsepower</th>\n",
              "      <td>-0.015006</td>\n",
              "      <td>0.070873</td>\n",
              "      <td>0.353294</td>\n",
              "      <td>0.552623</td>\n",
              "      <td>0.640732</td>\n",
              "      <td>-0.108802</td>\n",
              "      <td>0.750739</td>\n",
              "      <td>0.809769</td>\n",
              "      <td>0.573677</td>\n",
              "      <td>0.080940</td>\n",
              "      <td>-0.204326</td>\n",
              "      <td>1.000000</td>\n",
              "      <td>0.131073</td>\n",
              "      <td>0.808139</td>\n",
              "      <td>-0.791291</td>\n",
              "    </tr>\n",
              "    <tr>\n",
              "      <th>peakrpm</th>\n",
              "      <td>-0.203789</td>\n",
              "      <td>0.273606</td>\n",
              "      <td>-0.360469</td>\n",
              "      <td>-0.287242</td>\n",
              "      <td>-0.220012</td>\n",
              "      <td>-0.320411</td>\n",
              "      <td>-0.266243</td>\n",
              "      <td>-0.244660</td>\n",
              "      <td>-0.254976</td>\n",
              "      <td>-0.067964</td>\n",
              "      <td>-0.435741</td>\n",
              "      <td>0.131073</td>\n",
              "      <td>1.000000</td>\n",
              "      <td>-0.085267</td>\n",
              "      <td>-0.083752</td>\n",
              "    </tr>\n",
              "    <tr>\n",
              "      <th>price</th>\n",
              "      <td>-0.109093</td>\n",
              "      <td>-0.079978</td>\n",
              "      <td>0.577816</td>\n",
              "      <td>0.682920</td>\n",
              "      <td>0.759325</td>\n",
              "      <td>0.119336</td>\n",
              "      <td>0.835305</td>\n",
              "      <td>0.874145</td>\n",
              "      <td>0.553173</td>\n",
              "      <td>0.079443</td>\n",
              "      <td>0.067984</td>\n",
              "      <td>0.808139</td>\n",
              "      <td>-0.085267</td>\n",
              "      <td>1.000000</td>\n",
              "      <td>-0.696835</td>\n",
              "    </tr>\n",
              "    <tr>\n",
              "      <th>mpg</th>\n",
              "      <td>0.013636</td>\n",
              "      <td>0.000297</td>\n",
              "      <td>-0.511871</td>\n",
              "      <td>-0.693200</td>\n",
              "      <td>-0.665184</td>\n",
              "      <td>-0.079321</td>\n",
              "      <td>-0.783584</td>\n",
              "      <td>-0.670689</td>\n",
              "      <td>-0.590044</td>\n",
              "      <td>-0.043372</td>\n",
              "      <td>0.296318</td>\n",
              "      <td>-0.791291</td>\n",
              "      <td>-0.083752</td>\n",
              "      <td>-0.696835</td>\n",
              "      <td>1.000000</td>\n",
              "    </tr>\n",
              "  </tbody>\n",
              "</table>\n",
              "</div>"
            ],
            "text/plain": [
              "                    car_ID  symboling  wheelbase  ...   peakrpm     price       mpg\n",
              "car_ID            1.000000  -0.151621   0.129729  ... -0.203789 -0.109093  0.013636\n",
              "symboling        -0.151621   1.000000  -0.531954  ...  0.273606 -0.079978  0.000297\n",
              "wheelbase         0.129729  -0.531954   1.000000  ... -0.360469  0.577816 -0.511871\n",
              "carlength         0.170636  -0.357612   0.874587  ... -0.287242  0.682920 -0.693200\n",
              "carwidth          0.052387  -0.232919   0.795144  ... -0.220012  0.759325 -0.665184\n",
              "carheight         0.255960  -0.541038   0.589435  ... -0.320411  0.119336 -0.079321\n",
              "curbweight        0.071962  -0.227691   0.776386  ... -0.266243  0.835305 -0.783584\n",
              "enginesize       -0.033930  -0.105790   0.569329  ... -0.244660  0.874145 -0.670689\n",
              "boreratio         0.260064  -0.130051   0.488750  ... -0.254976  0.553173 -0.590044\n",
              "stroke           -0.160824  -0.008735   0.160959  ... -0.067964  0.079443 -0.043372\n",
              "compressionratio  0.150276  -0.178515   0.249786  ... -0.435741  0.067984  0.296318\n",
              "horsepower       -0.015006   0.070873   0.353294  ...  0.131073  0.808139 -0.791291\n",
              "peakrpm          -0.203789   0.273606  -0.360469  ...  1.000000 -0.085267 -0.083752\n",
              "price            -0.109093  -0.079978   0.577816  ... -0.085267  1.000000 -0.696835\n",
              "mpg               0.013636   0.000297  -0.511871  ... -0.083752 -0.696835  1.000000\n",
              "\n",
              "[15 rows x 15 columns]"
            ]
          },
          "metadata": {
            "tags": []
          },
          "execution_count": 462
        }
      ]
    },
    {
      "cell_type": "code",
      "metadata": {
        "id": "NFYv8w3pWiLy",
        "colab_type": "code",
        "colab": {
          "base_uri": "https://localhost:8080/",
          "height": 672
        },
        "outputId": "0c015117-f2b5-4fd6-a1d3-111ca015cb94"
      },
      "source": [
        "plt.figure(figsize = (15, 10))\n",
        "sns.heatmap(dataset.corr(), annot = True, cmap=\"plasma\")\n",
        "plt.show()"
      ],
      "execution_count": 463,
      "outputs": [
        {
          "output_type": "display_data",
          "data": {
            "image/png": "[encoded data removed]",
            "text/plain": [
              "<Figure size 1080x720 with 2 Axes>"
            ]
          },
          "metadata": {
            "tags": [],
            "needs_background": "light"
          }
        }
      ]
    },
    {
      "cell_type": "markdown",
      "metadata": {
        "id": "6XsY1m5476VK",
        "colab_type": "text"
      },
      "source": [
        "т.к. мы  изначально точно не знаем, какие параметры наиболее важны для нашей модели (хотя после описательного анализа уже +/- ясно что больше влияетна цену), предлагаю сделать разные наборы обучающих выборок"
      ]
    },
    {
      "cell_type": "markdown",
      "metadata": {
        "id": "A59NYaUE9Dpt",
        "colab_type": "text"
      },
      "source": [
        "cледующие параметры представляют наибольший интерес\n",
        "- Engine Type \n",
        "- Fuel type \n",
        "- Car Body \n",
        "- Aspiration \n",
        "- Cylinder Number \n",
        "- Drivewheel \n",
        "- Curbweight \n",
        "- Car Length\n",
        "- Car width\n",
        "- Engine Size \n",
        "- Boreratio \n",
        "- Horse Power \n",
        "- Wheel base \n",
        "- mpg"
      ]
    },
    {
      "cell_type": "markdown",
      "metadata": {
        "id": "7rYNeI0o9Sf7",
        "colab_type": "text"
      },
      "source": [
        "но, как мы уже убедились на стадии визуализации, некоторые из них весьма сильно коррелируют между собой, и, возможно, мы сможем уменьшить кол-во параметров"
      ]
    },
    {
      "cell_type": "code",
      "metadata": {
        "id": "Z-rNuuiM74yh",
        "colab_type": "code",
        "outputId": "32873668-fa5f-4380-d431-8b7b780bf44b",
        "colab": {
          "base_uri": "https://localhost:8080/",
          "height": 52
        }
      },
      "source": [
        "np.corrcoef(dataset['carlength'], dataset['carwidth'])"
      ],
      "execution_count": 464,
      "outputs": [
        {
          "output_type": "execute_result",
          "data": {
            "text/plain": [
              "array([[1.        , 0.84111827],\n",
              "       [0.84111827, 1.        ]])"
            ]
          },
          "metadata": {
            "tags": []
          },
          "execution_count": 464
        }
      ]
    },
    {
      "cell_type": "markdown",
      "metadata": {
        "id": "CR5k4fRR_lnx",
        "colab_type": "text"
      },
      "source": [
        "явный пример корреляции параметров"
      ]
    },
    {
      "cell_type": "code",
      "metadata": {
        "id": "iTHyEO-z-Aoz",
        "colab_type": "code",
        "colab": {}
      },
      "source": [
        "train1 = dataset[['price', 'fueltype', 'aspiration','carbody', 'drivewheel','wheelbase',\n",
        "                  'curbweight', 'enginetype', 'cylindernumber', 'enginesize', 'boreratio','horsepower', \n",
        "                    'mpg', 'carlength','carwidth']]"
      ],
      "execution_count": 0,
      "outputs": []
    },
    {
      "cell_type": "code",
      "metadata": {
        "id": "U4oFnl9u-9Ha",
        "colab_type": "code",
        "colab": {}
      },
      "source": [
        "train2 = dataset[['price', 'aspiration','carbody', 'drivewheel','wheelbase',\n",
        "                  'curbweight', 'enginetype', 'cylindernumber', 'enginesize', 'boreratio','horsepower', \n",
        "                    'mpg', 'carwidth']]"
      ],
      "execution_count": 0,
      "outputs": []
    },
    {
      "cell_type": "code",
      "metadata": {
        "id": "gAsygp50_Dry",
        "colab_type": "code",
        "colab": {}
      },
      "source": [
        "train3 = dataset[['price', 'fueltype', 'aspiration','carbody', 'drivewheel','wheelbase',\n",
        "                  'curbweight', 'enginetype', 'enginesize', 'boreratio','horsepower', \n",
        "                    'mpg', 'carlength','carwidth']]"
      ],
      "execution_count": 0,
      "outputs": []
    },
    {
      "cell_type": "code",
      "metadata": {
        "id": "jOTgXtfC_JuK",
        "colab_type": "code",
        "colab": {}
      },
      "source": [
        "train4 = dataset[['price', 'carbody', 'drivewheel','wheelbase',\n",
        "                  'curbweight', 'enginetype', 'cylindernumber', 'enginesize', 'boreratio','horsepower', \n",
        "                    'mpg', 'carwidth']]"
      ],
      "execution_count": 0,
      "outputs": []
    },
    {
      "cell_type": "markdown",
      "metadata": {
        "id": "zuzDog3I_ZNd",
        "colab_type": "text"
      },
      "source": [
        "# преобразование качественных признаков\n"
      ]
    },
    {
      "cell_type": "markdown",
      "metadata": {
        "id": "HSSyp06u0Frn",
        "colab_type": "text"
      },
      "source": [
        "преобразуем все значимые качественные признаки в бинарные используя метод get_dummies библиотеки pandas. т.к. качественных признаков у нас много, напишем для этого функцию"
      ]
    },
    {
      "cell_type": "code",
      "metadata": {
        "id": "-5obte4tzBDL",
        "colab_type": "code",
        "colab": {}
      },
      "source": [
        "def dummi(df, feature):\n",
        "    vector = pd.get_dummies(df[feature])      #преобразуем признак, имеющий n уникальных значений в бинарный вектор размера n\n",
        "    df = pd.concat([df, vector], axis = 1)    #добавляем вектор к датафрейму\n",
        "    df.drop([feature], axis = 1, inplace = True)  #удаляем качественный признак из дф\n",
        "    return df"
      ],
      "execution_count": 0,
      "outputs": []
    },
    {
      "cell_type": "code",
      "metadata": {
        "id": "TGeYdC_M2efe",
        "colab_type": "code",
        "outputId": "0863ac63-6926-4a3d-866f-7e8a937fd650",
        "colab": {
          "base_uri": "https://localhost:8080/",
          "height": 0
        }
      },
      "source": [
        "dataset.head()"
      ],
      "execution_count": 470,
      "outputs": [
        {
          "output_type": "execute_result",
          "data": {
            "text/html": [
              "<div>\n",
              "<style scoped>\n",
              "    .dataframe tbody tr th:only-of-type {\n",
              "        vertical-align: middle;\n",
              "    }\n",
              "\n",
              "    .dataframe tbody tr th {\n",
              "        vertical-align: top;\n",
              "    }\n",
              "\n",
              "    .dataframe thead th {\n",
              "        text-align: right;\n",
              "    }\n",
              "</style>\n",
              "<table border=\"1\" class=\"dataframe\">\n",
              "  <thead>\n",
              "    <tr style=\"text-align: right;\">\n",
              "      <th></th>\n",
              "      <th>car_ID</th>\n",
              "      <th>symboling</th>\n",
              "      <th>CarName</th>\n",
              "      <th>CompanyName</th>\n",
              "      <th>fueltype</th>\n",
              "      <th>aspiration</th>\n",
              "      <th>doornumber</th>\n",
              "      <th>carbody</th>\n",
              "      <th>drivewheel</th>\n",
              "      <th>enginelocation</th>\n",
              "      <th>wheelbase</th>\n",
              "      <th>carlength</th>\n",
              "      <th>carwidth</th>\n",
              "      <th>carheight</th>\n",
              "      <th>curbweight</th>\n",
              "      <th>enginetype</th>\n",
              "      <th>cylindernumber</th>\n",
              "      <th>enginesize</th>\n",
              "      <th>fuelsystem</th>\n",
              "      <th>boreratio</th>\n",
              "      <th>stroke</th>\n",
              "      <th>compressionratio</th>\n",
              "      <th>horsepower</th>\n",
              "      <th>peakrpm</th>\n",
              "      <th>price</th>\n",
              "      <th>mpg</th>\n",
              "    </tr>\n",
              "  </thead>\n",
              "  <tbody>\n",
              "    <tr>\n",
              "      <th>0</th>\n",
              "      <td>1</td>\n",
              "      <td>3</td>\n",
              "      <td>alfa-romero giulia</td>\n",
              "      <td>alfa-romero</td>\n",
              "      <td>gas</td>\n",
              "      <td>std</td>\n",
              "      <td>two</td>\n",
              "      <td>convertible</td>\n",
              "      <td>rwd</td>\n",
              "      <td>front</td>\n",
              "      <td>88.6</td>\n",
              "      <td>168.8</td>\n",
              "      <td>64.1</td>\n",
              "      <td>48.8</td>\n",
              "      <td>2548</td>\n",
              "      <td>dohc</td>\n",
              "      <td>four</td>\n",
              "      <td>130</td>\n",
              "      <td>mpfi</td>\n",
              "      <td>3.47</td>\n",
              "      <td>2.68</td>\n",
              "      <td>9.0</td>\n",
              "      <td>111</td>\n",
              "      <td>5000</td>\n",
              "      <td>13495.0</td>\n",
              "      <td>24.0</td>\n",
              "    </tr>\n",
              "    <tr>\n",
              "      <th>1</th>\n",
              "      <td>2</td>\n",
              "      <td>3</td>\n",
              "      <td>alfa-romero stelvio</td>\n",
              "      <td>alfa-romero</td>\n",
              "      <td>gas</td>\n",
              "      <td>std</td>\n",
              "      <td>two</td>\n",
              "      <td>convertible</td>\n",
              "      <td>rwd</td>\n",
              "      <td>front</td>\n",
              "      <td>88.6</td>\n",
              "      <td>168.8</td>\n",
              "      <td>64.1</td>\n",
              "      <td>48.8</td>\n",
              "      <td>2548</td>\n",
              "      <td>dohc</td>\n",
              "      <td>four</td>\n",
              "      <td>130</td>\n",
              "      <td>mpfi</td>\n",
              "      <td>3.47</td>\n",
              "      <td>2.68</td>\n",
              "      <td>9.0</td>\n",
              "      <td>111</td>\n",
              "      <td>5000</td>\n",
              "      <td>16500.0</td>\n",
              "      <td>24.0</td>\n",
              "    </tr>\n",
              "    <tr>\n",
              "      <th>2</th>\n",
              "      <td>3</td>\n",
              "      <td>1</td>\n",
              "      <td>alfa-romero Quadrifoglio</td>\n",
              "      <td>alfa-romero</td>\n",
              "      <td>gas</td>\n",
              "      <td>std</td>\n",
              "      <td>two</td>\n",
              "      <td>hatchback</td>\n",
              "      <td>rwd</td>\n",
              "      <td>front</td>\n",
              "      <td>94.5</td>\n",
              "      <td>171.2</td>\n",
              "      <td>65.5</td>\n",
              "      <td>52.4</td>\n",
              "      <td>2823</td>\n",
              "      <td>ohcv</td>\n",
              "      <td>six</td>\n",
              "      <td>152</td>\n",
              "      <td>mpfi</td>\n",
              "      <td>2.68</td>\n",
              "      <td>3.47</td>\n",
              "      <td>9.0</td>\n",
              "      <td>154</td>\n",
              "      <td>5000</td>\n",
              "      <td>16500.0</td>\n",
              "      <td>22.5</td>\n",
              "    </tr>\n",
              "    <tr>\n",
              "      <th>3</th>\n",
              "      <td>4</td>\n",
              "      <td>2</td>\n",
              "      <td>audi 100 ls</td>\n",
              "      <td>audi</td>\n",
              "      <td>gas</td>\n",
              "      <td>std</td>\n",
              "      <td>four</td>\n",
              "      <td>sedan</td>\n",
              "      <td>fwd</td>\n",
              "      <td>front</td>\n",
              "      <td>99.8</td>\n",
              "      <td>176.6</td>\n",
              "      <td>66.2</td>\n",
              "      <td>54.3</td>\n",
              "      <td>2337</td>\n",
              "      <td>ohc</td>\n",
              "      <td>four</td>\n",
              "      <td>109</td>\n",
              "      <td>mpfi</td>\n",
              "      <td>3.19</td>\n",
              "      <td>3.40</td>\n",
              "      <td>10.0</td>\n",
              "      <td>102</td>\n",
              "      <td>5500</td>\n",
              "      <td>13950.0</td>\n",
              "      <td>27.0</td>\n",
              "    </tr>\n",
              "    <tr>\n",
              "      <th>4</th>\n",
              "      <td>5</td>\n",
              "      <td>2</td>\n",
              "      <td>audi 100ls</td>\n",
              "      <td>audi</td>\n",
              "      <td>gas</td>\n",
              "      <td>std</td>\n",
              "      <td>four</td>\n",
              "      <td>sedan</td>\n",
              "      <td>4wd</td>\n",
              "      <td>front</td>\n",
              "      <td>99.4</td>\n",
              "      <td>176.6</td>\n",
              "      <td>66.4</td>\n",
              "      <td>54.3</td>\n",
              "      <td>2824</td>\n",
              "      <td>ohc</td>\n",
              "      <td>five</td>\n",
              "      <td>136</td>\n",
              "      <td>mpfi</td>\n",
              "      <td>3.19</td>\n",
              "      <td>3.40</td>\n",
              "      <td>8.0</td>\n",
              "      <td>115</td>\n",
              "      <td>5500</td>\n",
              "      <td>17450.0</td>\n",
              "      <td>20.0</td>\n",
              "    </tr>\n",
              "  </tbody>\n",
              "</table>\n",
              "</div>"
            ],
            "text/plain": [
              "   car_ID  symboling                   CarName  ... peakrpm    price   mpg\n",
              "0       1          3        alfa-romero giulia  ...    5000  13495.0  24.0\n",
              "1       2          3       alfa-romero stelvio  ...    5000  16500.0  24.0\n",
              "2       3          1  alfa-romero Quadrifoglio  ...    5000  16500.0  22.5\n",
              "3       4          2               audi 100 ls  ...    5500  13950.0  27.0\n",
              "4       5          2                audi 100ls  ...    5500  17450.0  20.0\n",
              "\n",
              "[5 rows x 26 columns]"
            ]
          },
          "metadata": {
            "tags": []
          },
          "execution_count": 470
        }
      ]
    },
    {
      "cell_type": "code",
      "metadata": {
        "id": "czO-bhLOzJk5",
        "colab_type": "code",
        "colab": {}
      },
      "source": [
        "#dataset = dummi (dataset, 'fueltype')\n",
        "#dataset = dummi(dataset, 'aspiration')\n",
        "#dataset = dummi(dataset, 'carbody')\n",
        "#dataset = dummi(dataset, 'drivewheel')\n",
        "#dataset = dummi(dataset, 'enginetype')\n",
        "#dataset = dummi(dataset, 'cylindernumber')\n",
        "#dataset = dummi(dataset, 'enginelocation')\n",
        "#dataset = dummi(dataset, 'fuelsystem')\n",
        "#dataset = dummi(dataset, 'doornumber')\n"
      ],
      "execution_count": 0,
      "outputs": []
    },
    {
      "cell_type": "code",
      "metadata": {
        "id": "V7Va_OIqzvQ3",
        "colab_type": "code",
        "colab": {}
      },
      "source": [
        "train1= dummi(train1, 'fueltype')\n",
        "train1= dummi(train1, 'aspiration')\n",
        "train1= dummi(train1, 'carbody')\n",
        "train1= dummi(train1, 'drivewheel')\n",
        "train1= dummi(train1, 'enginetype')\n",
        "train1= dummi(train1, 'cylindernumber')"
      ],
      "execution_count": 0,
      "outputs": []
    },
    {
      "cell_type": "code",
      "metadata": {
        "id": "BDztWl-S2Oiu",
        "colab_type": "code",
        "colab": {}
      },
      "source": [
        "train2= dummi(train2, 'aspiration')\n",
        "train2= dummi(train2, 'carbody')\n",
        "train2= dummi(train2, 'drivewheel')\n",
        "train2= dummi(train2, 'enginetype')\n",
        "train2= dummi(train2, 'cylindernumber')\n"
      ],
      "execution_count": 0,
      "outputs": []
    },
    {
      "cell_type": "code",
      "metadata": {
        "id": "oXKy8-tA23jM",
        "colab_type": "code",
        "colab": {}
      },
      "source": [
        "train3= dummi(train3, 'fueltype')\n",
        "train3= dummi(train3, 'aspiration')\n",
        "train3= dummi(train3, 'carbody')\n",
        "train3= dummi(train3, 'drivewheel')\n",
        "train3= dummi(train3, 'enginetype')"
      ],
      "execution_count": 0,
      "outputs": []
    },
    {
      "cell_type": "code",
      "metadata": {
        "id": "eKm3AGKL3W20",
        "colab_type": "code",
        "colab": {}
      },
      "source": [
        "train4= dummi(train4, 'carbody')\n",
        "train4= dummi(train4, 'drivewheel')\n",
        "train4= dummi(train4, 'enginetype')\n",
        "train4= dummi(train4, 'cylindernumber')"
      ],
      "execution_count": 0,
      "outputs": []
    },
    {
      "cell_type": "code",
      "metadata": {
        "id": "yRQQryr89Lfr",
        "colab_type": "code",
        "colab": {}
      },
      "source": [
        "training_ds = [train1, train2, train3, train4]"
      ],
      "execution_count": 0,
      "outputs": []
    },
    {
      "cell_type": "markdown",
      "metadata": {
        "id": "pZVKdIFiXPWr",
        "colab_type": "text"
      },
      "source": [
        "# выбор метрик\n"
      ]
    },
    {
      "cell_type": "markdown",
      "metadata": {
        "id": "OeiuG1wGXVt5",
        "colab_type": "text"
      },
      "source": [
        "Т.к. мы решаем задачу регрессии - основными метриками для нее являются коэффициент детерминации, среднеквадратическая ошибка и средняя абсолютная ошибка. т.к. последние две обладают накопитльным эффектом, основной метрикой, на которую я буду ориентироваться - является r^2"
      ]
    },
    {
      "cell_type": "markdown",
      "metadata": {
        "id": "QxjAEHT953ys",
        "colab_type": "text"
      },
      "source": [
        "# *построение моделей*"
      ]
    },
    {
      "cell_type": "markdown",
      "metadata": {
        "id": "ccIqkYFdHx3-",
        "colab_type": "text"
      },
      "source": [
        "обозначим все используемые модели"
      ]
    },
    {
      "cell_type": "code",
      "metadata": {
        "id": "aCVyrn2q7Z4s",
        "colab_type": "code",
        "colab": {}
      },
      "source": [
        "from sklearn.linear_model import LinearRegression\n",
        "from sklearn import tree\n",
        "from sklearn import svm\n",
        "from sklearn.ensemble import RandomForestRegressor\n",
        "from sklearn.ensemble import GradientBoostingRegressor\n",
        "\n",
        "SVM = svm.SVR()\n",
        "Linear = LinearRegression()\n",
        "Tree = tree.DecisionTreeRegressor()\n",
        "RF = RandomForestRegressor()\n",
        "GB = GradientBoostingRegressor()\n",
        "models = [SVM, Linear, Tree, RF, GB]"
      ],
      "execution_count": 0,
      "outputs": []
    },
    {
      "cell_type": "markdown",
      "metadata": {
        "id": "wXHk_qFv6JzV",
        "colab_type": "text"
      },
      "source": [
        "напишем функцию, которая будет строить модель и считать все необхожимые метрики\n"
      ]
    },
    {
      "cell_type": "code",
      "metadata": {
        "id": "00U2l6tingY3",
        "colab_type": "code",
        "colab": {}
      },
      "source": [
        "# импортируем метрики\n",
        "from sklearn.metrics import r2_score\n",
        "from sklearn.metrics import mean_squared_error\n",
        "from sklearn.metrics import mean_absolute_error\n",
        "\n",
        "def train(model, dataset):\n",
        "  t0 = time.time()                      \n",
        "  X = dataset.iloc[:, 1:].values\n",
        "  y = dataset.iloc[:, 0].values\n",
        "  X_train, X_test, y_train, y_test = train_test_split(X, y, test_size=0.3, random_state=40)\n",
        "  model.fit(X_train, y_train)\n",
        "  model.score(X_test, y_test)\n",
        "  y_pred = model.predict(X_test)\n",
        "  r2 = r2_score(y_test, y_pred)\n",
        "  mse = mean_squared_error(y_test, y_pred)\n",
        "  mae = mean_absolute_error (y_test, y_pred)\n",
        "  print(\"Модель:\", str(model)[:str(model).find('(')])\n",
        "  print(\"Время обучения модели:\", time.time() - t0, 'сeк.')\n",
        "  print('Точность модели:', r2)\n",
        "  print('MSE =', mse)\n",
        "  print('MAE =', mae)\n",
        "  print('\\n')"
      ],
      "execution_count": 0,
      "outputs": []
    },
    {
      "cell_type": "code",
      "metadata": {
        "id": "7pgkfSAI8Der",
        "colab_type": "code",
        "colab": {
          "base_uri": "https://localhost:8080/",
          "height": 0
        },
        "outputId": "4ee09475-ab56-4622-b60b-13414724d680"
      },
      "source": [
        "train(Linear, train1)"
      ],
      "execution_count": 479,
      "outputs": [
        {
          "output_type": "stream",
          "text": [
            "Модель: LinearRegression\n",
            "Время обучения модели: 0.007155179977416992 сeк.\n",
            "Точность модели: 0.6867680374215774\n",
            "MSE = 9931699.077883113\n",
            "MAE = 1958.8356220142387\n",
            "\n",
            "\n"
          ],
          "name": "stdout"
        }
      ]
    },
    {
      "cell_type": "markdown",
      "metadata": {
        "id": "voK56Nn6IQJS",
        "colab_type": "text"
      },
      "source": [
        "построим все модели разом, с помощью цикла"
      ]
    },
    {
      "cell_type": "code",
      "metadata": {
        "id": "xsunGiOS9XhU",
        "colab_type": "code",
        "colab": {
          "base_uri": "https://localhost:8080/",
          "height": 0
        },
        "outputId": "7a8523c2-d08d-4a1d-b3c9-1b616200d32b"
      },
      "source": [
        "\n",
        "for i in range (len(training_ds)):\n",
        "  print (\"Выборка \", i+1)\n",
        "  for model in models:\n",
        "    train(model, training_ds[i])"
      ],
      "execution_count": 480,
      "outputs": [
        {
          "output_type": "stream",
          "text": [
            "Выборка  1\n",
            "Модель: SVR\n",
            "Время обучения модели: 0.013123750686645508 сeк.\n",
            "Точность модели: 0.0005154084155811756\n",
            "MSE = 31690827.828951452\n",
            "MAE = 4363.376425106475\n",
            "\n",
            "\n",
            "Модель: LinearRegression\n",
            "Время обучения модели: 0.004540920257568359 сeк.\n",
            "Точность модели: 0.6867680374215774\n",
            "MSE = 9931699.077883113\n",
            "MAE = 1958.8356220142387\n",
            "\n",
            "\n",
            "Модель: DecisionTreeRegressor\n",
            "Время обучения модели: 0.004885673522949219 сeк.\n",
            "Точность модели: 0.7071696397442653\n",
            "MSE = 9284822.005353048\n",
            "MAE = 1788.5914032258065\n",
            "\n",
            "\n",
            "Модель: RandomForestRegressor\n",
            "Время обучения модели: 0.19934582710266113 сeк.\n",
            "Точность модели: 0.8483295787038116\n",
            "MSE = 4809039.827640067\n",
            "MAE = 1367.804596075269\n",
            "\n",
            "\n",
            "Модель: GradientBoostingRegressor\n",
            "Время обучения модели: 0.05760455131530762 сeк.\n",
            "Точность модели: 0.8234695275184921\n",
            "MSE = 5597281.69606545\n",
            "MAE = 1482.4096426707767\n",
            "\n",
            "\n",
            "Выборка  2\n",
            "Модель: SVR\n",
            "Время обучения модели: 0.008130550384521484 сeк.\n",
            "Точность модели: 0.0005215599651151592\n",
            "MSE = 31690632.78072479\n",
            "MAE = 4363.357688603248\n",
            "\n",
            "\n",
            "Модель: LinearRegression\n",
            "Время обучения модели: 0.003832578659057617 сeк.\n",
            "Точность модели: 0.7139284844123742\n",
            "MSE = 9070518.168652456\n",
            "MAE = 1918.126383254995\n",
            "\n",
            "\n",
            "Модель: DecisionTreeRegressor\n",
            "Время обучения модели: 0.0048732757568359375 сeк.\n",
            "Точность модели: 0.7178534646468049\n",
            "MSE = 8946068.153225806\n",
            "MAE = 1902.6129032258063\n",
            "\n",
            "\n",
            "Модель: RandomForestRegressor\n",
            "Время обучения модели: 0.17725586891174316 сeк.\n",
            "Точность модели: 0.820544002926757\n",
            "MSE = 5690041.801550487\n",
            "MAE = 1475.1719364976957\n",
            "\n",
            "\n",
            "Модель: GradientBoostingRegressor\n",
            "Время обучения модели: 0.054967641830444336 сeк.\n",
            "Точность модели: 0.7751858864248826\n",
            "MSE = 7128219.311048406\n",
            "MAE = 1601.2789598074025\n",
            "\n",
            "\n",
            "Выборка  3\n",
            "Модель: SVR\n",
            "Время обучения модели: 0.008504629135131836 сeк.\n",
            "Точность модели: 0.0005371426808501445\n",
            "MSE = 31690138.69690837\n",
            "MAE = 4363.309501270912\n",
            "\n",
            "\n",
            "Модель: LinearRegression\n",
            "Время обучения модели: 0.004671335220336914 сeк.\n",
            "Точность модели: 0.6955151365173438\n",
            "MSE = 9654353.320098817\n",
            "MAE = 2080.324176099736\n",
            "\n",
            "\n",
            "Модель: DecisionTreeRegressor\n",
            "Время обучения модели: 0.004368782043457031 сeк.\n",
            "Точность модели: 0.6823998519744521\n",
            "MSE = 10070201.87632079\n",
            "MAE = 1904.3978548387097\n",
            "\n",
            "\n",
            "Модель: RandomForestRegressor\n",
            "Время обучения модели: 0.18263864517211914 сeк.\n",
            "Точность модели: 0.8271211595917688\n",
            "MSE = 5481498.7772458205\n",
            "MAE = 1476.3318819354838\n",
            "\n",
            "\n",
            "Модель: GradientBoostingRegressor\n",
            "Время обучения модели: 0.05714988708496094 сeк.\n",
            "Точность модели: 0.8226795569717085\n",
            "MSE = 5622329.426464552\n",
            "MAE = 1493.539881733162\n",
            "\n",
            "\n",
            "Выборка  4\n",
            "Модель: SVR\n",
            "Время обучения модели: 0.009777069091796875 сeк.\n",
            "Точность модели: 0.0005271780174940233\n",
            "MSE = 31690454.648183107\n",
            "MAE = 4363.340390368955\n",
            "\n",
            "\n",
            "Модель: LinearRegression\n",
            "Время обучения модели: 0.004357337951660156 сeк.\n",
            "Точность модели: 0.730208684118646\n",
            "MSE = 8554319.109400796\n",
            "MAE = 1849.5913767209024\n",
            "\n",
            "\n",
            "Модель: DecisionTreeRegressor\n",
            "Время обучения модели: 0.004866123199462891 сeк.\n",
            "Точность модели: 0.7545890355916063\n",
            "MSE = 7781287.161290322\n",
            "MAE = 1764.2096774193549\n",
            "\n",
            "\n",
            "Модель: RandomForestRegressor\n",
            "Время обучения модели: 0.18582558631896973 сeк.\n",
            "Точность модели: 0.825694193946352\n",
            "MSE = 5526743.819508098\n",
            "MAE = 1465.0693375806454\n",
            "\n",
            "\n",
            "Модель: GradientBoostingRegressor\n",
            "Время обучения модели: 0.06390523910522461 сeк.\n",
            "Точность модели: 0.7703695613982328\n",
            "MSE = 7280931.3473048825\n",
            "MAE = 1552.2964416721543\n",
            "\n",
            "\n"
          ],
          "name": "stdout"
        }
      ]
    },
    {
      "cell_type": "markdown",
      "metadata": {
        "id": "4lFsFtfXFu2O",
        "colab_type": "text"
      },
      "source": [
        "мы имеем данные по всем моделям, но на них неудобно смотреть одновременно на все, а значит - неудобно сравнивать. Попробуем запихнуть все в одну таблицу"
      ]
    },
    {
      "cell_type": "markdown",
      "metadata": {
        "id": "JgYek9btFisL",
        "colab_type": "text"
      },
      "source": [
        "# построение сводной таблицы"
      ]
    },
    {
      "cell_type": "markdown",
      "metadata": {
        "id": "pWvi8rsfFod4",
        "colab_type": "text"
      },
      "source": [
        "заведем пустой датафрейм"
      ]
    },
    {
      "cell_type": "code",
      "metadata": {
        "id": "OU47nk1o_rDw",
        "colab_type": "code",
        "colab": {
          "base_uri": "https://localhost:8080/",
          "height": 0
        },
        "outputId": "811f87a9-0d1a-4705-9c53-9811fa444997"
      },
      "source": [
        "df1 =  pd.DataFrame(index=['pbp'], columns=['Выборка', 'Модель'], dtype=str)\n",
        "df2 =  pd.DataFrame(index=['pbp'], columns=['time', 'r2','MSE', 'MAE'], dtype=float)\n",
        "df = pd.concat([df1, df2], axis=1)\n",
        "df"
      ],
      "execution_count": 481,
      "outputs": [
        {
          "output_type": "execute_result",
          "data": {
            "text/html": [
              "<div>\n",
              "<style scoped>\n",
              "    .dataframe tbody tr th:only-of-type {\n",
              "        vertical-align: middle;\n",
              "    }\n",
              "\n",
              "    .dataframe tbody tr th {\n",
              "        vertical-align: top;\n",
              "    }\n",
              "\n",
              "    .dataframe thead th {\n",
              "        text-align: right;\n",
              "    }\n",
              "</style>\n",
              "<table border=\"1\" class=\"dataframe\">\n",
              "  <thead>\n",
              "    <tr style=\"text-align: right;\">\n",
              "      <th></th>\n",
              "      <th>Выборка</th>\n",
              "      <th>Модель</th>\n",
              "      <th>time</th>\n",
              "      <th>r2</th>\n",
              "      <th>MSE</th>\n",
              "      <th>MAE</th>\n",
              "    </tr>\n",
              "  </thead>\n",
              "  <tbody>\n",
              "    <tr>\n",
              "      <th>pbp</th>\n",
              "      <td>NaN</td>\n",
              "      <td>NaN</td>\n",
              "      <td>NaN</td>\n",
              "      <td>NaN</td>\n",
              "      <td>NaN</td>\n",
              "      <td>NaN</td>\n",
              "    </tr>\n",
              "  </tbody>\n",
              "</table>\n",
              "</div>"
            ],
            "text/plain": [
              "    Выборка Модель  time  r2  MSE  MAE\n",
              "pbp     NaN    NaN   NaN NaN  NaN  NaN"
            ]
          },
          "metadata": {
            "tags": []
          },
          "execution_count": 481
        }
      ]
    },
    {
      "cell_type": "markdown",
      "metadata": {
        "id": "9bjsNHCfGRKG",
        "colab_type": "text"
      },
      "source": [
        "нам понадобится функция, которая возвраает имя переменной (чтобы добавлять имя выборки в ДФ)"
      ]
    },
    {
      "cell_type": "code",
      "metadata": {
        "id": "_xL-u6I_EDso",
        "colab_type": "code",
        "colab": {}
      },
      "source": [
        "def get_name(x, g=globals()):\n",
        "    return ([n for n in g if id(g[n]) == id(x)])"
      ],
      "execution_count": 0,
      "outputs": []
    },
    {
      "cell_type": "markdown",
      "metadata": {
        "id": "ZjXssO4NGiA2",
        "colab_type": "text"
      },
      "source": [
        "перепишем функцию построения модели так, чтобы она записывала результаты сразу в ДФ"
      ]
    },
    {
      "cell_type": "code",
      "metadata": {
        "id": "39fS6q___Kwo",
        "colab_type": "code",
        "colab": {}
      },
      "source": [
        "def train_pd(model, dataset, df):\n",
        "  t0 = time.time()\n",
        "  X = dataset.iloc[:, 1:].values\n",
        "  y = dataset.iloc[:, 0].values\n",
        "  X_train, X_test, y_train, y_test = train_test_split(X, y, test_size=0.3, random_state=40)\n",
        "  model.fit(X_train, y_train)\n",
        "  model.score(X_test, y_test)\n",
        "  y_pred = model.predict(X_test)\n",
        "  r2 = r2_score(y_test, y_pred)\n",
        "  mse = mean_squared_error(y_test, y_pred)\n",
        "  mae = mean_absolute_error (y_test, y_pred)\n",
        "  df.loc[df.shape[0]] = [get_name(dataset), str(model)[:str(model).find('(')],  time.time() - t0, r2, mse, mae]"
      ],
      "execution_count": 0,
      "outputs": []
    },
    {
      "cell_type": "markdown",
      "metadata": {
        "id": "sHPW0TjOGooi",
        "colab_type": "text"
      },
      "source": [
        "обучим все модели на всех выборках"
      ]
    },
    {
      "cell_type": "code",
      "metadata": {
        "id": "2ZufLsU3Bt6T",
        "colab_type": "code",
        "colab": {}
      },
      "source": [
        "for i in range (len(training_ds)):\n",
        "  for model in models:\n",
        "    train_pd(model, training_ds[i], df)"
      ],
      "execution_count": 0,
      "outputs": []
    },
    {
      "cell_type": "code",
      "metadata": {
        "id": "GEm22T2UE2uH",
        "colab_type": "code",
        "colab": {
          "base_uri": "https://localhost:8080/",
          "height": 0
        },
        "outputId": "3e736a3c-0a8a-409d-e7ab-ea39013b9658"
      },
      "source": [
        "df"
      ],
      "execution_count": 485,
      "outputs": [
        {
          "output_type": "execute_result",
          "data": {
            "text/html": [
              "<div>\n",
              "<style scoped>\n",
              "    .dataframe tbody tr th:only-of-type {\n",
              "        vertical-align: middle;\n",
              "    }\n",
              "\n",
              "    .dataframe tbody tr th {\n",
              "        vertical-align: top;\n",
              "    }\n",
              "\n",
              "    .dataframe thead th {\n",
              "        text-align: right;\n",
              "    }\n",
              "</style>\n",
              "<table border=\"1\" class=\"dataframe\">\n",
              "  <thead>\n",
              "    <tr style=\"text-align: right;\">\n",
              "      <th></th>\n",
              "      <th>Выборка</th>\n",
              "      <th>Модель</th>\n",
              "      <th>time</th>\n",
              "      <th>r2</th>\n",
              "      <th>MSE</th>\n",
              "      <th>MAE</th>\n",
              "    </tr>\n",
              "  </thead>\n",
              "  <tbody>\n",
              "    <tr>\n",
              "      <th>pbp</th>\n",
              "      <td>NaN</td>\n",
              "      <td>NaN</td>\n",
              "      <td>NaN</td>\n",
              "      <td>NaN</td>\n",
              "      <td>NaN</td>\n",
              "      <td>NaN</td>\n",
              "    </tr>\n",
              "    <tr>\n",
              "      <th>1</th>\n",
              "      <td>[train1]</td>\n",
              "      <td>SVR</td>\n",
              "      <td>0.013084</td>\n",
              "      <td>0.000515</td>\n",
              "      <td>3.169083e+07</td>\n",
              "      <td>4363.376425</td>\n",
              "    </tr>\n",
              "    <tr>\n",
              "      <th>2</th>\n",
              "      <td>[train1]</td>\n",
              "      <td>LinearRegression</td>\n",
              "      <td>0.003654</td>\n",
              "      <td>0.686768</td>\n",
              "      <td>9.931699e+06</td>\n",
              "      <td>1958.835622</td>\n",
              "    </tr>\n",
              "    <tr>\n",
              "      <th>3</th>\n",
              "      <td>[train1]</td>\n",
              "      <td>DecisionTreeRegressor</td>\n",
              "      <td>0.004419</td>\n",
              "      <td>0.666115</td>\n",
              "      <td>1.058656e+07</td>\n",
              "      <td>1943.317210</td>\n",
              "    </tr>\n",
              "    <tr>\n",
              "      <th>4</th>\n",
              "      <td>[train1]</td>\n",
              "      <td>RandomForestRegressor</td>\n",
              "      <td>0.190399</td>\n",
              "      <td>0.835114</td>\n",
              "      <td>5.228080e+06</td>\n",
              "      <td>1422.479543</td>\n",
              "    </tr>\n",
              "    <tr>\n",
              "      <th>5</th>\n",
              "      <td>[train1]</td>\n",
              "      <td>GradientBoostingRegressor</td>\n",
              "      <td>0.060998</td>\n",
              "      <td>0.816712</td>\n",
              "      <td>5.811547e+06</td>\n",
              "      <td>1488.873014</td>\n",
              "    </tr>\n",
              "    <tr>\n",
              "      <th>6</th>\n",
              "      <td>[train2]</td>\n",
              "      <td>SVR</td>\n",
              "      <td>0.007264</td>\n",
              "      <td>0.000522</td>\n",
              "      <td>3.169063e+07</td>\n",
              "      <td>4363.357689</td>\n",
              "    </tr>\n",
              "    <tr>\n",
              "      <th>7</th>\n",
              "      <td>[train2]</td>\n",
              "      <td>LinearRegression</td>\n",
              "      <td>0.003585</td>\n",
              "      <td>0.713928</td>\n",
              "      <td>9.070518e+06</td>\n",
              "      <td>1918.126383</td>\n",
              "    </tr>\n",
              "    <tr>\n",
              "      <th>8</th>\n",
              "      <td>[train2]</td>\n",
              "      <td>DecisionTreeRegressor</td>\n",
              "      <td>0.004236</td>\n",
              "      <td>0.695472</td>\n",
              "      <td>9.655711e+06</td>\n",
              "      <td>1952.034952</td>\n",
              "    </tr>\n",
              "    <tr>\n",
              "      <th>9</th>\n",
              "      <td>[train2]</td>\n",
              "      <td>RandomForestRegressor</td>\n",
              "      <td>0.179061</td>\n",
              "      <td>0.813430</td>\n",
              "      <td>5.915595e+06</td>\n",
              "      <td>1502.535064</td>\n",
              "    </tr>\n",
              "    <tr>\n",
              "      <th>10</th>\n",
              "      <td>[train2]</td>\n",
              "      <td>GradientBoostingRegressor</td>\n",
              "      <td>0.053168</td>\n",
              "      <td>0.776305</td>\n",
              "      <td>7.092745e+06</td>\n",
              "      <td>1587.537011</td>\n",
              "    </tr>\n",
              "    <tr>\n",
              "      <th>11</th>\n",
              "      <td>[train3]</td>\n",
              "      <td>SVR</td>\n",
              "      <td>0.006908</td>\n",
              "      <td>0.000537</td>\n",
              "      <td>3.169014e+07</td>\n",
              "      <td>4363.309501</td>\n",
              "    </tr>\n",
              "    <tr>\n",
              "      <th>12</th>\n",
              "      <td>[train3]</td>\n",
              "      <td>LinearRegression</td>\n",
              "      <td>0.003359</td>\n",
              "      <td>0.695515</td>\n",
              "      <td>9.654353e+06</td>\n",
              "      <td>2080.324176</td>\n",
              "    </tr>\n",
              "    <tr>\n",
              "      <th>13</th>\n",
              "      <td>[train3]</td>\n",
              "      <td>DecisionTreeRegressor</td>\n",
              "      <td>0.004054</td>\n",
              "      <td>0.641185</td>\n",
              "      <td>1.137700e+07</td>\n",
              "      <td>2074.365597</td>\n",
              "    </tr>\n",
              "    <tr>\n",
              "      <th>14</th>\n",
              "      <td>[train3]</td>\n",
              "      <td>RandomForestRegressor</td>\n",
              "      <td>0.197446</td>\n",
              "      <td>0.840449</td>\n",
              "      <td>5.058900e+06</td>\n",
              "      <td>1439.119516</td>\n",
              "    </tr>\n",
              "    <tr>\n",
              "      <th>15</th>\n",
              "      <td>[train3]</td>\n",
              "      <td>GradientBoostingRegressor</td>\n",
              "      <td>0.060449</td>\n",
              "      <td>0.813244</td>\n",
              "      <td>5.921514e+06</td>\n",
              "      <td>1497.199829</td>\n",
              "    </tr>\n",
              "    <tr>\n",
              "      <th>16</th>\n",
              "      <td>[train4]</td>\n",
              "      <td>SVR</td>\n",
              "      <td>0.007507</td>\n",
              "      <td>0.000527</td>\n",
              "      <td>3.169045e+07</td>\n",
              "      <td>4363.340390</td>\n",
              "    </tr>\n",
              "    <tr>\n",
              "      <th>17</th>\n",
              "      <td>[train4]</td>\n",
              "      <td>LinearRegression</td>\n",
              "      <td>0.003650</td>\n",
              "      <td>0.730209</td>\n",
              "      <td>8.554319e+06</td>\n",
              "      <td>1849.591377</td>\n",
              "    </tr>\n",
              "    <tr>\n",
              "      <th>18</th>\n",
              "      <td>[train4]</td>\n",
              "      <td>DecisionTreeRegressor</td>\n",
              "      <td>0.004632</td>\n",
              "      <td>0.749238</td>\n",
              "      <td>7.950949e+06</td>\n",
              "      <td>1778.454306</td>\n",
              "    </tr>\n",
              "    <tr>\n",
              "      <th>19</th>\n",
              "      <td>[train4]</td>\n",
              "      <td>RandomForestRegressor</td>\n",
              "      <td>0.182947</td>\n",
              "      <td>0.829039</td>\n",
              "      <td>5.420676e+06</td>\n",
              "      <td>1439.732570</td>\n",
              "    </tr>\n",
              "    <tr>\n",
              "      <th>20</th>\n",
              "      <td>[train4]</td>\n",
              "      <td>GradientBoostingRegressor</td>\n",
              "      <td>0.054043</td>\n",
              "      <td>0.776659</td>\n",
              "      <td>7.081519e+06</td>\n",
              "      <td>1546.209479</td>\n",
              "    </tr>\n",
              "  </tbody>\n",
              "</table>\n",
              "</div>"
            ],
            "text/plain": [
              "      Выборка                     Модель  ...           MSE          MAE\n",
              "pbp       NaN                        NaN  ...           NaN          NaN\n",
              "1    [train1]                        SVR  ...  3.169083e+07  4363.376425\n",
              "2    [train1]           LinearRegression  ...  9.931699e+06  1958.835622\n",
              "3    [train1]      DecisionTreeRegressor  ...  1.058656e+07  1943.317210\n",
              "4    [train1]      RandomForestRegressor  ...  5.228080e+06  1422.479543\n",
              "5    [train1]  GradientBoostingRegressor  ...  5.811547e+06  1488.873014\n",
              "6    [train2]                        SVR  ...  3.169063e+07  4363.357689\n",
              "7    [train2]           LinearRegression  ...  9.070518e+06  1918.126383\n",
              "8    [train2]      DecisionTreeRegressor  ...  9.655711e+06  1952.034952\n",
              "9    [train2]      RandomForestRegressor  ...  5.915595e+06  1502.535064\n",
              "10   [train2]  GradientBoostingRegressor  ...  7.092745e+06  1587.537011\n",
              "11   [train3]                        SVR  ...  3.169014e+07  4363.309501\n",
              "12   [train3]           LinearRegression  ...  9.654353e+06  2080.324176\n",
              "13   [train3]      DecisionTreeRegressor  ...  1.137700e+07  2074.365597\n",
              "14   [train3]      RandomForestRegressor  ...  5.058900e+06  1439.119516\n",
              "15   [train3]  GradientBoostingRegressor  ...  5.921514e+06  1497.199829\n",
              "16   [train4]                        SVR  ...  3.169045e+07  4363.340390\n",
              "17   [train4]           LinearRegression  ...  8.554319e+06  1849.591377\n",
              "18   [train4]      DecisionTreeRegressor  ...  7.950949e+06  1778.454306\n",
              "19   [train4]      RandomForestRegressor  ...  5.420676e+06  1439.732570\n",
              "20   [train4]  GradientBoostingRegressor  ...  7.081519e+06  1546.209479\n",
              "\n",
              "[21 rows x 6 columns]"
            ]
          },
          "metadata": {
            "tags": []
          },
          "execution_count": 485
        }
      ]
    },
    {
      "cell_type": "code",
      "metadata": {
        "id": "L9PlV4U5HOFJ",
        "colab_type": "code",
        "colab": {
          "base_uri": "https://localhost:8080/",
          "height": 0
        },
        "outputId": "95768405-861a-4409-c0c5-24580576e53f"
      },
      "source": [
        "df['r2'].max()"
      ],
      "execution_count": 486,
      "outputs": [
        {
          "output_type": "execute_result",
          "data": {
            "text/plain": [
              "0.8404493408600027"
            ]
          },
          "metadata": {
            "tags": []
          },
          "execution_count": 486
        }
      ]
    },
    {
      "cell_type": "markdown",
      "metadata": {
        "id": "yokBFtZUMjCS",
        "colab_type": "text"
      },
      "source": [
        "т.к. от запуска к запуску точность RF и GB изменяется, а точность опорных векторов очень мала, то ориентируясь на значения точности линейной регрессии и дерева решений (которые постоянны), можно сделать вывод, что признаки, используемые в 4ой выборке дают наиболее точный результат.\n",
        "\n",
        "время обучения во всех случаях ничтожно мало, не будем его учитывать\n"
      ]
    },
    {
      "cell_type": "markdown",
      "metadata": {
        "id": "05oD07mtNNn0",
        "colab_type": "text"
      },
      "source": [
        "на всех выборках наилучший скор дает модель случайного леса"
      ]
    },
    {
      "cell_type": "markdown",
      "metadata": {
        "id": "o0N__Rze5W5W",
        "colab_type": "text"
      },
      "source": [
        "# выборка 1"
      ]
    },
    {
      "cell_type": "code",
      "metadata": {
        "id": "2bdTT1qk5nnF",
        "colab_type": "code",
        "outputId": "438163d0-16ac-49c3-9280-e7bd41bccd1e",
        "colab": {
          "base_uri": "https://localhost:8080/",
          "height": 0
        }
      },
      "source": [
        "train1.head()"
      ],
      "execution_count": 487,
      "outputs": [
        {
          "output_type": "execute_result",
          "data": {
            "text/html": [
              "<div>\n",
              "<style scoped>\n",
              "    .dataframe tbody tr th:only-of-type {\n",
              "        vertical-align: middle;\n",
              "    }\n",
              "\n",
              "    .dataframe tbody tr th {\n",
              "        vertical-align: top;\n",
              "    }\n",
              "\n",
              "    .dataframe thead th {\n",
              "        text-align: right;\n",
              "    }\n",
              "</style>\n",
              "<table border=\"1\" class=\"dataframe\">\n",
              "  <thead>\n",
              "    <tr style=\"text-align: right;\">\n",
              "      <th></th>\n",
              "      <th>price</th>\n",
              "      <th>wheelbase</th>\n",
              "      <th>curbweight</th>\n",
              "      <th>enginesize</th>\n",
              "      <th>boreratio</th>\n",
              "      <th>horsepower</th>\n",
              "      <th>mpg</th>\n",
              "      <th>carlength</th>\n",
              "      <th>carwidth</th>\n",
              "      <th>diesel</th>\n",
              "      <th>gas</th>\n",
              "      <th>std</th>\n",
              "      <th>turbo</th>\n",
              "      <th>convertible</th>\n",
              "      <th>hardtop</th>\n",
              "      <th>hatchback</th>\n",
              "      <th>sedan</th>\n",
              "      <th>wagon</th>\n",
              "      <th>4wd</th>\n",
              "      <th>fwd</th>\n",
              "      <th>rwd</th>\n",
              "      <th>dohc</th>\n",
              "      <th>dohcv</th>\n",
              "      <th>l</th>\n",
              "      <th>ohc</th>\n",
              "      <th>ohcf</th>\n",
              "      <th>ohcv</th>\n",
              "      <th>rotor</th>\n",
              "      <th>eight</th>\n",
              "      <th>five</th>\n",
              "      <th>four</th>\n",
              "      <th>six</th>\n",
              "      <th>three</th>\n",
              "      <th>twelve</th>\n",
              "      <th>two</th>\n",
              "    </tr>\n",
              "  </thead>\n",
              "  <tbody>\n",
              "    <tr>\n",
              "      <th>0</th>\n",
              "      <td>13495.0</td>\n",
              "      <td>88.6</td>\n",
              "      <td>2548</td>\n",
              "      <td>130</td>\n",
              "      <td>3.47</td>\n",
              "      <td>111</td>\n",
              "      <td>24.0</td>\n",
              "      <td>168.8</td>\n",
              "      <td>64.1</td>\n",
              "      <td>0</td>\n",
              "      <td>1</td>\n",
              "      <td>1</td>\n",
              "      <td>0</td>\n",
              "      <td>1</td>\n",
              "      <td>0</td>\n",
              "      <td>0</td>\n",
              "      <td>0</td>\n",
              "      <td>0</td>\n",
              "      <td>0</td>\n",
              "      <td>0</td>\n",
              "      <td>1</td>\n",
              "      <td>1</td>\n",
              "      <td>0</td>\n",
              "      <td>0</td>\n",
              "      <td>0</td>\n",
              "      <td>0</td>\n",
              "      <td>0</td>\n",
              "      <td>0</td>\n",
              "      <td>0</td>\n",
              "      <td>0</td>\n",
              "      <td>1</td>\n",
              "      <td>0</td>\n",
              "      <td>0</td>\n",
              "      <td>0</td>\n",
              "      <td>0</td>\n",
              "    </tr>\n",
              "    <tr>\n",
              "      <th>1</th>\n",
              "      <td>16500.0</td>\n",
              "      <td>88.6</td>\n",
              "      <td>2548</td>\n",
              "      <td>130</td>\n",
              "      <td>3.47</td>\n",
              "      <td>111</td>\n",
              "      <td>24.0</td>\n",
              "      <td>168.8</td>\n",
              "      <td>64.1</td>\n",
              "      <td>0</td>\n",
              "      <td>1</td>\n",
              "      <td>1</td>\n",
              "      <td>0</td>\n",
              "      <td>1</td>\n",
              "      <td>0</td>\n",
              "      <td>0</td>\n",
              "      <td>0</td>\n",
              "      <td>0</td>\n",
              "      <td>0</td>\n",
              "      <td>0</td>\n",
              "      <td>1</td>\n",
              "      <td>1</td>\n",
              "      <td>0</td>\n",
              "      <td>0</td>\n",
              "      <td>0</td>\n",
              "      <td>0</td>\n",
              "      <td>0</td>\n",
              "      <td>0</td>\n",
              "      <td>0</td>\n",
              "      <td>0</td>\n",
              "      <td>1</td>\n",
              "      <td>0</td>\n",
              "      <td>0</td>\n",
              "      <td>0</td>\n",
              "      <td>0</td>\n",
              "    </tr>\n",
              "    <tr>\n",
              "      <th>2</th>\n",
              "      <td>16500.0</td>\n",
              "      <td>94.5</td>\n",
              "      <td>2823</td>\n",
              "      <td>152</td>\n",
              "      <td>2.68</td>\n",
              "      <td>154</td>\n",
              "      <td>22.5</td>\n",
              "      <td>171.2</td>\n",
              "      <td>65.5</td>\n",
              "      <td>0</td>\n",
              "      <td>1</td>\n",
              "      <td>1</td>\n",
              "      <td>0</td>\n",
              "      <td>0</td>\n",
              "      <td>0</td>\n",
              "      <td>1</td>\n",
              "      <td>0</td>\n",
              "      <td>0</td>\n",
              "      <td>0</td>\n",
              "      <td>0</td>\n",
              "      <td>1</td>\n",
              "      <td>0</td>\n",
              "      <td>0</td>\n",
              "      <td>0</td>\n",
              "      <td>0</td>\n",
              "      <td>0</td>\n",
              "      <td>1</td>\n",
              "      <td>0</td>\n",
              "      <td>0</td>\n",
              "      <td>0</td>\n",
              "      <td>0</td>\n",
              "      <td>1</td>\n",
              "      <td>0</td>\n",
              "      <td>0</td>\n",
              "      <td>0</td>\n",
              "    </tr>\n",
              "    <tr>\n",
              "      <th>3</th>\n",
              "      <td>13950.0</td>\n",
              "      <td>99.8</td>\n",
              "      <td>2337</td>\n",
              "      <td>109</td>\n",
              "      <td>3.19</td>\n",
              "      <td>102</td>\n",
              "      <td>27.0</td>\n",
              "      <td>176.6</td>\n",
              "      <td>66.2</td>\n",
              "      <td>0</td>\n",
              "      <td>1</td>\n",
              "      <td>1</td>\n",
              "      <td>0</td>\n",
              "      <td>0</td>\n",
              "      <td>0</td>\n",
              "      <td>0</td>\n",
              "      <td>1</td>\n",
              "      <td>0</td>\n",
              "      <td>0</td>\n",
              "      <td>1</td>\n",
              "      <td>0</td>\n",
              "      <td>0</td>\n",
              "      <td>0</td>\n",
              "      <td>0</td>\n",
              "      <td>1</td>\n",
              "      <td>0</td>\n",
              "      <td>0</td>\n",
              "      <td>0</td>\n",
              "      <td>0</td>\n",
              "      <td>0</td>\n",
              "      <td>1</td>\n",
              "      <td>0</td>\n",
              "      <td>0</td>\n",
              "      <td>0</td>\n",
              "      <td>0</td>\n",
              "    </tr>\n",
              "    <tr>\n",
              "      <th>4</th>\n",
              "      <td>17450.0</td>\n",
              "      <td>99.4</td>\n",
              "      <td>2824</td>\n",
              "      <td>136</td>\n",
              "      <td>3.19</td>\n",
              "      <td>115</td>\n",
              "      <td>20.0</td>\n",
              "      <td>176.6</td>\n",
              "      <td>66.4</td>\n",
              "      <td>0</td>\n",
              "      <td>1</td>\n",
              "      <td>1</td>\n",
              "      <td>0</td>\n",
              "      <td>0</td>\n",
              "      <td>0</td>\n",
              "      <td>0</td>\n",
              "      <td>1</td>\n",
              "      <td>0</td>\n",
              "      <td>1</td>\n",
              "      <td>0</td>\n",
              "      <td>0</td>\n",
              "      <td>0</td>\n",
              "      <td>0</td>\n",
              "      <td>0</td>\n",
              "      <td>1</td>\n",
              "      <td>0</td>\n",
              "      <td>0</td>\n",
              "      <td>0</td>\n",
              "      <td>0</td>\n",
              "      <td>1</td>\n",
              "      <td>0</td>\n",
              "      <td>0</td>\n",
              "      <td>0</td>\n",
              "      <td>0</td>\n",
              "      <td>0</td>\n",
              "    </tr>\n",
              "  </tbody>\n",
              "</table>\n",
              "</div>"
            ],
            "text/plain": [
              "     price  wheelbase  curbweight  enginesize  ...  six  three  twelve  two\n",
              "0  13495.0       88.6        2548         130  ...    0      0       0    0\n",
              "1  16500.0       88.6        2548         130  ...    0      0       0    0\n",
              "2  16500.0       94.5        2823         152  ...    1      0       0    0\n",
              "3  13950.0       99.8        2337         109  ...    0      0       0    0\n",
              "4  17450.0       99.4        2824         136  ...    0      0       0    0\n",
              "\n",
              "[5 rows x 35 columns]"
            ]
          },
          "metadata": {
            "tags": []
          },
          "execution_count": 487
        }
      ]
    },
    {
      "cell_type": "code",
      "metadata": {
        "id": "jZtG1gOh5b-S",
        "colab_type": "code",
        "colab": {}
      },
      "source": [
        "X1 = train1.iloc[:, 1:].values\n",
        "y1 = train1.iloc[:, 0].values\n"
      ],
      "execution_count": 0,
      "outputs": []
    },
    {
      "cell_type": "code",
      "metadata": {
        "id": "SIY7BjqH-Y7w",
        "colab_type": "code",
        "outputId": "fcb582e9-57ff-4fd9-eae8-37bc4ababcdf",
        "colab": {
          "base_uri": "https://localhost:8080/",
          "height": 0
        }
      },
      "source": [
        "print(X1[0], y1[0])"
      ],
      "execution_count": 489,
      "outputs": [
        {
          "output_type": "stream",
          "text": [
            "[8.860e+01 2.548e+03 1.300e+02 3.470e+00 1.110e+02 2.400e+01 1.688e+02\n",
            " 6.410e+01 0.000e+00 1.000e+00 1.000e+00 0.000e+00 1.000e+00 0.000e+00\n",
            " 0.000e+00 0.000e+00 0.000e+00 0.000e+00 0.000e+00 1.000e+00 1.000e+00\n",
            " 0.000e+00 0.000e+00 0.000e+00 0.000e+00 0.000e+00 0.000e+00 0.000e+00\n",
            " 0.000e+00 1.000e+00 0.000e+00 0.000e+00 0.000e+00 0.000e+00] 13495.0\n"
          ],
          "name": "stdout"
        }
      ]
    },
    {
      "cell_type": "code",
      "metadata": {
        "id": "lbfW0lFGzudC",
        "colab_type": "code",
        "colab": {
          "base_uri": "https://localhost:8080/",
          "height": 0
        },
        "outputId": "04279e4c-3586-4634-d0f8-198a43c81b7a"
      },
      "source": [
        "for model in models:\n",
        "  train(model, train1)"
      ],
      "execution_count": 490,
      "outputs": [
        {
          "output_type": "stream",
          "text": [
            "Модель: SVR\n",
            "Время обучения модели: 0.013057708740234375 сeк.\n",
            "Точность модели: 0.0005154084155811756\n",
            "MSE = 31690827.828951452\n",
            "MAE = 4363.376425106475\n",
            "\n",
            "\n",
            "Модель: LinearRegression\n",
            "Время обучения модели: 0.007807016372680664 сeк.\n",
            "Точность модели: 0.6867680374215774\n",
            "MSE = 9931699.077883113\n",
            "MAE = 1958.8356220142387\n",
            "\n",
            "\n",
            "Модель: DecisionTreeRegressor\n",
            "Время обучения модели: 0.006098747253417969 сeк.\n",
            "Точность модели: 0.6642312103429193\n",
            "MSE = 10646278.084677419\n",
            "MAE = 1918.0403225806451\n",
            "\n",
            "\n",
            "Модель: RandomForestRegressor\n",
            "Время обучения модели: 0.1855311393737793 сeк.\n",
            "Точность модели: 0.8333256325220846\n",
            "MSE = 5284772.499462656\n",
            "MAE = 1433.8107795161288\n",
            "\n",
            "\n",
            "Модель: GradientBoostingRegressor\n",
            "Время обучения модели: 0.06154775619506836 сeк.\n",
            "Точность модели: 0.8110393413813327\n",
            "MSE = 5991407.720689877\n",
            "MAE = 1508.5878888440864\n",
            "\n",
            "\n"
          ],
          "name": "stdout"
        }
      ]
    },
    {
      "cell_type": "markdown",
      "metadata": {
        "colab_type": "text",
        "id": "yuMQFaibI3R7"
      },
      "source": [
        "# Выборка 2\n",
        "\n"
      ]
    },
    {
      "cell_type": "code",
      "metadata": {
        "colab_type": "code",
        "outputId": "3118d1a5-106b-487a-8348-2e3b1880b74f",
        "id": "LjmxSzebI3R8",
        "colab": {
          "base_uri": "https://localhost:8080/",
          "height": 0
        }
      },
      "source": [
        "train2.head()"
      ],
      "execution_count": 491,
      "outputs": [
        {
          "output_type": "execute_result",
          "data": {
            "text/html": [
              "<div>\n",
              "<style scoped>\n",
              "    .dataframe tbody tr th:only-of-type {\n",
              "        vertical-align: middle;\n",
              "    }\n",
              "\n",
              "    .dataframe tbody tr th {\n",
              "        vertical-align: top;\n",
              "    }\n",
              "\n",
              "    .dataframe thead th {\n",
              "        text-align: right;\n",
              "    }\n",
              "</style>\n",
              "<table border=\"1\" class=\"dataframe\">\n",
              "  <thead>\n",
              "    <tr style=\"text-align: right;\">\n",
              "      <th></th>\n",
              "      <th>price</th>\n",
              "      <th>wheelbase</th>\n",
              "      <th>curbweight</th>\n",
              "      <th>enginesize</th>\n",
              "      <th>boreratio</th>\n",
              "      <th>horsepower</th>\n",
              "      <th>mpg</th>\n",
              "      <th>carwidth</th>\n",
              "      <th>std</th>\n",
              "      <th>turbo</th>\n",
              "      <th>convertible</th>\n",
              "      <th>hardtop</th>\n",
              "      <th>hatchback</th>\n",
              "      <th>sedan</th>\n",
              "      <th>wagon</th>\n",
              "      <th>4wd</th>\n",
              "      <th>fwd</th>\n",
              "      <th>rwd</th>\n",
              "      <th>dohc</th>\n",
              "      <th>dohcv</th>\n",
              "      <th>l</th>\n",
              "      <th>ohc</th>\n",
              "      <th>ohcf</th>\n",
              "      <th>ohcv</th>\n",
              "      <th>rotor</th>\n",
              "      <th>eight</th>\n",
              "      <th>five</th>\n",
              "      <th>four</th>\n",
              "      <th>six</th>\n",
              "      <th>three</th>\n",
              "      <th>twelve</th>\n",
              "      <th>two</th>\n",
              "    </tr>\n",
              "  </thead>\n",
              "  <tbody>\n",
              "    <tr>\n",
              "      <th>0</th>\n",
              "      <td>13495.0</td>\n",
              "      <td>88.6</td>\n",
              "      <td>2548</td>\n",
              "      <td>130</td>\n",
              "      <td>3.47</td>\n",
              "      <td>111</td>\n",
              "      <td>24.0</td>\n",
              "      <td>64.1</td>\n",
              "      <td>1</td>\n",
              "      <td>0</td>\n",
              "      <td>1</td>\n",
              "      <td>0</td>\n",
              "      <td>0</td>\n",
              "      <td>0</td>\n",
              "      <td>0</td>\n",
              "      <td>0</td>\n",
              "      <td>0</td>\n",
              "      <td>1</td>\n",
              "      <td>1</td>\n",
              "      <td>0</td>\n",
              "      <td>0</td>\n",
              "      <td>0</td>\n",
              "      <td>0</td>\n",
              "      <td>0</td>\n",
              "      <td>0</td>\n",
              "      <td>0</td>\n",
              "      <td>0</td>\n",
              "      <td>1</td>\n",
              "      <td>0</td>\n",
              "      <td>0</td>\n",
              "      <td>0</td>\n",
              "      <td>0</td>\n",
              "    </tr>\n",
              "    <tr>\n",
              "      <th>1</th>\n",
              "      <td>16500.0</td>\n",
              "      <td>88.6</td>\n",
              "      <td>2548</td>\n",
              "      <td>130</td>\n",
              "      <td>3.47</td>\n",
              "      <td>111</td>\n",
              "      <td>24.0</td>\n",
              "      <td>64.1</td>\n",
              "      <td>1</td>\n",
              "      <td>0</td>\n",
              "      <td>1</td>\n",
              "      <td>0</td>\n",
              "      <td>0</td>\n",
              "      <td>0</td>\n",
              "      <td>0</td>\n",
              "      <td>0</td>\n",
              "      <td>0</td>\n",
              "      <td>1</td>\n",
              "      <td>1</td>\n",
              "      <td>0</td>\n",
              "      <td>0</td>\n",
              "      <td>0</td>\n",
              "      <td>0</td>\n",
              "      <td>0</td>\n",
              "      <td>0</td>\n",
              "      <td>0</td>\n",
              "      <td>0</td>\n",
              "      <td>1</td>\n",
              "      <td>0</td>\n",
              "      <td>0</td>\n",
              "      <td>0</td>\n",
              "      <td>0</td>\n",
              "    </tr>\n",
              "    <tr>\n",
              "      <th>2</th>\n",
              "      <td>16500.0</td>\n",
              "      <td>94.5</td>\n",
              "      <td>2823</td>\n",
              "      <td>152</td>\n",
              "      <td>2.68</td>\n",
              "      <td>154</td>\n",
              "      <td>22.5</td>\n",
              "      <td>65.5</td>\n",
              "      <td>1</td>\n",
              "      <td>0</td>\n",
              "      <td>0</td>\n",
              "      <td>0</td>\n",
              "      <td>1</td>\n",
              "      <td>0</td>\n",
              "      <td>0</td>\n",
              "      <td>0</td>\n",
              "      <td>0</td>\n",
              "      <td>1</td>\n",
              "      <td>0</td>\n",
              "      <td>0</td>\n",
              "      <td>0</td>\n",
              "      <td>0</td>\n",
              "      <td>0</td>\n",
              "      <td>1</td>\n",
              "      <td>0</td>\n",
              "      <td>0</td>\n",
              "      <td>0</td>\n",
              "      <td>0</td>\n",
              "      <td>1</td>\n",
              "      <td>0</td>\n",
              "      <td>0</td>\n",
              "      <td>0</td>\n",
              "    </tr>\n",
              "    <tr>\n",
              "      <th>3</th>\n",
              "      <td>13950.0</td>\n",
              "      <td>99.8</td>\n",
              "      <td>2337</td>\n",
              "      <td>109</td>\n",
              "      <td>3.19</td>\n",
              "      <td>102</td>\n",
              "      <td>27.0</td>\n",
              "      <td>66.2</td>\n",
              "      <td>1</td>\n",
              "      <td>0</td>\n",
              "      <td>0</td>\n",
              "      <td>0</td>\n",
              "      <td>0</td>\n",
              "      <td>1</td>\n",
              "      <td>0</td>\n",
              "      <td>0</td>\n",
              "      <td>1</td>\n",
              "      <td>0</td>\n",
              "      <td>0</td>\n",
              "      <td>0</td>\n",
              "      <td>0</td>\n",
              "      <td>1</td>\n",
              "      <td>0</td>\n",
              "      <td>0</td>\n",
              "      <td>0</td>\n",
              "      <td>0</td>\n",
              "      <td>0</td>\n",
              "      <td>1</td>\n",
              "      <td>0</td>\n",
              "      <td>0</td>\n",
              "      <td>0</td>\n",
              "      <td>0</td>\n",
              "    </tr>\n",
              "    <tr>\n",
              "      <th>4</th>\n",
              "      <td>17450.0</td>\n",
              "      <td>99.4</td>\n",
              "      <td>2824</td>\n",
              "      <td>136</td>\n",
              "      <td>3.19</td>\n",
              "      <td>115</td>\n",
              "      <td>20.0</td>\n",
              "      <td>66.4</td>\n",
              "      <td>1</td>\n",
              "      <td>0</td>\n",
              "      <td>0</td>\n",
              "      <td>0</td>\n",
              "      <td>0</td>\n",
              "      <td>1</td>\n",
              "      <td>0</td>\n",
              "      <td>1</td>\n",
              "      <td>0</td>\n",
              "      <td>0</td>\n",
              "      <td>0</td>\n",
              "      <td>0</td>\n",
              "      <td>0</td>\n",
              "      <td>1</td>\n",
              "      <td>0</td>\n",
              "      <td>0</td>\n",
              "      <td>0</td>\n",
              "      <td>0</td>\n",
              "      <td>1</td>\n",
              "      <td>0</td>\n",
              "      <td>0</td>\n",
              "      <td>0</td>\n",
              "      <td>0</td>\n",
              "      <td>0</td>\n",
              "    </tr>\n",
              "  </tbody>\n",
              "</table>\n",
              "</div>"
            ],
            "text/plain": [
              "     price  wheelbase  curbweight  enginesize  ...  six  three  twelve  two\n",
              "0  13495.0       88.6        2548         130  ...    0      0       0    0\n",
              "1  16500.0       88.6        2548         130  ...    0      0       0    0\n",
              "2  16500.0       94.5        2823         152  ...    1      0       0    0\n",
              "3  13950.0       99.8        2337         109  ...    0      0       0    0\n",
              "4  17450.0       99.4        2824         136  ...    0      0       0    0\n",
              "\n",
              "[5 rows x 32 columns]"
            ]
          },
          "metadata": {
            "tags": []
          },
          "execution_count": 491
        }
      ]
    },
    {
      "cell_type": "code",
      "metadata": {
        "id": "HUoPaBJ26kbb",
        "colab_type": "code",
        "colab": {
          "base_uri": "https://localhost:8080/",
          "height": 0
        },
        "outputId": "f6ac6934-de0c-4934-bef9-a4d400e20f7d"
      },
      "source": [
        "for model in models:\n",
        "  train(model, train2)"
      ],
      "execution_count": 492,
      "outputs": [
        {
          "output_type": "stream",
          "text": [
            "Модель: SVR\n",
            "Время обучения модели: 0.011940956115722656 сeк.\n",
            "Точность модели: 0.0005215599651151592\n",
            "MSE = 31690632.78072479\n",
            "MAE = 4363.357688603248\n",
            "\n",
            "\n",
            "Модель: LinearRegression\n",
            "Время обучения модели: 0.004737377166748047 сeк.\n",
            "Точность модели: 0.7139284844123742\n",
            "MSE = 9070518.168652456\n",
            "MAE = 1918.126383254995\n",
            "\n",
            "\n",
            "Модель: DecisionTreeRegressor\n",
            "Время обучения модели: 0.005574703216552734 сeк.\n",
            "Точность модели: 0.7635780609984968\n",
            "MSE = 7496270.604838709\n",
            "MAE = 1761.4516129032259\n",
            "\n",
            "\n",
            "Модель: RandomForestRegressor\n",
            "Время обучения модели: 0.1917407512664795 сeк.\n",
            "Точность модели: 0.8332870571209966\n",
            "MSE = 5285995.616261661\n",
            "MAE = 1421.9157132795694\n",
            "\n",
            "\n",
            "Модель: GradientBoostingRegressor\n",
            "Время обучения модели: 0.053992271423339844 сeк.\n",
            "Точность модели: 0.7718440433034531\n",
            "MSE = 7234179.698916619\n",
            "MAE = 1584.0137731810034\n",
            "\n",
            "\n"
          ],
          "name": "stdout"
        }
      ]
    },
    {
      "cell_type": "markdown",
      "metadata": {
        "id": "adhyupMQ8sSL",
        "colab_type": "text"
      },
      "source": [
        "# Выборка 3\n"
      ]
    },
    {
      "cell_type": "code",
      "metadata": {
        "id": "dKNM9MiY8xgX",
        "colab_type": "code",
        "outputId": "56e0bf76-9b61-42c8-a293-5cbc5611894d",
        "colab": {
          "base_uri": "https://localhost:8080/",
          "height": 0
        }
      },
      "source": [
        "train3.head()"
      ],
      "execution_count": 493,
      "outputs": [
        {
          "output_type": "execute_result",
          "data": {
            "text/html": [
              "<div>\n",
              "<style scoped>\n",
              "    .dataframe tbody tr th:only-of-type {\n",
              "        vertical-align: middle;\n",
              "    }\n",
              "\n",
              "    .dataframe tbody tr th {\n",
              "        vertical-align: top;\n",
              "    }\n",
              "\n",
              "    .dataframe thead th {\n",
              "        text-align: right;\n",
              "    }\n",
              "</style>\n",
              "<table border=\"1\" class=\"dataframe\">\n",
              "  <thead>\n",
              "    <tr style=\"text-align: right;\">\n",
              "      <th></th>\n",
              "      <th>price</th>\n",
              "      <th>wheelbase</th>\n",
              "      <th>curbweight</th>\n",
              "      <th>enginesize</th>\n",
              "      <th>boreratio</th>\n",
              "      <th>horsepower</th>\n",
              "      <th>mpg</th>\n",
              "      <th>carlength</th>\n",
              "      <th>carwidth</th>\n",
              "      <th>diesel</th>\n",
              "      <th>gas</th>\n",
              "      <th>std</th>\n",
              "      <th>turbo</th>\n",
              "      <th>convertible</th>\n",
              "      <th>hardtop</th>\n",
              "      <th>hatchback</th>\n",
              "      <th>sedan</th>\n",
              "      <th>wagon</th>\n",
              "      <th>4wd</th>\n",
              "      <th>fwd</th>\n",
              "      <th>rwd</th>\n",
              "      <th>dohc</th>\n",
              "      <th>dohcv</th>\n",
              "      <th>l</th>\n",
              "      <th>ohc</th>\n",
              "      <th>ohcf</th>\n",
              "      <th>ohcv</th>\n",
              "      <th>rotor</th>\n",
              "    </tr>\n",
              "  </thead>\n",
              "  <tbody>\n",
              "    <tr>\n",
              "      <th>0</th>\n",
              "      <td>13495.0</td>\n",
              "      <td>88.6</td>\n",
              "      <td>2548</td>\n",
              "      <td>130</td>\n",
              "      <td>3.47</td>\n",
              "      <td>111</td>\n",
              "      <td>24.0</td>\n",
              "      <td>168.8</td>\n",
              "      <td>64.1</td>\n",
              "      <td>0</td>\n",
              "      <td>1</td>\n",
              "      <td>1</td>\n",
              "      <td>0</td>\n",
              "      <td>1</td>\n",
              "      <td>0</td>\n",
              "      <td>0</td>\n",
              "      <td>0</td>\n",
              "      <td>0</td>\n",
              "      <td>0</td>\n",
              "      <td>0</td>\n",
              "      <td>1</td>\n",
              "      <td>1</td>\n",
              "      <td>0</td>\n",
              "      <td>0</td>\n",
              "      <td>0</td>\n",
              "      <td>0</td>\n",
              "      <td>0</td>\n",
              "      <td>0</td>\n",
              "    </tr>\n",
              "    <tr>\n",
              "      <th>1</th>\n",
              "      <td>16500.0</td>\n",
              "      <td>88.6</td>\n",
              "      <td>2548</td>\n",
              "      <td>130</td>\n",
              "      <td>3.47</td>\n",
              "      <td>111</td>\n",
              "      <td>24.0</td>\n",
              "      <td>168.8</td>\n",
              "      <td>64.1</td>\n",
              "      <td>0</td>\n",
              "      <td>1</td>\n",
              "      <td>1</td>\n",
              "      <td>0</td>\n",
              "      <td>1</td>\n",
              "      <td>0</td>\n",
              "      <td>0</td>\n",
              "      <td>0</td>\n",
              "      <td>0</td>\n",
              "      <td>0</td>\n",
              "      <td>0</td>\n",
              "      <td>1</td>\n",
              "      <td>1</td>\n",
              "      <td>0</td>\n",
              "      <td>0</td>\n",
              "      <td>0</td>\n",
              "      <td>0</td>\n",
              "      <td>0</td>\n",
              "      <td>0</td>\n",
              "    </tr>\n",
              "    <tr>\n",
              "      <th>2</th>\n",
              "      <td>16500.0</td>\n",
              "      <td>94.5</td>\n",
              "      <td>2823</td>\n",
              "      <td>152</td>\n",
              "      <td>2.68</td>\n",
              "      <td>154</td>\n",
              "      <td>22.5</td>\n",
              "      <td>171.2</td>\n",
              "      <td>65.5</td>\n",
              "      <td>0</td>\n",
              "      <td>1</td>\n",
              "      <td>1</td>\n",
              "      <td>0</td>\n",
              "      <td>0</td>\n",
              "      <td>0</td>\n",
              "      <td>1</td>\n",
              "      <td>0</td>\n",
              "      <td>0</td>\n",
              "      <td>0</td>\n",
              "      <td>0</td>\n",
              "      <td>1</td>\n",
              "      <td>0</td>\n",
              "      <td>0</td>\n",
              "      <td>0</td>\n",
              "      <td>0</td>\n",
              "      <td>0</td>\n",
              "      <td>1</td>\n",
              "      <td>0</td>\n",
              "    </tr>\n",
              "    <tr>\n",
              "      <th>3</th>\n",
              "      <td>13950.0</td>\n",
              "      <td>99.8</td>\n",
              "      <td>2337</td>\n",
              "      <td>109</td>\n",
              "      <td>3.19</td>\n",
              "      <td>102</td>\n",
              "      <td>27.0</td>\n",
              "      <td>176.6</td>\n",
              "      <td>66.2</td>\n",
              "      <td>0</td>\n",
              "      <td>1</td>\n",
              "      <td>1</td>\n",
              "      <td>0</td>\n",
              "      <td>0</td>\n",
              "      <td>0</td>\n",
              "      <td>0</td>\n",
              "      <td>1</td>\n",
              "      <td>0</td>\n",
              "      <td>0</td>\n",
              "      <td>1</td>\n",
              "      <td>0</td>\n",
              "      <td>0</td>\n",
              "      <td>0</td>\n",
              "      <td>0</td>\n",
              "      <td>1</td>\n",
              "      <td>0</td>\n",
              "      <td>0</td>\n",
              "      <td>0</td>\n",
              "    </tr>\n",
              "    <tr>\n",
              "      <th>4</th>\n",
              "      <td>17450.0</td>\n",
              "      <td>99.4</td>\n",
              "      <td>2824</td>\n",
              "      <td>136</td>\n",
              "      <td>3.19</td>\n",
              "      <td>115</td>\n",
              "      <td>20.0</td>\n",
              "      <td>176.6</td>\n",
              "      <td>66.4</td>\n",
              "      <td>0</td>\n",
              "      <td>1</td>\n",
              "      <td>1</td>\n",
              "      <td>0</td>\n",
              "      <td>0</td>\n",
              "      <td>0</td>\n",
              "      <td>0</td>\n",
              "      <td>1</td>\n",
              "      <td>0</td>\n",
              "      <td>1</td>\n",
              "      <td>0</td>\n",
              "      <td>0</td>\n",
              "      <td>0</td>\n",
              "      <td>0</td>\n",
              "      <td>0</td>\n",
              "      <td>1</td>\n",
              "      <td>0</td>\n",
              "      <td>0</td>\n",
              "      <td>0</td>\n",
              "    </tr>\n",
              "  </tbody>\n",
              "</table>\n",
              "</div>"
            ],
            "text/plain": [
              "     price  wheelbase  curbweight  enginesize  ...  ohc  ohcf  ohcv  rotor\n",
              "0  13495.0       88.6        2548         130  ...    0     0     0      0\n",
              "1  16500.0       88.6        2548         130  ...    0     0     0      0\n",
              "2  16500.0       94.5        2823         152  ...    0     0     1      0\n",
              "3  13950.0       99.8        2337         109  ...    1     0     0      0\n",
              "4  17450.0       99.4        2824         136  ...    1     0     0      0\n",
              "\n",
              "[5 rows x 28 columns]"
            ]
          },
          "metadata": {
            "tags": []
          },
          "execution_count": 493
        }
      ]
    },
    {
      "cell_type": "code",
      "metadata": {
        "id": "MOh2CqaKIXLb",
        "colab_type": "code",
        "outputId": "d30a84a1-35ce-405c-e310-664bbf5b5abd",
        "colab": {
          "base_uri": "https://localhost:8080/",
          "height": 0
        }
      },
      "source": [
        "for model in models:\n",
        "  train(model, train3)"
      ],
      "execution_count": 494,
      "outputs": [
        {
          "output_type": "stream",
          "text": [
            "Модель: SVR\n",
            "Время обучения модели: 0.013686180114746094 сeк.\n",
            "Точность модели: 0.0005371426808501445\n",
            "MSE = 31690138.69690837\n",
            "MAE = 4363.309501270912\n",
            "\n",
            "\n",
            "Модель: LinearRegression\n",
            "Время обучения модели: 0.006070852279663086 сeк.\n",
            "Точность модели: 0.6955151365173438\n",
            "MSE = 9654353.320098817\n",
            "MAE = 2080.324176099736\n",
            "\n",
            "\n",
            "Модель: DecisionTreeRegressor\n",
            "Время обучения модели: 0.006777286529541016 сeк.\n",
            "Точность модели: 0.6327115775359918\n",
            "MSE = 11645676.439516129\n",
            "MAE = 2078.6532258064517\n",
            "\n",
            "\n",
            "Модель: RandomForestRegressor\n",
            "Время обучения модели: 0.19633841514587402 сeк.\n",
            "Точность модели: 0.8579122648859658\n",
            "MSE = 4505199.968081942\n",
            "MAE = 1348.7977553225805\n",
            "\n",
            "\n",
            "Модель: GradientBoostingRegressor\n",
            "Время обучения модели: 0.06349658966064453 сeк.\n",
            "Точность модели: 0.8046114827550545\n",
            "MSE = 6195216.926704056\n",
            "MAE = 1519.1264276690758\n",
            "\n",
            "\n"
          ],
          "name": "stdout"
        }
      ]
    },
    {
      "cell_type": "markdown",
      "metadata": {
        "colab_type": "text",
        "id": "UkdiGNYoI3H8"
      },
      "source": [
        "# Выборка 4\n"
      ]
    },
    {
      "cell_type": "code",
      "metadata": {
        "colab_type": "code",
        "outputId": "0a839297-44cb-4880-b247-8492746b807e",
        "id": "uZKdhAU2I3IC",
        "colab": {
          "base_uri": "https://localhost:8080/",
          "height": 222
        }
      },
      "source": [
        "train4.head()"
      ],
      "execution_count": 495,
      "outputs": [
        {
          "output_type": "execute_result",
          "data": {
            "text/html": [
              "<div>\n",
              "<style scoped>\n",
              "    .dataframe tbody tr th:only-of-type {\n",
              "        vertical-align: middle;\n",
              "    }\n",
              "\n",
              "    .dataframe tbody tr th {\n",
              "        vertical-align: top;\n",
              "    }\n",
              "\n",
              "    .dataframe thead th {\n",
              "        text-align: right;\n",
              "    }\n",
              "</style>\n",
              "<table border=\"1\" class=\"dataframe\">\n",
              "  <thead>\n",
              "    <tr style=\"text-align: right;\">\n",
              "      <th></th>\n",
              "      <th>price</th>\n",
              "      <th>wheelbase</th>\n",
              "      <th>curbweight</th>\n",
              "      <th>enginesize</th>\n",
              "      <th>boreratio</th>\n",
              "      <th>horsepower</th>\n",
              "      <th>mpg</th>\n",
              "      <th>carwidth</th>\n",
              "      <th>convertible</th>\n",
              "      <th>hardtop</th>\n",
              "      <th>hatchback</th>\n",
              "      <th>sedan</th>\n",
              "      <th>wagon</th>\n",
              "      <th>4wd</th>\n",
              "      <th>fwd</th>\n",
              "      <th>rwd</th>\n",
              "      <th>dohc</th>\n",
              "      <th>dohcv</th>\n",
              "      <th>l</th>\n",
              "      <th>ohc</th>\n",
              "      <th>ohcf</th>\n",
              "      <th>ohcv</th>\n",
              "      <th>rotor</th>\n",
              "      <th>eight</th>\n",
              "      <th>five</th>\n",
              "      <th>four</th>\n",
              "      <th>six</th>\n",
              "      <th>three</th>\n",
              "      <th>twelve</th>\n",
              "      <th>two</th>\n",
              "    </tr>\n",
              "  </thead>\n",
              "  <tbody>\n",
              "    <tr>\n",
              "      <th>0</th>\n",
              "      <td>13495.0</td>\n",
              "      <td>88.6</td>\n",
              "      <td>2548</td>\n",
              "      <td>130</td>\n",
              "      <td>3.47</td>\n",
              "      <td>111</td>\n",
              "      <td>24.0</td>\n",
              "      <td>64.1</td>\n",
              "      <td>1</td>\n",
              "      <td>0</td>\n",
              "      <td>0</td>\n",
              "      <td>0</td>\n",
              "      <td>0</td>\n",
              "      <td>0</td>\n",
              "      <td>0</td>\n",
              "      <td>1</td>\n",
              "      <td>1</td>\n",
              "      <td>0</td>\n",
              "      <td>0</td>\n",
              "      <td>0</td>\n",
              "      <td>0</td>\n",
              "      <td>0</td>\n",
              "      <td>0</td>\n",
              "      <td>0</td>\n",
              "      <td>0</td>\n",
              "      <td>1</td>\n",
              "      <td>0</td>\n",
              "      <td>0</td>\n",
              "      <td>0</td>\n",
              "      <td>0</td>\n",
              "    </tr>\n",
              "    <tr>\n",
              "      <th>1</th>\n",
              "      <td>16500.0</td>\n",
              "      <td>88.6</td>\n",
              "      <td>2548</td>\n",
              "      <td>130</td>\n",
              "      <td>3.47</td>\n",
              "      <td>111</td>\n",
              "      <td>24.0</td>\n",
              "      <td>64.1</td>\n",
              "      <td>1</td>\n",
              "      <td>0</td>\n",
              "      <td>0</td>\n",
              "      <td>0</td>\n",
              "      <td>0</td>\n",
              "      <td>0</td>\n",
              "      <td>0</td>\n",
              "      <td>1</td>\n",
              "      <td>1</td>\n",
              "      <td>0</td>\n",
              "      <td>0</td>\n",
              "      <td>0</td>\n",
              "      <td>0</td>\n",
              "      <td>0</td>\n",
              "      <td>0</td>\n",
              "      <td>0</td>\n",
              "      <td>0</td>\n",
              "      <td>1</td>\n",
              "      <td>0</td>\n",
              "      <td>0</td>\n",
              "      <td>0</td>\n",
              "      <td>0</td>\n",
              "    </tr>\n",
              "    <tr>\n",
              "      <th>2</th>\n",
              "      <td>16500.0</td>\n",
              "      <td>94.5</td>\n",
              "      <td>2823</td>\n",
              "      <td>152</td>\n",
              "      <td>2.68</td>\n",
              "      <td>154</td>\n",
              "      <td>22.5</td>\n",
              "      <td>65.5</td>\n",
              "      <td>0</td>\n",
              "      <td>0</td>\n",
              "      <td>1</td>\n",
              "      <td>0</td>\n",
              "      <td>0</td>\n",
              "      <td>0</td>\n",
              "      <td>0</td>\n",
              "      <td>1</td>\n",
              "      <td>0</td>\n",
              "      <td>0</td>\n",
              "      <td>0</td>\n",
              "      <td>0</td>\n",
              "      <td>0</td>\n",
              "      <td>1</td>\n",
              "      <td>0</td>\n",
              "      <td>0</td>\n",
              "      <td>0</td>\n",
              "      <td>0</td>\n",
              "      <td>1</td>\n",
              "      <td>0</td>\n",
              "      <td>0</td>\n",
              "      <td>0</td>\n",
              "    </tr>\n",
              "    <tr>\n",
              "      <th>3</th>\n",
              "      <td>13950.0</td>\n",
              "      <td>99.8</td>\n",
              "      <td>2337</td>\n",
              "      <td>109</td>\n",
              "      <td>3.19</td>\n",
              "      <td>102</td>\n",
              "      <td>27.0</td>\n",
              "      <td>66.2</td>\n",
              "      <td>0</td>\n",
              "      <td>0</td>\n",
              "      <td>0</td>\n",
              "      <td>1</td>\n",
              "      <td>0</td>\n",
              "      <td>0</td>\n",
              "      <td>1</td>\n",
              "      <td>0</td>\n",
              "      <td>0</td>\n",
              "      <td>0</td>\n",
              "      <td>0</td>\n",
              "      <td>1</td>\n",
              "      <td>0</td>\n",
              "      <td>0</td>\n",
              "      <td>0</td>\n",
              "      <td>0</td>\n",
              "      <td>0</td>\n",
              "      <td>1</td>\n",
              "      <td>0</td>\n",
              "      <td>0</td>\n",
              "      <td>0</td>\n",
              "      <td>0</td>\n",
              "    </tr>\n",
              "    <tr>\n",
              "      <th>4</th>\n",
              "      <td>17450.0</td>\n",
              "      <td>99.4</td>\n",
              "      <td>2824</td>\n",
              "      <td>136</td>\n",
              "      <td>3.19</td>\n",
              "      <td>115</td>\n",
              "      <td>20.0</td>\n",
              "      <td>66.4</td>\n",
              "      <td>0</td>\n",
              "      <td>0</td>\n",
              "      <td>0</td>\n",
              "      <td>1</td>\n",
              "      <td>0</td>\n",
              "      <td>1</td>\n",
              "      <td>0</td>\n",
              "      <td>0</td>\n",
              "      <td>0</td>\n",
              "      <td>0</td>\n",
              "      <td>0</td>\n",
              "      <td>1</td>\n",
              "      <td>0</td>\n",
              "      <td>0</td>\n",
              "      <td>0</td>\n",
              "      <td>0</td>\n",
              "      <td>1</td>\n",
              "      <td>0</td>\n",
              "      <td>0</td>\n",
              "      <td>0</td>\n",
              "      <td>0</td>\n",
              "      <td>0</td>\n",
              "    </tr>\n",
              "  </tbody>\n",
              "</table>\n",
              "</div>"
            ],
            "text/plain": [
              "     price  wheelbase  curbweight  enginesize  ...  six  three  twelve  two\n",
              "0  13495.0       88.6        2548         130  ...    0      0       0    0\n",
              "1  16500.0       88.6        2548         130  ...    0      0       0    0\n",
              "2  16500.0       94.5        2823         152  ...    1      0       0    0\n",
              "3  13950.0       99.8        2337         109  ...    0      0       0    0\n",
              "4  17450.0       99.4        2824         136  ...    0      0       0    0\n",
              "\n",
              "[5 rows x 30 columns]"
            ]
          },
          "metadata": {
            "tags": []
          },
          "execution_count": 495
        }
      ]
    },
    {
      "cell_type": "code",
      "metadata": {
        "colab_type": "code",
        "outputId": "9853cee3-b64a-440e-e81b-b2c61a0fdcbc",
        "id": "jYZSlp4bI3I0",
        "colab": {
          "base_uri": "https://localhost:8080/",
          "height": 624
        }
      },
      "source": [
        "for model in models:\n",
        "  train(model, train4)"
      ],
      "execution_count": 496,
      "outputs": [
        {
          "output_type": "stream",
          "text": [
            "Модель: SVR\n",
            "Время обучения модели: 0.012094259262084961 сeк.\n",
            "Точность модели: 0.0005271780174940233\n",
            "MSE = 31690454.648183107\n",
            "MAE = 4363.340390368955\n",
            "\n",
            "\n",
            "Модель: LinearRegression\n",
            "Время обучения модели: 0.004773378372192383 сeк.\n",
            "Точность модели: 0.730208684118646\n",
            "MSE = 8554319.109400796\n",
            "MAE = 1849.5913767209024\n",
            "\n",
            "\n",
            "Модель: DecisionTreeRegressor\n",
            "Время обучения модели: 0.0051097869873046875 сeк.\n",
            "Точность модели: 0.7139217119828718\n",
            "MSE = 9070732.903225806\n",
            "MAE = 1956.3709677419354\n",
            "\n",
            "\n",
            "Модель: RandomForestRegressor\n",
            "Время обучения модели: 0.17774701118469238 сeк.\n",
            "Точность модели: 0.8341872739095226\n",
            "MSE = 5257452.289536947\n",
            "MAE = 1422.4858777112136\n",
            "\n",
            "\n",
            "Модель: GradientBoostingRegressor\n",
            "Время обучения модели: 0.05557870864868164 сeк.\n",
            "Точность модели: 0.7767650688079688\n",
            "MSE = 7078147.906812386\n",
            "MAE = 1542.024667788182\n",
            "\n",
            "\n"
          ],
          "name": "stdout"
        }
      ]
    },
    {
      "cell_type": "markdown",
      "metadata": {
        "id": "CaUO328GUZws",
        "colab_type": "text"
      },
      "source": [
        "# Grid Search"
      ]
    },
    {
      "cell_type": "markdown",
      "metadata": {
        "id": "RZlbn00CNYQW",
        "colab_type": "text"
      },
      "source": [
        "беря во внимание все выше сказанное, проведем Grid Search на модели rf на 4ой подвыборке"
      ]
    },
    {
      "cell_type": "code",
      "metadata": {
        "id": "Yl_LY5btJjWT",
        "colab_type": "code",
        "colab": {
          "base_uri": "https://localhost:8080/",
          "height": 35
        },
        "outputId": "4927acdf-1c84-4c5d-a741-eec24be225ec"
      },
      "source": [
        "#cтандартная модель RF от sclearn\n",
        "X1 = train1.iloc[:, 1:].values\n",
        "y1 = train1.iloc[:, 0].values\n",
        "X_train, X_test, y_train, y_test = train_test_split(X1, y1, test_size=0.3, random_state=40)\n",
        "RF.fit(X_train, y_train)\n",
        "y_pred = RF.predict(X_test)\n",
        "RF.score(X_test, y_test)"
      ],
      "execution_count": 497,
      "outputs": [
        {
          "output_type": "execute_result",
          "data": {
            "text/plain": [
              "0.8446318968174278"
            ]
          },
          "metadata": {
            "tags": []
          },
          "execution_count": 497
        }
      ]
    },
    {
      "cell_type": "markdown",
      "metadata": {
        "id": "nds4alhBUsd5",
        "colab_type": "text"
      },
      "source": [
        "посмотрим на все параметры нашей модели"
      ]
    },
    {
      "cell_type": "code",
      "metadata": {
        "id": "QqYObLpePnla",
        "colab_type": "code",
        "colab": {
          "base_uri": "https://localhost:8080/",
          "height": 329
        },
        "outputId": "1fb3f01c-8348-4a0a-8745-5fc10bc5cf80"
      },
      "source": [
        "RF.get_params()"
      ],
      "execution_count": 498,
      "outputs": [
        {
          "output_type": "execute_result",
          "data": {
            "text/plain": [
              "{'bootstrap': True,\n",
              " 'ccp_alpha': 0.0,\n",
              " 'criterion': 'mse',\n",
              " 'max_depth': None,\n",
              " 'max_features': 'auto',\n",
              " 'max_leaf_nodes': None,\n",
              " 'max_samples': None,\n",
              " 'min_impurity_decrease': 0.0,\n",
              " 'min_impurity_split': None,\n",
              " 'min_samples_leaf': 1,\n",
              " 'min_samples_split': 2,\n",
              " 'min_weight_fraction_leaf': 0.0,\n",
              " 'n_estimators': 100,\n",
              " 'n_jobs': None,\n",
              " 'oob_score': False,\n",
              " 'random_state': None,\n",
              " 'verbose': 0,\n",
              " 'warm_start': False}"
            ]
          },
          "metadata": {
            "tags": []
          },
          "execution_count": 498
        }
      ]
    },
    {
      "cell_type": "markdown",
      "metadata": {
        "id": "eIRwJFYmUzVC",
        "colab_type": "text"
      },
      "source": [
        "зададим список возможных значения для некоторых параметров"
      ]
    },
    {
      "cell_type": "code",
      "metadata": {
        "id": "3yc2OehdOGPK",
        "colab_type": "code",
        "colab": {}
      },
      "source": [
        "parameters = {'ccp_alpha': [0.0, 0.05, 0.02],\n",
        "              'criterion': ['mse', \"mae\", 'r2'],               \n",
        "              'n_estimators': [x for x in range(100, 200, 10)],\n",
        "              \n",
        " }"
      ],
      "execution_count": 0,
      "outputs": []
    },
    {
      "cell_type": "code",
      "metadata": {
        "id": "fs6MWDkFOG29",
        "colab_type": "code",
        "colab": {
          "base_uri": "https://localhost:8080/",
          "height": 35
        },
        "outputId": "3884915e-1b93-4ece-b526-67d1b33ec965"
      },
      "source": [
        "RFclf = GridSearchCV(RF, parameters, n_jobs=-1)\n",
        "RFclf.fit(X_train, y_train)\n",
        "print(RFclf.score(X_test, y_test))"
      ],
      "execution_count": 500,
      "outputs": [
        {
          "output_type": "stream",
          "text": [
            "0.8456795065692881\n"
          ],
          "name": "stdout"
        }
      ]
    },
    {
      "cell_type": "code",
      "metadata": {
        "id": "B_hdDiCyQN0F",
        "colab_type": "code",
        "colab": {
          "base_uri": "https://localhost:8080/",
          "height": 139
        },
        "outputId": "c1b446ed-381f-440a-8945-5bec42399717"
      },
      "source": [
        "RFclf.best_estimator_"
      ],
      "execution_count": 501,
      "outputs": [
        {
          "output_type": "execute_result",
          "data": {
            "text/plain": [
              "RandomForestRegressor(bootstrap=True, ccp_alpha=0.02, criterion='mse',\n",
              "                      max_depth=None, max_features='auto', max_leaf_nodes=None,\n",
              "                      max_samples=None, min_impurity_decrease=0.0,\n",
              "                      min_impurity_split=None, min_samples_leaf=1,\n",
              "                      min_samples_split=2, min_weight_fraction_leaf=0.0,\n",
              "                      n_estimators=100, n_jobs=None, oob_score=False,\n",
              "                      random_state=None, verbose=0, warm_start=False)"
            ]
          },
          "metadata": {
            "tags": []
          },
          "execution_count": 501
        }
      ]
    },
    {
      "cell_type": "code",
      "metadata": {
        "id": "gIgNFz93RiZS",
        "colab_type": "code",
        "colab": {
          "base_uri": "https://localhost:8080/",
          "height": 35
        },
        "outputId": "ac097885-dfc8-4b41-c337-ca8edeea2141"
      },
      "source": [
        "RFclf.best_score_"
      ],
      "execution_count": 502,
      "outputs": [
        {
          "output_type": "execute_result",
          "data": {
            "text/plain": [
              "0.908033949001506"
            ]
          },
          "metadata": {
            "tags": []
          },
          "execution_count": 502
        }
      ]
    },
    {
      "cell_type": "code",
      "metadata": {
        "id": "VF2TQElBRksP",
        "colab_type": "code",
        "colab": {
          "base_uri": "https://localhost:8080/",
          "height": 35
        },
        "outputId": "5741c413-4f83-4da8-ce86-5b810f4ac0b5"
      },
      "source": [
        "RFclf.best_params_"
      ],
      "execution_count": 503,
      "outputs": [
        {
          "output_type": "execute_result",
          "data": {
            "text/plain": [
              "{'ccp_alpha': 0.02, 'criterion': 'mse', 'n_estimators': 100}"
            ]
          },
          "metadata": {
            "tags": []
          },
          "execution_count": 503
        }
      ]
    },
    {
      "cell_type": "markdown",
      "metadata": {
        "id": "3YoZSfNPVAWT",
        "colab_type": "text"
      },
      "source": [
        "**вывод:**\n",
        "* лучший результат 90% достигается при параметрах:\n",
        "альфа = 0.02 и числе деревьев = 140"
      ]
    }
  ]
}